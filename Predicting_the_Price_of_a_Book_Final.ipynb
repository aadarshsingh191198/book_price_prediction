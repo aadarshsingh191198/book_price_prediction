{
 "cells": [
  {
   "cell_type": "markdown",
   "metadata": {
    "colab_type": "text",
    "id": "PS-svIDpdGFJ"
   },
   "source": [
    "## Basic Imports"
   ]
  },
  {
   "cell_type": "code",
   "execution_count": 0,
   "metadata": {
    "colab": {},
    "colab_type": "code",
    "id": "fHHDGe97Ah0k"
   },
   "outputs": [],
   "source": [
    "from IPython.core.interactiveshell import InteractiveShell\n",
    "InteractiveShell.ast_node_interactivity = \"all\"\n",
    "\n",
    "import warnings\n",
    "warnings.simplefilter('ignore')"
   ]
  },
  {
   "cell_type": "code",
   "execution_count": 0,
   "metadata": {
    "colab": {},
    "colab_type": "code",
    "id": "S9UrRSPdAh0o"
   },
   "outputs": [],
   "source": [
    "import pandas as pd\n",
    "import numpy as np\n",
    "from matplotlib import pyplot as plt\n",
    "import seaborn as sns\n",
    "sns.set()\n",
    "import os, re\n",
    "from collections import Counter"
   ]
  },
  {
   "cell_type": "code",
   "execution_count": 0,
   "metadata": {
    "colab": {},
    "colab_type": "code",
    "id": "59M0C5rOAh0s"
   },
   "outputs": [],
   "source": [
    "from scipy.stats import norm"
   ]
  },
  {
   "cell_type": "code",
   "execution_count": 0,
   "metadata": {
    "colab": {},
    "colab_type": "code",
    "id": "L65SeUw-Ah0v"
   },
   "outputs": [],
   "source": [
    "from sklearn.metrics import mean_squared_error,mean_squared_log_error, r2_score\n",
    "from math import sqrt"
   ]
  },
  {
   "cell_type": "code",
   "execution_count": 0,
   "metadata": {
    "colab": {},
    "colab_type": "code",
    "id": "_jei7jKTXsVn"
   },
   "outputs": [],
   "source": [
    "from sklearn.decomposition import TruncatedSVD\n",
    "from sklearn.feature_extraction.text import TfidfVectorizer, TfidfTransformer"
   ]
  },
  {
   "cell_type": "code",
   "execution_count": 0,
   "metadata": {
    "colab": {},
    "colab_type": "code",
    "id": "-fy6MWgIX2R7"
   },
   "outputs": [],
   "source": [
    "import spacy \n",
    "en_nlp = spacy.load('en')\n",
    "def custom_tokenizer(document):\n",
    "    doc_spacy = en_nlp(document)\n",
    "    return [token.lemma_ for token in doc_spacy]"
   ]
  },
  {
   "cell_type": "markdown",
   "metadata": {
    "colab_type": "text",
    "id": "PRq5_QfUdMGl"
   },
   "source": [
    "## Data Loading"
   ]
  },
  {
   "cell_type": "code",
   "execution_count": 7,
   "metadata": {
    "colab": {
     "base_uri": "https://localhost:8080/",
     "height": 871
    },
    "colab_type": "code",
    "id": "AEFcl6tJAh0y",
    "outputId": "829129ee-8327-487d-a1bf-8569530b6c7c"
   },
   "outputs": [
    {
     "data": {
      "text/html": [
       "<div>\n",
       "<style scoped>\n",
       "    .dataframe tbody tr th:only-of-type {\n",
       "        vertical-align: middle;\n",
       "    }\n",
       "\n",
       "    .dataframe tbody tr th {\n",
       "        vertical-align: top;\n",
       "    }\n",
       "\n",
       "    .dataframe thead th {\n",
       "        text-align: right;\n",
       "    }\n",
       "</style>\n",
       "<table border=\"1\" class=\"dataframe\">\n",
       "  <thead>\n",
       "    <tr style=\"text-align: right;\">\n",
       "      <th></th>\n",
       "      <th>Title</th>\n",
       "      <th>Author</th>\n",
       "      <th>Edition</th>\n",
       "      <th>Reviews</th>\n",
       "      <th>Ratings</th>\n",
       "      <th>Synopsis</th>\n",
       "      <th>Genre</th>\n",
       "      <th>BookCategory</th>\n",
       "      <th>Price</th>\n",
       "    </tr>\n",
       "  </thead>\n",
       "  <tbody>\n",
       "    <tr>\n",
       "      <th>0</th>\n",
       "      <td>The Prisoner's Gold (The Hunters 3)</td>\n",
       "      <td>Chris Kuzneski</td>\n",
       "      <td>Paperback,– 10 Mar 2016</td>\n",
       "      <td>4.0 out of 5 stars</td>\n",
       "      <td>8 customer reviews</td>\n",
       "      <td>THE HUNTERS return in their third brilliant no...</td>\n",
       "      <td>Action &amp; Adventure (Books)</td>\n",
       "      <td>Action &amp; Adventure</td>\n",
       "      <td>220.00</td>\n",
       "    </tr>\n",
       "    <tr>\n",
       "      <th>1</th>\n",
       "      <td>Guru Dutt: A Tragedy in Three Acts</td>\n",
       "      <td>Arun Khopkar</td>\n",
       "      <td>Paperback,– 7 Nov 2012</td>\n",
       "      <td>3.9 out of 5 stars</td>\n",
       "      <td>14 customer reviews</td>\n",
       "      <td>A layered portrait of a troubled genius for wh...</td>\n",
       "      <td>Cinema &amp; Broadcast (Books)</td>\n",
       "      <td>Biographies, Diaries &amp; True Accounts</td>\n",
       "      <td>202.93</td>\n",
       "    </tr>\n",
       "    <tr>\n",
       "      <th>2</th>\n",
       "      <td>Leviathan (Penguin Classics)</td>\n",
       "      <td>Thomas Hobbes</td>\n",
       "      <td>Paperback,– 25 Feb 1982</td>\n",
       "      <td>4.8 out of 5 stars</td>\n",
       "      <td>6 customer reviews</td>\n",
       "      <td>\"During the time men live without a common Pow...</td>\n",
       "      <td>International Relations</td>\n",
       "      <td>Humour</td>\n",
       "      <td>299.00</td>\n",
       "    </tr>\n",
       "    <tr>\n",
       "      <th>3</th>\n",
       "      <td>A Pocket Full of Rye (Miss Marple)</td>\n",
       "      <td>Agatha Christie</td>\n",
       "      <td>Paperback,– 5 Oct 2017</td>\n",
       "      <td>4.1 out of 5 stars</td>\n",
       "      <td>13 customer reviews</td>\n",
       "      <td>A handful of grain is found in the pocket of a...</td>\n",
       "      <td>Contemporary Fiction (Books)</td>\n",
       "      <td>Crime, Thriller &amp; Mystery</td>\n",
       "      <td>180.00</td>\n",
       "    </tr>\n",
       "    <tr>\n",
       "      <th>4</th>\n",
       "      <td>LIFE 70 Years of Extraordinary Photography</td>\n",
       "      <td>Editors of Life</td>\n",
       "      <td>Hardcover,– 10 Oct 2006</td>\n",
       "      <td>5.0 out of 5 stars</td>\n",
       "      <td>1 customer review</td>\n",
       "      <td>For seven decades, \"Life\" has been thrilling t...</td>\n",
       "      <td>Photography Textbooks</td>\n",
       "      <td>Arts, Film &amp; Photography</td>\n",
       "      <td>965.62</td>\n",
       "    </tr>\n",
       "  </tbody>\n",
       "</table>\n",
       "</div>"
      ],
      "text/plain": [
       "                                        Title  ...   Price\n",
       "0         The Prisoner's Gold (The Hunters 3)  ...  220.00\n",
       "1          Guru Dutt: A Tragedy in Three Acts  ...  202.93\n",
       "2                Leviathan (Penguin Classics)  ...  299.00\n",
       "3          A Pocket Full of Rye (Miss Marple)  ...  180.00\n",
       "4  LIFE 70 Years of Extraordinary Photography  ...  965.62\n",
       "\n",
       "[5 rows x 9 columns]"
      ]
     },
     "execution_count": 7,
     "metadata": {
      "tags": []
     },
     "output_type": "execute_result"
    },
    {
     "data": {
      "text/html": [
       "<div>\n",
       "<style scoped>\n",
       "    .dataframe tbody tr th:only-of-type {\n",
       "        vertical-align: middle;\n",
       "    }\n",
       "\n",
       "    .dataframe tbody tr th {\n",
       "        vertical-align: top;\n",
       "    }\n",
       "\n",
       "    .dataframe thead th {\n",
       "        text-align: right;\n",
       "    }\n",
       "</style>\n",
       "<table border=\"1\" class=\"dataframe\">\n",
       "  <thead>\n",
       "    <tr style=\"text-align: right;\">\n",
       "      <th></th>\n",
       "      <th>Title</th>\n",
       "      <th>Author</th>\n",
       "      <th>Edition</th>\n",
       "      <th>Reviews</th>\n",
       "      <th>Ratings</th>\n",
       "      <th>Synopsis</th>\n",
       "      <th>Genre</th>\n",
       "      <th>BookCategory</th>\n",
       "    </tr>\n",
       "  </thead>\n",
       "  <tbody>\n",
       "    <tr>\n",
       "      <th>0</th>\n",
       "      <td>The Complete Sherlock Holmes: 2 Boxes sets</td>\n",
       "      <td>Sir Arthur Conan Doyle</td>\n",
       "      <td>Mass Market Paperback,– 1 Oct 1986</td>\n",
       "      <td>4.4 out of 5 stars</td>\n",
       "      <td>960 customer reviews</td>\n",
       "      <td>A collection of entire body of work of the She...</td>\n",
       "      <td>Short Stories (Books)</td>\n",
       "      <td>Crime, Thriller &amp; Mystery</td>\n",
       "    </tr>\n",
       "    <tr>\n",
       "      <th>1</th>\n",
       "      <td>Learn Docker - Fundamentals of Docker 18.x: Ev...</td>\n",
       "      <td>Gabriel N. Schenker</td>\n",
       "      <td>Paperback,– Import, 26 Apr 2018</td>\n",
       "      <td>5.0 out of 5 stars</td>\n",
       "      <td>1 customer review</td>\n",
       "      <td>Enhance your software deployment workflow usin...</td>\n",
       "      <td>Operating Systems Textbooks</td>\n",
       "      <td>Computing, Internet &amp; Digital Media</td>\n",
       "    </tr>\n",
       "    <tr>\n",
       "      <th>2</th>\n",
       "      <td>Big Girl</td>\n",
       "      <td>Danielle Steel</td>\n",
       "      <td>Paperback,– 17 Mar 2011</td>\n",
       "      <td>5.0 out of 5 stars</td>\n",
       "      <td>4 customer reviews</td>\n",
       "      <td>'Watch out, world. Here I come!'\\nFor Victoria...</td>\n",
       "      <td>Romance (Books)</td>\n",
       "      <td>Romance</td>\n",
       "    </tr>\n",
       "    <tr>\n",
       "      <th>3</th>\n",
       "      <td>Think Python: How to Think Like a Computer Sci...</td>\n",
       "      <td>Allen B. Downey</td>\n",
       "      <td>Paperback,– 2016</td>\n",
       "      <td>4.1 out of 5 stars</td>\n",
       "      <td>11 customer reviews</td>\n",
       "      <td>If you want to learn how to program, working w...</td>\n",
       "      <td>Programming &amp; Software Development (Books)</td>\n",
       "      <td>Computing, Internet &amp; Digital Media</td>\n",
       "    </tr>\n",
       "    <tr>\n",
       "      <th>4</th>\n",
       "      <td>Oxford Word Skills: Advanced - Idioms &amp; Phrasa...</td>\n",
       "      <td>Redman Gairns</td>\n",
       "      <td>Paperback,– 26 Dec 2011</td>\n",
       "      <td>4.4 out of 5 stars</td>\n",
       "      <td>9 customer reviews</td>\n",
       "      <td>Learn and practise the verbs, prepositions and...</td>\n",
       "      <td>Linguistics (Books)</td>\n",
       "      <td>Language, Linguistics &amp; Writing</td>\n",
       "    </tr>\n",
       "  </tbody>\n",
       "</table>\n",
       "</div>"
      ],
      "text/plain": [
       "                                               Title  ...                         BookCategory\n",
       "0         The Complete Sherlock Holmes: 2 Boxes sets  ...            Crime, Thriller & Mystery\n",
       "1  Learn Docker - Fundamentals of Docker 18.x: Ev...  ...  Computing, Internet & Digital Media\n",
       "2                                           Big Girl  ...                              Romance\n",
       "3  Think Python: How to Think Like a Computer Sci...  ...  Computing, Internet & Digital Media\n",
       "4  Oxford Word Skills: Advanced - Idioms & Phrasa...  ...      Language, Linguistics & Writing\n",
       "\n",
       "[5 rows x 8 columns]"
      ]
     },
     "execution_count": 7,
     "metadata": {
      "tags": []
     },
     "output_type": "execute_result"
    },
    {
     "data": {
      "text/html": [
       "<div>\n",
       "<style scoped>\n",
       "    .dataframe tbody tr th:only-of-type {\n",
       "        vertical-align: middle;\n",
       "    }\n",
       "\n",
       "    .dataframe tbody tr th {\n",
       "        vertical-align: top;\n",
       "    }\n",
       "\n",
       "    .dataframe thead th {\n",
       "        text-align: right;\n",
       "    }\n",
       "</style>\n",
       "<table border=\"1\" class=\"dataframe\">\n",
       "  <thead>\n",
       "    <tr style=\"text-align: right;\">\n",
       "      <th></th>\n",
       "      <th>Price</th>\n",
       "    </tr>\n",
       "  </thead>\n",
       "  <tbody>\n",
       "    <tr>\n",
       "      <th>0</th>\n",
       "      <td>119</td>\n",
       "    </tr>\n",
       "    <tr>\n",
       "      <th>1</th>\n",
       "      <td>123</td>\n",
       "    </tr>\n",
       "    <tr>\n",
       "      <th>2</th>\n",
       "      <td>108</td>\n",
       "    </tr>\n",
       "    <tr>\n",
       "      <th>3</th>\n",
       "      <td>118</td>\n",
       "    </tr>\n",
       "    <tr>\n",
       "      <th>4</th>\n",
       "      <td>132</td>\n",
       "    </tr>\n",
       "  </tbody>\n",
       "</table>\n",
       "</div>"
      ],
      "text/plain": [
       "   Price\n",
       "0    119\n",
       "1    123\n",
       "2    108\n",
       "3    118\n",
       "4    132"
      ]
     },
     "execution_count": 7,
     "metadata": {
      "tags": []
     },
     "output_type": "execute_result"
    }
   ],
   "source": [
    "train = pd.read_csv('train.csv', encoding = 'utf-8')\n",
    "test = pd.read_csv('test.csv', encoding = 'utf-8')\n",
    "submit = pd.read_csv('submission.csv')\n",
    "train.head()\n",
    "test.head()\n",
    "submit.head()"
   ]
  },
  {
   "cell_type": "code",
   "execution_count": 8,
   "metadata": {
    "colab": {
     "base_uri": "https://localhost:8080/",
     "height": 34
    },
    "colab_type": "code",
    "id": "beh5olV3Ah02",
    "outputId": "2d7c2a70-a491-437e-aa2a-702fa8674830"
   },
   "outputs": [
    {
     "data": {
      "text/plain": [
       "(6237, 9)"
      ]
     },
     "execution_count": 8,
     "metadata": {
      "tags": []
     },
     "output_type": "execute_result"
    },
    {
     "data": {
      "text/plain": [
       "(1560, 8)"
      ]
     },
     "execution_count": 8,
     "metadata": {
      "tags": []
     },
     "output_type": "execute_result"
    },
    {
     "data": {
      "text/plain": [
       "(1560, 1)"
      ]
     },
     "execution_count": 8,
     "metadata": {
      "tags": []
     },
     "output_type": "execute_result"
    }
   ],
   "source": [
    "train.shape\n",
    "test.shape\n",
    "submit.shape"
   ]
  },
  {
   "cell_type": "markdown",
   "metadata": {
    "colab_type": "text",
    "id": "f4XaMAASdUU-"
   },
   "source": [
    "# EDA"
   ]
  },
  {
   "cell_type": "code",
   "execution_count": 9,
   "metadata": {
    "colab": {
     "base_uri": "https://localhost:8080/",
     "height": 252
    },
    "colab_type": "code",
    "id": "Oua0kwO3Ah06",
    "outputId": "8d6c309a-ff61-45cb-d774-e2c5ecd02792"
   },
   "outputs": [
    {
     "name": "stdout",
     "output_type": "stream",
     "text": [
      "<class 'pandas.core.frame.DataFrame'>\n",
      "RangeIndex: 6237 entries, 0 to 6236\n",
      "Data columns (total 9 columns):\n",
      "Title           6237 non-null object\n",
      "Author          6237 non-null object\n",
      "Edition         6237 non-null object\n",
      "Reviews         6237 non-null object\n",
      "Ratings         6237 non-null object\n",
      "Synopsis        6237 non-null object\n",
      "Genre           6237 non-null object\n",
      "BookCategory    6237 non-null object\n",
      "Price           6237 non-null float64\n",
      "dtypes: float64(1), object(8)\n",
      "memory usage: 438.7+ KB\n"
     ]
    }
   ],
   "source": [
    "train.info()"
   ]
  },
  {
   "cell_type": "markdown",
   "metadata": {
    "colab_type": "text",
    "id": "0Cr04gY3Ah09"
   },
   "source": [
    "## Title Analysis"
   ]
  },
  {
   "cell_type": "code",
   "execution_count": 10,
   "metadata": {
    "colab": {
     "base_uri": "https://localhost:8080/",
     "height": 34
    },
    "colab_type": "code",
    "id": "_y0LKC4ZAh0-",
    "outputId": "16791059-60f1-4a96-d277-fb1fbdadfdf5"
   },
   "outputs": [
    {
     "data": {
      "text/plain": [
       "302"
      ]
     },
     "execution_count": 10,
     "metadata": {
      "tags": []
     },
     "output_type": "execute_result"
    }
   ],
   "source": [
    "len(set(train['Title']) & set(test['Title']))"
   ]
  },
  {
   "cell_type": "code",
   "execution_count": 11,
   "metadata": {
    "colab": {
     "base_uri": "https://localhost:8080/",
     "height": 34
    },
    "colab_type": "code",
    "id": "XbkzqK8LAh1A",
    "outputId": "3fc7e5d6-f7fb-49b0-a970-5aead82e3f3f"
   },
   "outputs": [
    {
     "data": {
      "text/plain": [
       "(377, 16)"
      ]
     },
     "execution_count": 11,
     "metadata": {
      "tags": []
     },
     "output_type": "execute_result"
    }
   ],
   "source": [
    "pd.merge(train,test,on = 'Title').shape"
   ]
  },
  {
   "cell_type": "markdown",
   "metadata": {
    "colab_type": "text",
    "id": "ReCOVAkCAh1D"
   },
   "source": [
    "> Just see what can be about this! - Hacked the solution in the last"
   ]
  },
  {
   "cell_type": "code",
   "execution_count": 12,
   "metadata": {
    "colab": {
     "base_uri": "https://localhost:8080/",
     "height": 894
    },
    "colab_type": "code",
    "id": "itlw34M8y7_o",
    "outputId": "fa573336-b85c-473c-dcd4-97b50af19aa5"
   },
   "outputs": [
    {
     "data": {
      "text/plain": [
       "['Title0', 'Title1', 'Title2']"
      ]
     },
     "execution_count": 12,
     "metadata": {
      "tags": []
     },
     "output_type": "execute_result"
    },
    {
     "data": {
      "text/html": [
       "<div>\n",
       "<style scoped>\n",
       "    .dataframe tbody tr th:only-of-type {\n",
       "        vertical-align: middle;\n",
       "    }\n",
       "\n",
       "    .dataframe tbody tr th {\n",
       "        vertical-align: top;\n",
       "    }\n",
       "\n",
       "    .dataframe thead th {\n",
       "        text-align: right;\n",
       "    }\n",
       "</style>\n",
       "<table border=\"1\" class=\"dataframe\">\n",
       "  <thead>\n",
       "    <tr style=\"text-align: right;\">\n",
       "      <th></th>\n",
       "      <th>Title</th>\n",
       "      <th>Author</th>\n",
       "      <th>Edition</th>\n",
       "      <th>Reviews</th>\n",
       "      <th>Ratings</th>\n",
       "      <th>Synopsis</th>\n",
       "      <th>Genre</th>\n",
       "      <th>BookCategory</th>\n",
       "      <th>Price</th>\n",
       "      <th>Title0</th>\n",
       "      <th>Title1</th>\n",
       "      <th>Title2</th>\n",
       "    </tr>\n",
       "  </thead>\n",
       "  <tbody>\n",
       "    <tr>\n",
       "      <th>0</th>\n",
       "      <td>The Prisoner's Gold (The Hunters 3)</td>\n",
       "      <td>Chris Kuzneski</td>\n",
       "      <td>Paperback,– 10 Mar 2016</td>\n",
       "      <td>4.0 out of 5 stars</td>\n",
       "      <td>8 customer reviews</td>\n",
       "      <td>THE HUNTERS return in their third brilliant no...</td>\n",
       "      <td>Action &amp; Adventure (Books)</td>\n",
       "      <td>Action &amp; Adventure</td>\n",
       "      <td>220.00</td>\n",
       "      <td>0.235165</td>\n",
       "      <td>-0.013440</td>\n",
       "      <td>0.152082</td>\n",
       "    </tr>\n",
       "    <tr>\n",
       "      <th>1</th>\n",
       "      <td>Guru Dutt: A Tragedy in Three Acts</td>\n",
       "      <td>Arun Khopkar</td>\n",
       "      <td>Paperback,– 7 Nov 2012</td>\n",
       "      <td>3.9 out of 5 stars</td>\n",
       "      <td>14 customer reviews</td>\n",
       "      <td>A layered portrait of a troubled genius for wh...</td>\n",
       "      <td>Cinema &amp; Broadcast (Books)</td>\n",
       "      <td>Biographies, Diaries &amp; True Accounts</td>\n",
       "      <td>202.93</td>\n",
       "      <td>0.090840</td>\n",
       "      <td>-0.146708</td>\n",
       "      <td>-0.136062</td>\n",
       "    </tr>\n",
       "    <tr>\n",
       "      <th>2</th>\n",
       "      <td>Leviathan (Penguin Classics)</td>\n",
       "      <td>Thomas Hobbes</td>\n",
       "      <td>Paperback,– 25 Feb 1982</td>\n",
       "      <td>4.8 out of 5 stars</td>\n",
       "      <td>6 customer reviews</td>\n",
       "      <td>\"During the time men live without a common Pow...</td>\n",
       "      <td>International Relations</td>\n",
       "      <td>Humour</td>\n",
       "      <td>299.00</td>\n",
       "      <td>0.137015</td>\n",
       "      <td>-0.294545</td>\n",
       "      <td>0.523090</td>\n",
       "    </tr>\n",
       "    <tr>\n",
       "      <th>3</th>\n",
       "      <td>A Pocket Full of Rye (Miss Marple)</td>\n",
       "      <td>Agatha Christie</td>\n",
       "      <td>Paperback,– 5 Oct 2017</td>\n",
       "      <td>4.1 out of 5 stars</td>\n",
       "      <td>13 customer reviews</td>\n",
       "      <td>A handful of grain is found in the pocket of a...</td>\n",
       "      <td>Contemporary Fiction (Books)</td>\n",
       "      <td>Crime, Thriller &amp; Mystery</td>\n",
       "      <td>180.00</td>\n",
       "      <td>0.095823</td>\n",
       "      <td>-0.136237</td>\n",
       "      <td>0.068786</td>\n",
       "    </tr>\n",
       "    <tr>\n",
       "      <th>4</th>\n",
       "      <td>LIFE 70 Years of Extraordinary Photography</td>\n",
       "      <td>Editors of Life</td>\n",
       "      <td>Hardcover,– 10 Oct 2006</td>\n",
       "      <td>5.0 out of 5 stars</td>\n",
       "      <td>1 customer review</td>\n",
       "      <td>For seven decades, \"Life\" has been thrilling t...</td>\n",
       "      <td>Photography Textbooks</td>\n",
       "      <td>Arts, Film &amp; Photography</td>\n",
       "      <td>965.62</td>\n",
       "      <td>0.058984</td>\n",
       "      <td>-0.038359</td>\n",
       "      <td>-0.041727</td>\n",
       "    </tr>\n",
       "  </tbody>\n",
       "</table>\n",
       "</div>"
      ],
      "text/plain": [
       "                                        Title  ...    Title2\n",
       "0         The Prisoner's Gold (The Hunters 3)  ...  0.152082\n",
       "1          Guru Dutt: A Tragedy in Three Acts  ... -0.136062\n",
       "2                Leviathan (Penguin Classics)  ...  0.523090\n",
       "3          A Pocket Full of Rye (Miss Marple)  ...  0.068786\n",
       "4  LIFE 70 Years of Extraordinary Photography  ... -0.041727\n",
       "\n",
       "[5 rows x 12 columns]"
      ]
     },
     "execution_count": 12,
     "metadata": {
      "tags": []
     },
     "output_type": "execute_result"
    },
    {
     "data": {
      "text/html": [
       "<div>\n",
       "<style scoped>\n",
       "    .dataframe tbody tr th:only-of-type {\n",
       "        vertical-align: middle;\n",
       "    }\n",
       "\n",
       "    .dataframe tbody tr th {\n",
       "        vertical-align: top;\n",
       "    }\n",
       "\n",
       "    .dataframe thead th {\n",
       "        text-align: right;\n",
       "    }\n",
       "</style>\n",
       "<table border=\"1\" class=\"dataframe\">\n",
       "  <thead>\n",
       "    <tr style=\"text-align: right;\">\n",
       "      <th></th>\n",
       "      <th>Title</th>\n",
       "      <th>Author</th>\n",
       "      <th>Edition</th>\n",
       "      <th>Reviews</th>\n",
       "      <th>Ratings</th>\n",
       "      <th>Synopsis</th>\n",
       "      <th>Genre</th>\n",
       "      <th>BookCategory</th>\n",
       "      <th>Title0</th>\n",
       "      <th>Title1</th>\n",
       "      <th>Title2</th>\n",
       "    </tr>\n",
       "  </thead>\n",
       "  <tbody>\n",
       "    <tr>\n",
       "      <th>0</th>\n",
       "      <td>The Complete Sherlock Holmes: 2 Boxes sets</td>\n",
       "      <td>Sir Arthur Conan Doyle</td>\n",
       "      <td>Mass Market Paperback,– 1 Oct 1986</td>\n",
       "      <td>4.4 out of 5 stars</td>\n",
       "      <td>960 customer reviews</td>\n",
       "      <td>A collection of entire body of work of the She...</td>\n",
       "      <td>Short Stories (Books)</td>\n",
       "      <td>Crime, Thriller &amp; Mystery</td>\n",
       "      <td>0.116129</td>\n",
       "      <td>0.000221</td>\n",
       "      <td>-0.014425</td>\n",
       "    </tr>\n",
       "    <tr>\n",
       "      <th>1</th>\n",
       "      <td>Learn Docker - Fundamentals of Docker 18.x: Ev...</td>\n",
       "      <td>Gabriel N. Schenker</td>\n",
       "      <td>Paperback,– Import, 26 Apr 2018</td>\n",
       "      <td>5.0 out of 5 stars</td>\n",
       "      <td>1 customer review</td>\n",
       "      <td>Enhance your software deployment workflow usin...</td>\n",
       "      <td>Operating Systems Textbooks</td>\n",
       "      <td>Computing, Internet &amp; Digital Media</td>\n",
       "      <td>0.114429</td>\n",
       "      <td>-0.160910</td>\n",
       "      <td>-0.155522</td>\n",
       "    </tr>\n",
       "    <tr>\n",
       "      <th>2</th>\n",
       "      <td>Big Girl</td>\n",
       "      <td>Danielle Steel</td>\n",
       "      <td>Paperback,– 17 Mar 2011</td>\n",
       "      <td>5.0 out of 5 stars</td>\n",
       "      <td>4 customer reviews</td>\n",
       "      <td>'Watch out, world. Here I come!'\\nFor Victoria...</td>\n",
       "      <td>Romance (Books)</td>\n",
       "      <td>Romance</td>\n",
       "      <td>0.017554</td>\n",
       "      <td>-0.012719</td>\n",
       "      <td>-0.006462</td>\n",
       "    </tr>\n",
       "    <tr>\n",
       "      <th>3</th>\n",
       "      <td>Think Python: How to Think Like a Computer Sci...</td>\n",
       "      <td>Allen B. Downey</td>\n",
       "      <td>Paperback,– 2016</td>\n",
       "      <td>4.1 out of 5 stars</td>\n",
       "      <td>11 customer reviews</td>\n",
       "      <td>If you want to learn how to program, working w...</td>\n",
       "      <td>Programming &amp; Software Development (Books)</td>\n",
       "      <td>Computing, Internet &amp; Digital Media</td>\n",
       "      <td>0.059469</td>\n",
       "      <td>-0.094968</td>\n",
       "      <td>-0.100692</td>\n",
       "    </tr>\n",
       "    <tr>\n",
       "      <th>4</th>\n",
       "      <td>Oxford Word Skills: Advanced - Idioms &amp; Phrasa...</td>\n",
       "      <td>Redman Gairns</td>\n",
       "      <td>Paperback,– 26 Dec 2011</td>\n",
       "      <td>4.4 out of 5 stars</td>\n",
       "      <td>9 customer reviews</td>\n",
       "      <td>Learn and practise the verbs, prepositions and...</td>\n",
       "      <td>Linguistics (Books)</td>\n",
       "      <td>Language, Linguistics &amp; Writing</td>\n",
       "      <td>0.058717</td>\n",
       "      <td>-0.090948</td>\n",
       "      <td>-0.035789</td>\n",
       "    </tr>\n",
       "  </tbody>\n",
       "</table>\n",
       "</div>"
      ],
      "text/plain": [
       "                                               Title  ...    Title2\n",
       "0         The Complete Sherlock Holmes: 2 Boxes sets  ... -0.014425\n",
       "1  Learn Docker - Fundamentals of Docker 18.x: Ev...  ... -0.155522\n",
       "2                                           Big Girl  ... -0.006462\n",
       "3  Think Python: How to Think Like a Computer Sci...  ... -0.100692\n",
       "4  Oxford Word Skills: Advanced - Idioms & Phrasa...  ... -0.035789\n",
       "\n",
       "[5 rows x 11 columns]"
      ]
     },
     "execution_count": 12,
     "metadata": {
      "tags": []
     },
     "output_type": "execute_result"
    }
   ],
   "source": [
    "tfidf3 = TfidfVectorizer(strip_accents='unicode',lowercase=True,ngram_range=(1,2),max_df=0.7,min_df=5,tokenizer = custom_tokenizer) \n",
    "\n",
    "title_sparse_matrix = tfidf3.fit_transform(train['Title'])\n",
    "\n",
    "ts3= TruncatedSVD(n_components = 3)\n",
    "title_features = ts3.fit_transform(title_sparse_matrix)\n",
    "\n",
    "title_cols = ['Title'+str(i) for i in range(3)]\n",
    "title_cols\n",
    "\n",
    "train[title_cols] = pd.DataFrame(title_features)\n",
    "\n",
    "train.head()\n",
    "\n",
    "# tfidf = TfidfVectorizer(strip_accents='unicode',lowercase=True,ngram_range=(1,3),max_df=0.7,min_df=5,tokenizer = custom_tokenizer) \n",
    "test_title_sparse_matrix = tfidf3.transform(test['Title'])\n",
    "\n",
    "# ts= TruncatedSVD(n_components = 50)\n",
    "test_title_features = ts3.transform(test_title_sparse_matrix)\n",
    "\n",
    "test[title_cols] = pd.DataFrame(test_title_features)\n",
    "\n",
    "test.head()"
   ]
  },
  {
   "cell_type": "markdown",
   "metadata": {
    "colab_type": "text",
    "id": "tYaiWaZLAh1E"
   },
   "source": [
    "## Author analysis"
   ]
  },
  {
   "cell_type": "code",
   "execution_count": 13,
   "metadata": {
    "colab": {
     "base_uri": "https://localhost:8080/",
     "height": 285
    },
    "colab_type": "code",
    "id": "28REp9UYAh1F",
    "outputId": "cd28977b-236f-45b6-ca57-17de74d11e07"
   },
   "outputs": [
    {
     "data": {
      "text/plain": [
       "<matplotlib.axes._subplots.AxesSubplot at 0x7fb006121e10>"
      ]
     },
     "execution_count": 13,
     "metadata": {
      "tags": []
     },
     "output_type": "execute_result"
    },
    {
     "data": {
      "image/png": "[encoded data removed]",
      "text/plain": [
       "<Figure size 432x288 with 1 Axes>"
      ]
     },
     "metadata": {
      "tags": []
     },
     "output_type": "display_data"
    }
   ],
   "source": [
    "sns.distplot(train.groupby('Author').size().sort_values()[1500:])"
   ]
  },
  {
   "cell_type": "code",
   "execution_count": 14,
   "metadata": {
    "colab": {
     "base_uri": "https://localhost:8080/",
     "height": 34
    },
    "colab_type": "code",
    "id": "lMdOd3vzAh1I",
    "outputId": "2907fd20-928c-480b-bc63-135a57325956"
   },
   "outputs": [
    {
     "data": {
      "text/plain": [
       "693"
      ]
     },
     "execution_count": 14,
     "metadata": {
      "tags": []
     },
     "output_type": "execute_result"
    }
   ],
   "source": [
    "len(set(test['Author']) - set(train['Author']))"
   ]
  },
  {
   "cell_type": "markdown",
   "metadata": {
    "colab_type": "text",
    "id": "wPJ76r90Ah1L"
   },
   "source": [
    "> Not a good sign. Won't use authors name for prediction"
   ]
  },
  {
   "cell_type": "code",
   "execution_count": 15,
   "metadata": {
    "colab": {
     "base_uri": "https://localhost:8080/",
     "height": 402
    },
    "colab_type": "code",
    "id": "WT0UcLILAh1M",
    "outputId": "edc5f4ac-4372-4e91-95ae-457496fe62fd",
    "scrolled": true
   },
   "outputs": [
    {
     "data": {
      "text/html": [
       "<div>\n",
       "<style scoped>\n",
       "    .dataframe tbody tr th:only-of-type {\n",
       "        vertical-align: middle;\n",
       "    }\n",
       "\n",
       "    .dataframe tbody tr th {\n",
       "        vertical-align: top;\n",
       "    }\n",
       "\n",
       "    .dataframe thead th {\n",
       "        text-align: right;\n",
       "    }\n",
       "</style>\n",
       "<table border=\"1\" class=\"dataframe\">\n",
       "  <thead>\n",
       "    <tr style=\"text-align: right;\">\n",
       "      <th></th>\n",
       "      <th>Author</th>\n",
       "      <th>count</th>\n",
       "      <th>mean</th>\n",
       "      <th>std</th>\n",
       "      <th>min</th>\n",
       "      <th>25%</th>\n",
       "      <th>50%</th>\n",
       "      <th>75%</th>\n",
       "      <th>max</th>\n",
       "    </tr>\n",
       "  </thead>\n",
       "  <tbody>\n",
       "    <tr>\n",
       "      <th>0</th>\n",
       "      <td>0, Butterfield, Ngondi, Kerr</td>\n",
       "      <td>1.0</td>\n",
       "      <td>400.000000</td>\n",
       "      <td>NaN</td>\n",
       "      <td>400.0</td>\n",
       "      <td>400.0</td>\n",
       "      <td>400.00</td>\n",
       "      <td>400.00</td>\n",
       "      <td>400.0</td>\n",
       "    </tr>\n",
       "    <tr>\n",
       "      <th>2283</th>\n",
       "      <td>Murugesan Ramaswamy</td>\n",
       "      <td>1.0</td>\n",
       "      <td>607.000000</td>\n",
       "      <td>NaN</td>\n",
       "      <td>607.0</td>\n",
       "      <td>607.0</td>\n",
       "      <td>607.00</td>\n",
       "      <td>607.00</td>\n",
       "      <td>607.0</td>\n",
       "    </tr>\n",
       "    <tr>\n",
       "      <th>2284</th>\n",
       "      <td>My Little Pony</td>\n",
       "      <td>1.0</td>\n",
       "      <td>488.000000</td>\n",
       "      <td>NaN</td>\n",
       "      <td>488.0</td>\n",
       "      <td>488.0</td>\n",
       "      <td>488.00</td>\n",
       "      <td>488.00</td>\n",
       "      <td>488.0</td>\n",
       "    </tr>\n",
       "    <tr>\n",
       "      <th>2285</th>\n",
       "      <td>Myatt Murphy</td>\n",
       "      <td>1.0</td>\n",
       "      <td>1109.000000</td>\n",
       "      <td>NaN</td>\n",
       "      <td>1109.0</td>\n",
       "      <td>1109.0</td>\n",
       "      <td>1109.00</td>\n",
       "      <td>1109.00</td>\n",
       "      <td>1109.0</td>\n",
       "    </tr>\n",
       "    <tr>\n",
       "      <th>2286</th>\n",
       "      <td>Myrna Bell Rochester</td>\n",
       "      <td>1.0</td>\n",
       "      <td>1108.000000</td>\n",
       "      <td>NaN</td>\n",
       "      <td>1108.0</td>\n",
       "      <td>1108.0</td>\n",
       "      <td>1108.00</td>\n",
       "      <td>1108.00</td>\n",
       "      <td>1108.0</td>\n",
       "    </tr>\n",
       "    <tr>\n",
       "      <th>...</th>\n",
       "      <td>...</td>\n",
       "      <td>...</td>\n",
       "      <td>...</td>\n",
       "      <td>...</td>\n",
       "      <td>...</td>\n",
       "      <td>...</td>\n",
       "      <td>...</td>\n",
       "      <td>...</td>\n",
       "      <td>...</td>\n",
       "    </tr>\n",
       "    <tr>\n",
       "      <th>1294</th>\n",
       "      <td>Herge</td>\n",
       "      <td>34.0</td>\n",
       "      <td>451.389706</td>\n",
       "      <td>171.889182</td>\n",
       "      <td>304.0</td>\n",
       "      <td>316.5</td>\n",
       "      <td>399.00</td>\n",
       "      <td>464.25</td>\n",
       "      <td>799.0</td>\n",
       "    </tr>\n",
       "    <tr>\n",
       "      <th>100</th>\n",
       "      <td>Albert Uderzo</td>\n",
       "      <td>34.0</td>\n",
       "      <td>388.147059</td>\n",
       "      <td>96.797236</td>\n",
       "      <td>296.0</td>\n",
       "      <td>354.0</td>\n",
       "      <td>355.00</td>\n",
       "      <td>398.75</td>\n",
       "      <td>678.0</td>\n",
       "    </tr>\n",
       "    <tr>\n",
       "      <th>697</th>\n",
       "      <td>DK</td>\n",
       "      <td>48.0</td>\n",
       "      <td>692.149792</td>\n",
       "      <td>314.820692</td>\n",
       "      <td>199.0</td>\n",
       "      <td>424.5</td>\n",
       "      <td>683.24</td>\n",
       "      <td>864.00</td>\n",
       "      <td>1430.0</td>\n",
       "    </tr>\n",
       "    <tr>\n",
       "      <th>1868</th>\n",
       "      <td>Ladybird</td>\n",
       "      <td>49.0</td>\n",
       "      <td>102.796531</td>\n",
       "      <td>68.635946</td>\n",
       "      <td>51.0</td>\n",
       "      <td>61.0</td>\n",
       "      <td>91.00</td>\n",
       "      <td>117.00</td>\n",
       "      <td>517.0</td>\n",
       "    </tr>\n",
       "    <tr>\n",
       "      <th>62</th>\n",
       "      <td>Agatha Christie</td>\n",
       "      <td>69.0</td>\n",
       "      <td>241.170870</td>\n",
       "      <td>111.703120</td>\n",
       "      <td>154.0</td>\n",
       "      <td>185.0</td>\n",
       "      <td>221.00</td>\n",
       "      <td>239.00</td>\n",
       "      <td>896.0</td>\n",
       "    </tr>\n",
       "  </tbody>\n",
       "</table>\n",
       "<p>3679 rows × 9 columns</p>\n",
       "</div>"
      ],
      "text/plain": [
       "                            Author  count  ...      75%     max\n",
       "0     0, Butterfield, Ngondi, Kerr    1.0  ...   400.00   400.0\n",
       "2283           Murugesan Ramaswamy    1.0  ...   607.00   607.0\n",
       "2284                My Little Pony    1.0  ...   488.00   488.0\n",
       "2285                  Myatt Murphy    1.0  ...  1109.00  1109.0\n",
       "2286          Myrna Bell Rochester    1.0  ...  1108.00  1108.0\n",
       "...                            ...    ...  ...      ...     ...\n",
       "1294                         Herge   34.0  ...   464.25   799.0\n",
       "100                  Albert Uderzo   34.0  ...   398.75   678.0\n",
       "697                             DK   48.0  ...   864.00  1430.0\n",
       "1868                      Ladybird   49.0  ...   117.00   517.0\n",
       "62                 Agatha Christie   69.0  ...   239.00   896.0\n",
       "\n",
       "[3679 rows x 9 columns]"
      ]
     },
     "execution_count": 15,
     "metadata": {
      "tags": []
     },
     "output_type": "execute_result"
    }
   ],
   "source": [
    "train.groupby('Author')['Price'].describe().reset_index().sort_values('count')"
   ]
  },
  {
   "cell_type": "markdown",
   "metadata": {
    "colab_type": "text",
    "id": "HM78kLFkAh1Q"
   },
   "source": [
    "## Edition Analysis"
   ]
  },
  {
   "cell_type": "code",
   "execution_count": 16,
   "metadata": {
    "colab": {
     "base_uri": "https://localhost:8080/",
     "height": 639
    },
    "colab_type": "code",
    "id": "U7dgL8mKAh1R",
    "outputId": "e3c72846-35a3-460d-d884-525b2e4745a2"
   },
   "outputs": [
    {
     "data": {
      "text/html": [
       "<div>\n",
       "<style scoped>\n",
       "    .dataframe tbody tr th:only-of-type {\n",
       "        vertical-align: middle;\n",
       "    }\n",
       "\n",
       "    .dataframe tbody tr th {\n",
       "        vertical-align: top;\n",
       "    }\n",
       "\n",
       "    .dataframe thead th {\n",
       "        text-align: right;\n",
       "    }\n",
       "</style>\n",
       "<table border=\"1\" class=\"dataframe\">\n",
       "  <thead>\n",
       "    <tr style=\"text-align: right;\">\n",
       "      <th></th>\n",
       "      <th>count</th>\n",
       "      <th>mean</th>\n",
       "      <th>std</th>\n",
       "      <th>min</th>\n",
       "      <th>25%</th>\n",
       "      <th>50%</th>\n",
       "      <th>75%</th>\n",
       "      <th>max</th>\n",
       "    </tr>\n",
       "    <tr>\n",
       "      <th>Edition_Type</th>\n",
       "      <th></th>\n",
       "      <th></th>\n",
       "      <th></th>\n",
       "      <th></th>\n",
       "      <th></th>\n",
       "      <th></th>\n",
       "      <th></th>\n",
       "      <th></th>\n",
       "    </tr>\n",
       "  </thead>\n",
       "  <tbody>\n",
       "    <tr>\n",
       "      <th>(French),Paperback</th>\n",
       "      <td>1.0</td>\n",
       "      <td>657.000000</td>\n",
       "      <td>NaN</td>\n",
       "      <td>657.00</td>\n",
       "      <td>657.0000</td>\n",
       "      <td>657.00</td>\n",
       "      <td>657.00</td>\n",
       "      <td>657.00</td>\n",
       "    </tr>\n",
       "    <tr>\n",
       "      <th>Product Bundle</th>\n",
       "      <td>1.0</td>\n",
       "      <td>14100.000000</td>\n",
       "      <td>NaN</td>\n",
       "      <td>14100.00</td>\n",
       "      <td>14100.0000</td>\n",
       "      <td>14100.00</td>\n",
       "      <td>14100.00</td>\n",
       "      <td>14100.00</td>\n",
       "    </tr>\n",
       "    <tr>\n",
       "      <th>Plastic Comb</th>\n",
       "      <td>1.0</td>\n",
       "      <td>1453.000000</td>\n",
       "      <td>NaN</td>\n",
       "      <td>1453.00</td>\n",
       "      <td>1453.0000</td>\n",
       "      <td>1453.00</td>\n",
       "      <td>1453.00</td>\n",
       "      <td>1453.00</td>\n",
       "    </tr>\n",
       "    <tr>\n",
       "      <th>Perfect Paperback</th>\n",
       "      <td>1.0</td>\n",
       "      <td>311.000000</td>\n",
       "      <td>NaN</td>\n",
       "      <td>311.00</td>\n",
       "      <td>311.0000</td>\n",
       "      <td>311.00</td>\n",
       "      <td>311.00</td>\n",
       "      <td>311.00</td>\n",
       "    </tr>\n",
       "    <tr>\n",
       "      <th>Leather Bound</th>\n",
       "      <td>1.0</td>\n",
       "      <td>1819.000000</td>\n",
       "      <td>NaN</td>\n",
       "      <td>1819.00</td>\n",
       "      <td>1819.0000</td>\n",
       "      <td>1819.00</td>\n",
       "      <td>1819.00</td>\n",
       "      <td>1819.00</td>\n",
       "    </tr>\n",
       "    <tr>\n",
       "      <th>Library Binding</th>\n",
       "      <td>1.0</td>\n",
       "      <td>296.000000</td>\n",
       "      <td>NaN</td>\n",
       "      <td>296.00</td>\n",
       "      <td>296.0000</td>\n",
       "      <td>296.00</td>\n",
       "      <td>296.00</td>\n",
       "      <td>296.00</td>\n",
       "    </tr>\n",
       "    <tr>\n",
       "      <th>Board book</th>\n",
       "      <td>1.0</td>\n",
       "      <td>452.690000</td>\n",
       "      <td>NaN</td>\n",
       "      <td>452.69</td>\n",
       "      <td>452.6900</td>\n",
       "      <td>452.69</td>\n",
       "      <td>452.69</td>\n",
       "      <td>452.69</td>\n",
       "    </tr>\n",
       "    <tr>\n",
       "      <th>(Spanish),Paperback</th>\n",
       "      <td>1.0</td>\n",
       "      <td>295.000000</td>\n",
       "      <td>NaN</td>\n",
       "      <td>295.00</td>\n",
       "      <td>295.0000</td>\n",
       "      <td>295.00</td>\n",
       "      <td>295.00</td>\n",
       "      <td>295.00</td>\n",
       "    </tr>\n",
       "    <tr>\n",
       "      <th>(Kannada),Paperback</th>\n",
       "      <td>1.0</td>\n",
       "      <td>93.000000</td>\n",
       "      <td>NaN</td>\n",
       "      <td>93.00</td>\n",
       "      <td>93.0000</td>\n",
       "      <td>93.00</td>\n",
       "      <td>93.00</td>\n",
       "      <td>93.00</td>\n",
       "    </tr>\n",
       "    <tr>\n",
       "      <th>(German),Paperback</th>\n",
       "      <td>1.0</td>\n",
       "      <td>557.000000</td>\n",
       "      <td>NaN</td>\n",
       "      <td>557.00</td>\n",
       "      <td>557.0000</td>\n",
       "      <td>557.00</td>\n",
       "      <td>557.00</td>\n",
       "      <td>557.00</td>\n",
       "    </tr>\n",
       "    <tr>\n",
       "      <th>Loose Leaf</th>\n",
       "      <td>2.0</td>\n",
       "      <td>362.000000</td>\n",
       "      <td>60.811183</td>\n",
       "      <td>319.00</td>\n",
       "      <td>340.5000</td>\n",
       "      <td>362.00</td>\n",
       "      <td>383.50</td>\n",
       "      <td>405.00</td>\n",
       "    </tr>\n",
       "    <tr>\n",
       "      <th>Tankobon Softcover</th>\n",
       "      <td>3.0</td>\n",
       "      <td>610.333333</td>\n",
       "      <td>212.486078</td>\n",
       "      <td>445.00</td>\n",
       "      <td>490.5000</td>\n",
       "      <td>536.00</td>\n",
       "      <td>693.00</td>\n",
       "      <td>850.00</td>\n",
       "    </tr>\n",
       "    <tr>\n",
       "      <th>Spiral-bound</th>\n",
       "      <td>4.0</td>\n",
       "      <td>1021.500000</td>\n",
       "      <td>678.792310</td>\n",
       "      <td>469.00</td>\n",
       "      <td>480.2500</td>\n",
       "      <td>869.50</td>\n",
       "      <td>1410.75</td>\n",
       "      <td>1878.00</td>\n",
       "    </tr>\n",
       "    <tr>\n",
       "      <th>Cards</th>\n",
       "      <td>8.0</td>\n",
       "      <td>721.983750</td>\n",
       "      <td>413.824624</td>\n",
       "      <td>100.00</td>\n",
       "      <td>529.2175</td>\n",
       "      <td>713.00</td>\n",
       "      <td>1105.00</td>\n",
       "      <td>1191.00</td>\n",
       "    </tr>\n",
       "    <tr>\n",
       "      <th>Flexibound</th>\n",
       "      <td>15.0</td>\n",
       "      <td>713.344000</td>\n",
       "      <td>433.772450</td>\n",
       "      <td>194.00</td>\n",
       "      <td>385.9550</td>\n",
       "      <td>712.00</td>\n",
       "      <td>954.50</td>\n",
       "      <td>1669.00</td>\n",
       "    </tr>\n",
       "    <tr>\n",
       "      <th>Sheet music</th>\n",
       "      <td>24.0</td>\n",
       "      <td>799.208333</td>\n",
       "      <td>304.515293</td>\n",
       "      <td>472.00</td>\n",
       "      <td>567.0000</td>\n",
       "      <td>657.00</td>\n",
       "      <td>1056.75</td>\n",
       "      <td>1431.00</td>\n",
       "    </tr>\n",
       "    <tr>\n",
       "      <th>Mass Market Paperback</th>\n",
       "      <td>155.0</td>\n",
       "      <td>343.352452</td>\n",
       "      <td>203.491171</td>\n",
       "      <td>37.00</td>\n",
       "      <td>248.0000</td>\n",
       "      <td>319.00</td>\n",
       "      <td>399.00</td>\n",
       "      <td>1919.00</td>\n",
       "    </tr>\n",
       "    <tr>\n",
       "      <th>Hardcover</th>\n",
       "      <td>823.0</td>\n",
       "      <td>983.294168</td>\n",
       "      <td>1170.782001</td>\n",
       "      <td>51.00</td>\n",
       "      <td>385.0000</td>\n",
       "      <td>569.00</td>\n",
       "      <td>1109.00</td>\n",
       "      <td>13244.67</td>\n",
       "    </tr>\n",
       "    <tr>\n",
       "      <th>Paperback</th>\n",
       "      <td>5193.0</td>\n",
       "      <td>495.345721</td>\n",
       "      <td>530.988935</td>\n",
       "      <td>25.00</td>\n",
       "      <td>239.0000</td>\n",
       "      <td>354.00</td>\n",
       "      <td>550.00</td>\n",
       "      <td>9984.00</td>\n",
       "    </tr>\n",
       "  </tbody>\n",
       "</table>\n",
       "</div>"
      ],
      "text/plain": [
       "                        count          mean  ...       75%       max\n",
       "Edition_Type                                 ...                    \n",
       "(French),Paperback        1.0    657.000000  ...    657.00    657.00\n",
       "Product Bundle            1.0  14100.000000  ...  14100.00  14100.00\n",
       "Plastic Comb              1.0   1453.000000  ...   1453.00   1453.00\n",
       "Perfect Paperback         1.0    311.000000  ...    311.00    311.00\n",
       "Leather Bound             1.0   1819.000000  ...   1819.00   1819.00\n",
       "Library Binding           1.0    296.000000  ...    296.00    296.00\n",
       "Board book                1.0    452.690000  ...    452.69    452.69\n",
       "(Spanish),Paperback       1.0    295.000000  ...    295.00    295.00\n",
       "(Kannada),Paperback       1.0     93.000000  ...     93.00     93.00\n",
       "(German),Paperback        1.0    557.000000  ...    557.00    557.00\n",
       "Loose Leaf                2.0    362.000000  ...    383.50    405.00\n",
       "Tankobon Softcover        3.0    610.333333  ...    693.00    850.00\n",
       "Spiral-bound              4.0   1021.500000  ...   1410.75   1878.00\n",
       "Cards                     8.0    721.983750  ...   1105.00   1191.00\n",
       "Flexibound               15.0    713.344000  ...    954.50   1669.00\n",
       "Sheet music              24.0    799.208333  ...   1056.75   1431.00\n",
       "Mass Market Paperback   155.0    343.352452  ...    399.00   1919.00\n",
       "Hardcover               823.0    983.294168  ...   1109.00  13244.67\n",
       "Paperback              5193.0    495.345721  ...    550.00   9984.00\n",
       "\n",
       "[19 rows x 8 columns]"
      ]
     },
     "execution_count": 16,
     "metadata": {
      "tags": []
     },
     "output_type": "execute_result"
    }
   ],
   "source": [
    "train['Edition_Type'] = train['Edition'].apply(lambda x : re.findall('(.*),–.*',x)[0])\n",
    "train.groupby('Edition_Type')['Price'].describe().sort_values('count')"
   ]
  },
  {
   "cell_type": "code",
   "execution_count": 17,
   "metadata": {
    "colab": {
     "base_uri": "https://localhost:8080/",
     "height": 202
    },
    "colab_type": "code",
    "id": "S9kRIfT3Ah1U",
    "outputId": "473d3bbe-7447-418b-90ea-66c98082e581"
   },
   "outputs": [
    {
     "data": {
      "text/plain": [
       "Edition_Type\n",
       "(Chinese),Paperback         1\n",
       "Cards                       1\n",
       "Flexibound                  4\n",
       "Hardcover                 233\n",
       "Loose Leaf                  1\n",
       "Mass Market Paperback      45\n",
       "Paperback                1265\n",
       "Sheet music                 8\n",
       "Spiral-bound                2\n",
       "dtype: int64"
      ]
     },
     "execution_count": 17,
     "metadata": {
      "tags": []
     },
     "output_type": "execute_result"
    }
   ],
   "source": [
    "test['Edition_Type'] = test['Edition'].apply(lambda x : re.findall('(.*),–.*',x)[0])\n",
    "test.groupby('Edition_Type').size()"
   ]
  },
  {
   "cell_type": "code",
   "execution_count": 18,
   "metadata": {
    "colab": {
     "base_uri": "https://localhost:8080/",
     "height": 34
    },
    "colab_type": "code",
    "id": "9rnq8m_pAh1X",
    "outputId": "6d04b4d3-4495-4297-e4ac-1bae8c9f4d18"
   },
   "outputs": [
    {
     "data": {
      "text/plain": [
       "{'(Chinese),Paperback'}"
      ]
     },
     "execution_count": 18,
     "metadata": {
      "tags": []
     },
     "output_type": "execute_result"
    }
   ],
   "source": [
    "set(test['Edition_Type']) - set(train['Edition_Type'])"
   ]
  },
  {
   "cell_type": "markdown",
   "metadata": {
    "colab_type": "text",
    "id": "gF_EvgBQAh1a"
   },
   "source": [
    "> (Language), Paperback should all be grouped into one"
   ]
  },
  {
   "cell_type": "code",
   "execution_count": 0,
   "metadata": {
    "colab": {},
    "colab_type": "code",
    "id": "hUiLfoNrAh1b"
   },
   "outputs": [],
   "source": [
    "train['Edition_Refine_Type'] = ['Paperback'  if re.match('\\(.*\\),(Paperback)',s) else s for s in train['Edition_Type']]\n",
    "test['Edition_Refine_Type'] = ['Paperback'  if re.match('\\(.*\\),(Paperback)',s) else s for s in test['Edition_Type']]"
   ]
  },
  {
   "cell_type": "code",
   "execution_count": 20,
   "metadata": {
    "colab": {
     "base_uri": "https://localhost:8080/",
     "height": 34
    },
    "colab_type": "code",
    "id": "8YavwSukAh1e",
    "outputId": "c54552c8-4eb7-4807-c8b5-bb14b08ba981"
   },
   "outputs": [
    {
     "data": {
      "text/plain": [
       "set()"
      ]
     },
     "execution_count": 20,
     "metadata": {
      "tags": []
     },
     "output_type": "execute_result"
    }
   ],
   "source": [
    "set(test['Edition_Refine_Type']) - set(train['Edition_Refine_Type'])"
   ]
  },
  {
   "cell_type": "code",
   "execution_count": 21,
   "metadata": {
    "colab": {
     "base_uri": "https://localhost:8080/",
     "height": 521
    },
    "colab_type": "code",
    "id": "w6wlUXs1Ah1h",
    "outputId": "328a198e-454b-406d-c1d2-15b36d0bdc65"
   },
   "outputs": [
    {
     "data": {
      "text/html": [
       "<div>\n",
       "<style scoped>\n",
       "    .dataframe tbody tr th:only-of-type {\n",
       "        vertical-align: middle;\n",
       "    }\n",
       "\n",
       "    .dataframe tbody tr th {\n",
       "        vertical-align: top;\n",
       "    }\n",
       "\n",
       "    .dataframe thead th {\n",
       "        text-align: right;\n",
       "    }\n",
       "</style>\n",
       "<table border=\"1\" class=\"dataframe\">\n",
       "  <thead>\n",
       "    <tr style=\"text-align: right;\">\n",
       "      <th></th>\n",
       "      <th>count</th>\n",
       "      <th>mean</th>\n",
       "      <th>std</th>\n",
       "      <th>min</th>\n",
       "      <th>25%</th>\n",
       "      <th>50%</th>\n",
       "      <th>75%</th>\n",
       "      <th>max</th>\n",
       "    </tr>\n",
       "    <tr>\n",
       "      <th>Edition_Refine_Type</th>\n",
       "      <th></th>\n",
       "      <th></th>\n",
       "      <th></th>\n",
       "      <th></th>\n",
       "      <th></th>\n",
       "      <th></th>\n",
       "      <th></th>\n",
       "      <th></th>\n",
       "    </tr>\n",
       "  </thead>\n",
       "  <tbody>\n",
       "    <tr>\n",
       "      <th>Paperback</th>\n",
       "      <td>5197.0</td>\n",
       "      <td>495.272721</td>\n",
       "      <td>530.826557</td>\n",
       "      <td>25.00</td>\n",
       "      <td>239.0000</td>\n",
       "      <td>354.00</td>\n",
       "      <td>550.00</td>\n",
       "      <td>9984.00</td>\n",
       "    </tr>\n",
       "    <tr>\n",
       "      <th>Hardcover</th>\n",
       "      <td>823.0</td>\n",
       "      <td>983.294168</td>\n",
       "      <td>1170.782001</td>\n",
       "      <td>51.00</td>\n",
       "      <td>385.0000</td>\n",
       "      <td>569.00</td>\n",
       "      <td>1109.00</td>\n",
       "      <td>13244.67</td>\n",
       "    </tr>\n",
       "    <tr>\n",
       "      <th>Mass Market Paperback</th>\n",
       "      <td>155.0</td>\n",
       "      <td>343.352452</td>\n",
       "      <td>203.491171</td>\n",
       "      <td>37.00</td>\n",
       "      <td>248.0000</td>\n",
       "      <td>319.00</td>\n",
       "      <td>399.00</td>\n",
       "      <td>1919.00</td>\n",
       "    </tr>\n",
       "    <tr>\n",
       "      <th>Sheet music</th>\n",
       "      <td>24.0</td>\n",
       "      <td>799.208333</td>\n",
       "      <td>304.515293</td>\n",
       "      <td>472.00</td>\n",
       "      <td>567.0000</td>\n",
       "      <td>657.00</td>\n",
       "      <td>1056.75</td>\n",
       "      <td>1431.00</td>\n",
       "    </tr>\n",
       "    <tr>\n",
       "      <th>Flexibound</th>\n",
       "      <td>15.0</td>\n",
       "      <td>713.344000</td>\n",
       "      <td>433.772450</td>\n",
       "      <td>194.00</td>\n",
       "      <td>385.9550</td>\n",
       "      <td>712.00</td>\n",
       "      <td>954.50</td>\n",
       "      <td>1669.00</td>\n",
       "    </tr>\n",
       "    <tr>\n",
       "      <th>Cards</th>\n",
       "      <td>8.0</td>\n",
       "      <td>721.983750</td>\n",
       "      <td>413.824624</td>\n",
       "      <td>100.00</td>\n",
       "      <td>529.2175</td>\n",
       "      <td>713.00</td>\n",
       "      <td>1105.00</td>\n",
       "      <td>1191.00</td>\n",
       "    </tr>\n",
       "    <tr>\n",
       "      <th>Spiral-bound</th>\n",
       "      <td>4.0</td>\n",
       "      <td>1021.500000</td>\n",
       "      <td>678.792310</td>\n",
       "      <td>469.00</td>\n",
       "      <td>480.2500</td>\n",
       "      <td>869.50</td>\n",
       "      <td>1410.75</td>\n",
       "      <td>1878.00</td>\n",
       "    </tr>\n",
       "    <tr>\n",
       "      <th>Tankobon Softcover</th>\n",
       "      <td>3.0</td>\n",
       "      <td>610.333333</td>\n",
       "      <td>212.486078</td>\n",
       "      <td>445.00</td>\n",
       "      <td>490.5000</td>\n",
       "      <td>536.00</td>\n",
       "      <td>693.00</td>\n",
       "      <td>850.00</td>\n",
       "    </tr>\n",
       "    <tr>\n",
       "      <th>Loose Leaf</th>\n",
       "      <td>2.0</td>\n",
       "      <td>362.000000</td>\n",
       "      <td>60.811183</td>\n",
       "      <td>319.00</td>\n",
       "      <td>340.5000</td>\n",
       "      <td>362.00</td>\n",
       "      <td>383.50</td>\n",
       "      <td>405.00</td>\n",
       "    </tr>\n",
       "    <tr>\n",
       "      <th>Board book</th>\n",
       "      <td>1.0</td>\n",
       "      <td>452.690000</td>\n",
       "      <td>NaN</td>\n",
       "      <td>452.69</td>\n",
       "      <td>452.6900</td>\n",
       "      <td>452.69</td>\n",
       "      <td>452.69</td>\n",
       "      <td>452.69</td>\n",
       "    </tr>\n",
       "    <tr>\n",
       "      <th>Leather Bound</th>\n",
       "      <td>1.0</td>\n",
       "      <td>1819.000000</td>\n",
       "      <td>NaN</td>\n",
       "      <td>1819.00</td>\n",
       "      <td>1819.0000</td>\n",
       "      <td>1819.00</td>\n",
       "      <td>1819.00</td>\n",
       "      <td>1819.00</td>\n",
       "    </tr>\n",
       "    <tr>\n",
       "      <th>Library Binding</th>\n",
       "      <td>1.0</td>\n",
       "      <td>296.000000</td>\n",
       "      <td>NaN</td>\n",
       "      <td>296.00</td>\n",
       "      <td>296.0000</td>\n",
       "      <td>296.00</td>\n",
       "      <td>296.00</td>\n",
       "      <td>296.00</td>\n",
       "    </tr>\n",
       "    <tr>\n",
       "      <th>Perfect Paperback</th>\n",
       "      <td>1.0</td>\n",
       "      <td>311.000000</td>\n",
       "      <td>NaN</td>\n",
       "      <td>311.00</td>\n",
       "      <td>311.0000</td>\n",
       "      <td>311.00</td>\n",
       "      <td>311.00</td>\n",
       "      <td>311.00</td>\n",
       "    </tr>\n",
       "    <tr>\n",
       "      <th>Plastic Comb</th>\n",
       "      <td>1.0</td>\n",
       "      <td>1453.000000</td>\n",
       "      <td>NaN</td>\n",
       "      <td>1453.00</td>\n",
       "      <td>1453.0000</td>\n",
       "      <td>1453.00</td>\n",
       "      <td>1453.00</td>\n",
       "      <td>1453.00</td>\n",
       "    </tr>\n",
       "    <tr>\n",
       "      <th>Product Bundle</th>\n",
       "      <td>1.0</td>\n",
       "      <td>14100.000000</td>\n",
       "      <td>NaN</td>\n",
       "      <td>14100.00</td>\n",
       "      <td>14100.0000</td>\n",
       "      <td>14100.00</td>\n",
       "      <td>14100.00</td>\n",
       "      <td>14100.00</td>\n",
       "    </tr>\n",
       "  </tbody>\n",
       "</table>\n",
       "</div>"
      ],
      "text/plain": [
       "                        count          mean  ...       75%       max\n",
       "Edition_Refine_Type                          ...                    \n",
       "Paperback              5197.0    495.272721  ...    550.00   9984.00\n",
       "Hardcover               823.0    983.294168  ...   1109.00  13244.67\n",
       "Mass Market Paperback   155.0    343.352452  ...    399.00   1919.00\n",
       "Sheet music              24.0    799.208333  ...   1056.75   1431.00\n",
       "Flexibound               15.0    713.344000  ...    954.50   1669.00\n",
       "Cards                     8.0    721.983750  ...   1105.00   1191.00\n",
       "Spiral-bound              4.0   1021.500000  ...   1410.75   1878.00\n",
       "Tankobon Softcover        3.0    610.333333  ...    693.00    850.00\n",
       "Loose Leaf                2.0    362.000000  ...    383.50    405.00\n",
       "Board book                1.0    452.690000  ...    452.69    452.69\n",
       "Leather Bound             1.0   1819.000000  ...   1819.00   1819.00\n",
       "Library Binding           1.0    296.000000  ...    296.00    296.00\n",
       "Perfect Paperback         1.0    311.000000  ...    311.00    311.00\n",
       "Plastic Comb              1.0   1453.000000  ...   1453.00   1453.00\n",
       "Product Bundle            1.0  14100.000000  ...  14100.00  14100.00\n",
       "\n",
       "[15 rows x 8 columns]"
      ]
     },
     "execution_count": 21,
     "metadata": {
      "tags": []
     },
     "output_type": "execute_result"
    }
   ],
   "source": [
    "train.groupby('Edition_Refine_Type')['Price'].describe().sort_values('count',ascending = False)"
   ]
  },
  {
   "cell_type": "code",
   "execution_count": 22,
   "metadata": {
    "colab": {
     "base_uri": "https://localhost:8080/",
     "height": 84
    },
    "colab_type": "code",
    "id": "1Y9VEhi3Ah1k",
    "outputId": "89f1d5f2-7f1d-4181-9ece-312d561282f5"
   },
   "outputs": [
    {
     "data": {
      "text/plain": [
       "array(['Paperback', 'Hardcover', 'Mass Market Paperback', 'Sheet music',\n",
       "       'Flexibound', 'Plastic Comb', 'Loose Leaf', 'Tankobon Softcover',\n",
       "       'Perfect Paperback', 'Board book', 'Cards', 'Spiral-bound',\n",
       "       'Product Bundle', 'Library Binding', 'Leather Bound'], dtype=object)"
      ]
     },
     "execution_count": 22,
     "metadata": {
      "tags": []
     },
     "output_type": "execute_result"
    }
   ],
   "source": [
    "available_editions = train['Edition_Refine_Type'].unique()\n",
    "available_editions"
   ]
  },
  {
   "cell_type": "code",
   "execution_count": 23,
   "metadata": {
    "colab": {
     "base_uri": "https://localhost:8080/",
     "height": 254
    },
    "colab_type": "code",
    "id": "2GwW4cMFAh1u",
    "outputId": "c73a94b1-fd75-493f-edb1-a6b1a3b650f9"
   },
   "outputs": [
    {
     "data": {
      "text/html": [
       "<div>\n",
       "<style scoped>\n",
       "    .dataframe tbody tr th:only-of-type {\n",
       "        vertical-align: middle;\n",
       "    }\n",
       "\n",
       "    .dataframe tbody tr th {\n",
       "        vertical-align: top;\n",
       "    }\n",
       "\n",
       "    .dataframe thead th {\n",
       "        text-align: right;\n",
       "    }\n",
       "</style>\n",
       "<table border=\"1\" class=\"dataframe\">\n",
       "  <thead>\n",
       "    <tr style=\"text-align: right;\">\n",
       "      <th></th>\n",
       "      <th>count</th>\n",
       "      <th>mean</th>\n",
       "      <th>std</th>\n",
       "      <th>min</th>\n",
       "      <th>25%</th>\n",
       "      <th>50%</th>\n",
       "      <th>75%</th>\n",
       "      <th>max</th>\n",
       "    </tr>\n",
       "    <tr>\n",
       "      <th>Edition_Type_Blind_Group</th>\n",
       "      <th></th>\n",
       "      <th></th>\n",
       "      <th></th>\n",
       "      <th></th>\n",
       "      <th></th>\n",
       "      <th></th>\n",
       "      <th></th>\n",
       "      <th></th>\n",
       "    </tr>\n",
       "  </thead>\n",
       "  <tbody>\n",
       "    <tr>\n",
       "      <th>Flexibound</th>\n",
       "      <td>15.0</td>\n",
       "      <td>713.344000</td>\n",
       "      <td>433.772450</td>\n",
       "      <td>194.0</td>\n",
       "      <td>385.955</td>\n",
       "      <td>712.0</td>\n",
       "      <td>954.50</td>\n",
       "      <td>1669.00</td>\n",
       "    </tr>\n",
       "    <tr>\n",
       "      <th>Hardcover</th>\n",
       "      <td>823.0</td>\n",
       "      <td>983.294168</td>\n",
       "      <td>1170.782001</td>\n",
       "      <td>51.0</td>\n",
       "      <td>385.000</td>\n",
       "      <td>569.0</td>\n",
       "      <td>1109.00</td>\n",
       "      <td>13244.67</td>\n",
       "    </tr>\n",
       "    <tr>\n",
       "      <th>Mass Market Paperback</th>\n",
       "      <td>155.0</td>\n",
       "      <td>343.352452</td>\n",
       "      <td>203.491171</td>\n",
       "      <td>37.0</td>\n",
       "      <td>248.000</td>\n",
       "      <td>319.0</td>\n",
       "      <td>399.00</td>\n",
       "      <td>1919.00</td>\n",
       "    </tr>\n",
       "    <tr>\n",
       "      <th>Others</th>\n",
       "      <td>23.0</td>\n",
       "      <td>1341.241739</td>\n",
       "      <td>2825.552496</td>\n",
       "      <td>100.0</td>\n",
       "      <td>425.000</td>\n",
       "      <td>639.0</td>\n",
       "      <td>1155.50</td>\n",
       "      <td>14100.00</td>\n",
       "    </tr>\n",
       "    <tr>\n",
       "      <th>Paperback</th>\n",
       "      <td>5197.0</td>\n",
       "      <td>495.272721</td>\n",
       "      <td>530.826557</td>\n",
       "      <td>25.0</td>\n",
       "      <td>239.000</td>\n",
       "      <td>354.0</td>\n",
       "      <td>550.00</td>\n",
       "      <td>9984.00</td>\n",
       "    </tr>\n",
       "    <tr>\n",
       "      <th>Sheet music</th>\n",
       "      <td>24.0</td>\n",
       "      <td>799.208333</td>\n",
       "      <td>304.515293</td>\n",
       "      <td>472.0</td>\n",
       "      <td>567.000</td>\n",
       "      <td>657.0</td>\n",
       "      <td>1056.75</td>\n",
       "      <td>1431.00</td>\n",
       "    </tr>\n",
       "  </tbody>\n",
       "</table>\n",
       "</div>"
      ],
      "text/plain": [
       "                           count         mean  ...      75%       max\n",
       "Edition_Type_Blind_Group                       ...                   \n",
       "Flexibound                  15.0   713.344000  ...   954.50   1669.00\n",
       "Hardcover                  823.0   983.294168  ...  1109.00  13244.67\n",
       "Mass Market Paperback      155.0   343.352452  ...   399.00   1919.00\n",
       "Others                      23.0  1341.241739  ...  1155.50  14100.00\n",
       "Paperback                 5197.0   495.272721  ...   550.00   9984.00\n",
       "Sheet music                 24.0   799.208333  ...  1056.75   1431.00\n",
       "\n",
       "[6 rows x 8 columns]"
      ]
     },
     "execution_count": 23,
     "metadata": {
      "tags": []
     },
     "output_type": "execute_result"
    }
   ],
   "source": [
    "considerable_editions = ['Paperback', 'Hardcover', 'Mass Market Paperback', 'Sheet music', 'Flexibound'] #based on frequency\n",
    "others = [edition for edition in available_editions if edition not in considerable_editions]\n",
    "train['Edition_Type_Blind_Group'] = train['Edition_Refine_Type'].replace(others,value='Others')\n",
    "test['Edition_Type_Blind_Group'] = test['Edition_Refine_Type'].replace(others,value='Others')\n",
    "train.groupby('Edition_Type_Blind_Group')['Price'].describe()"
   ]
  },
  {
   "cell_type": "code",
   "execution_count": 24,
   "metadata": {
    "colab": {
     "base_uri": "https://localhost:8080/",
     "height": 34
    },
    "colab_type": "code",
    "id": "rLWoHtTYnAo3",
    "outputId": "e48b4e13-92ba-47b2-ca06-8619c9b1e6d3"
   },
   "outputs": [
    {
     "data": {
      "text/plain": [
       "set()"
      ]
     },
     "execution_count": 24,
     "metadata": {
      "tags": []
     },
     "output_type": "execute_result"
    }
   ],
   "source": [
    "set(test['Edition_Type_Blind_Group']) ^ set(train['Edition_Type_Blind_Group'])"
   ]
  },
  {
   "cell_type": "code",
   "execution_count": 0,
   "metadata": {
    "colab": {},
    "colab_type": "code",
    "id": "6df9llaYAh1y"
   },
   "outputs": [],
   "source": [
    "from random import random"
   ]
  },
  {
   "cell_type": "code",
   "execution_count": 0,
   "metadata": {
    "colab": {},
    "colab_type": "code",
    "id": "xnH8vYvwdlkY"
   },
   "outputs": [],
   "source": [
    "mts = ['Oct', 'Sep', 'May', 'Jan', 'Jun', 'Nov', 'Apr', 'Jul', 'Mar', 'Aug', 'Feb', 'Dec']"
   ]
  },
  {
   "cell_type": "code",
   "execution_count": 0,
   "metadata": {
    "colab": {},
    "colab_type": "code",
    "id": "M08STxhxiNBo"
   },
   "outputs": [],
   "source": [
    "def date_extractor(x):\n",
    "  try:\n",
    "    return x.split(' ')[-3] if re.match('\\d+',x.split(' ')[-3]) else 'Unknown_date'\n",
    "  except: \n",
    "    return 'Unknown_date'\n",
    "\n",
    "train['Date'] = train['Edition'].apply(date_extractor)\n",
    "test['Date'] = test['Edition'].apply(date_extractor)"
   ]
  },
  {
   "cell_type": "code",
   "execution_count": 0,
   "metadata": {
    "colab": {},
    "colab_type": "code",
    "id": "jBQT1RzIZIoM"
   },
   "outputs": [],
   "source": [
    "train['Month'] = train['Edition'].apply(lambda x: x[-8:-5] if x[-8:-5] in mts else 'Unknown')\n",
    "test['Month'] =test['Edition'].apply(lambda x: x[-8:-5] if x[-8:-5] in mts else 'Unknown')"
   ]
  },
  {
   "cell_type": "code",
   "execution_count": 0,
   "metadata": {
    "colab": {},
    "colab_type": "code",
    "id": "_SkGlFzPAh10"
   },
   "outputs": [],
   "source": [
    "train['Year'] = train['Edition'].apply(lambda x : x[-4:] if re.match('\\d\\d\\d\\d',x[-4:])\\\n",
    "                                                 else -1).astype('int')\n",
    "test['Year'] = test['Edition'].apply(lambda x : x[-4:] if re.match('\\d\\d\\d\\d',x[-4:])\\\n",
    "                                                 else -1).astype('int')                                                 "
   ]
  },
  {
   "cell_type": "code",
   "execution_count": 0,
   "metadata": {
    "colab": {},
    "colab_type": "code",
    "id": "ILfu-IT_d79h"
   },
   "outputs": [],
   "source": [
    "org_train_date_idx = [i for i,date in enumerate(train['Year'])  if date!=-1]\n",
    "org_test_date_idx = [i for i,date in enumerate(test['Year'])  if date!=-1]"
   ]
  },
  {
   "cell_type": "code",
   "execution_count": 51,
   "metadata": {
    "colab": {
     "base_uri": "https://localhost:8080/",
     "height": 302
    },
    "colab_type": "code",
    "id": "PDUw5TH9Ah12",
    "outputId": "32bb0f07-9aa9-4839-de8f-1e9262c8fdd4"
   },
   "outputs": [
    {
     "data": {
      "text/plain": [
       "<matplotlib.axes._subplots.AxesSubplot at 0x7fb00071f1d0>"
      ]
     },
     "execution_count": 51,
     "metadata": {
      "tags": []
     },
     "output_type": "execute_result"
    },
    {
     "data": {
      "image/png": "[encoded data removed]",
      "text/plain": [
       "<Figure size 432x288 with 1 Axes>"
      ]
     },
     "metadata": {
      "tags": []
     },
     "output_type": "display_data"
    }
   ],
   "source": [
    "sns.distplot(train[train['Year']>2000]['Year'])"
   ]
  },
  {
   "cell_type": "code",
   "execution_count": 52,
   "metadata": {
    "colab": {
     "base_uri": "https://localhost:8080/",
     "height": 302
    },
    "colab_type": "code",
    "id": "S4CdjK6uAh15",
    "outputId": "ccd5d0f3-4ee0-4db0-e6d2-506bec4f9980"
   },
   "outputs": [
    {
     "data": {
      "text/plain": [
       "<matplotlib.axes._subplots.AxesSubplot at 0x7fb000af53c8>"
      ]
     },
     "execution_count": 52,
     "metadata": {
      "tags": []
     },
     "output_type": "execute_result"
    },
    {
     "data": {
      "image/png": "[encoded data removed]",
      "text/plain": [
       "<Figure size 432x288 with 1 Axes>"
      ]
     },
     "metadata": {
      "tags": []
     },
     "output_type": "display_data"
    }
   ],
   "source": [
    "sns.boxplot(train['Year'])"
   ]
  },
  {
   "cell_type": "code",
   "execution_count": 0,
   "metadata": {
    "colab": {},
    "colab_type": "code",
    "id": "5uqQoglCgTB6"
   },
   "outputs": [],
   "source": [
    "train_date_median = train['Year'][org_train_date_idx].median()\n",
    "test_date_median = test['Year'][org_test_date_idx].median()"
   ]
  },
  {
   "cell_type": "code",
   "execution_count": 0,
   "metadata": {
    "colab": {},
    "colab_type": "code",
    "id": "4VICjslJhBDC"
   },
   "outputs": [],
   "source": [
    "train['Year'] = train['Year'].apply(lambda x: x if x!=-1 else train_date_median)\n",
    "test['Year'] = test['Year'].apply(lambda x: x if x!=-1 else test_date_median)"
   ]
  },
  {
   "cell_type": "code",
   "execution_count": 55,
   "metadata": {
    "colab": {
     "base_uri": "https://localhost:8080/",
     "height": 302
    },
    "colab_type": "code",
    "id": "HHUUbSetBlKY",
    "outputId": "c9bd7c3c-1e32-4913-d19c-3a91be52c16b"
   },
   "outputs": [
    {
     "data": {
      "text/plain": [
       "<matplotlib.axes._subplots.AxesSubplot at 0x7fb000a6bcf8>"
      ]
     },
     "execution_count": 55,
     "metadata": {
      "tags": []
     },
     "output_type": "execute_result"
    },
    {
     "data": {
      "image/png": "[encoded data removed]",
      "text/plain": [
       "<Figure size 432x288 with 1 Axes>"
      ]
     },
     "metadata": {
      "tags": []
     },
     "output_type": "display_data"
    }
   ],
   "source": [
    "train['BookAge'] = 2019 - train['Year']\n",
    "train['LoggedBookAge'] = np.log1p(train['BookAge'])\n",
    "test['BookAge'] = 2019 - test['Year']\n",
    "test['LoggedBookAge'] = np.log1p(test['BookAge'])\n",
    "sns.distplot(train['LoggedBookAge'], fit=norm)"
   ]
  },
  {
   "cell_type": "code",
   "execution_count": 56,
   "metadata": {
    "colab": {
     "base_uri": "https://localhost:8080/",
     "height": 302
    },
    "colab_type": "code",
    "id": "OLEmqBe8Bynb",
    "outputId": "4b116bf0-a43e-49fa-8469-23cc13b3a40d"
   },
   "outputs": [
    {
     "data": {
      "text/plain": [
       "<matplotlib.axes._subplots.AxesSubplot at 0x7fb000aa3e48>"
      ]
     },
     "execution_count": 56,
     "metadata": {
      "tags": []
     },
     "output_type": "execute_result"
    },
    {
     "data": {
      "image/png": "[encoded data removed]",
      "text/plain": [
       "<Figure size 432x288 with 1 Axes>"
      ]
     },
     "metadata": {
      "tags": []
     },
     "output_type": "display_data"
    }
   ],
   "source": [
    "sns.boxplot(train['LoggedBookAge'])"
   ]
  },
  {
   "cell_type": "code",
   "execution_count": 57,
   "metadata": {
    "colab": {
     "base_uri": "https://localhost:8080/",
     "height": 585
    },
    "colab_type": "code",
    "id": "B_wEgFynpRI9",
    "outputId": "71f72cfb-5e3d-4ff1-96ab-5b3b7a101df8"
   },
   "outputs": [
    {
     "data": {
      "text/html": [
       "<div>\n",
       "<style scoped>\n",
       "    .dataframe tbody tr th:only-of-type {\n",
       "        vertical-align: middle;\n",
       "    }\n",
       "\n",
       "    .dataframe tbody tr th {\n",
       "        vertical-align: top;\n",
       "    }\n",
       "\n",
       "    .dataframe thead th {\n",
       "        text-align: right;\n",
       "    }\n",
       "</style>\n",
       "<table border=\"1\" class=\"dataframe\">\n",
       "  <thead>\n",
       "    <tr style=\"text-align: right;\">\n",
       "      <th></th>\n",
       "      <th>Title</th>\n",
       "      <th>Author</th>\n",
       "      <th>Edition</th>\n",
       "      <th>Reviews</th>\n",
       "      <th>Ratings</th>\n",
       "      <th>Synopsis</th>\n",
       "      <th>Genre</th>\n",
       "      <th>BookCategory</th>\n",
       "      <th>Price</th>\n",
       "      <th>Title0</th>\n",
       "      <th>Title1</th>\n",
       "      <th>Title2</th>\n",
       "      <th>Edition_Type</th>\n",
       "      <th>Edition_Refine_Type</th>\n",
       "      <th>Edition_Type_Blind_Group</th>\n",
       "      <th>Date</th>\n",
       "      <th>Month</th>\n",
       "      <th>Year</th>\n",
       "      <th>BookAge</th>\n",
       "      <th>LoggedBookAge</th>\n",
       "    </tr>\n",
       "  </thead>\n",
       "  <tbody>\n",
       "    <tr>\n",
       "      <th>0</th>\n",
       "      <td>The Prisoner's Gold (The Hunters 3)</td>\n",
       "      <td>Chris Kuzneski</td>\n",
       "      <td>Paperback,– 10 Mar 2016</td>\n",
       "      <td>4.0 out of 5 stars</td>\n",
       "      <td>8 customer reviews</td>\n",
       "      <td>THE HUNTERS return in their third brilliant no...</td>\n",
       "      <td>Action &amp; Adventure (Books)</td>\n",
       "      <td>Action &amp; Adventure</td>\n",
       "      <td>220.00</td>\n",
       "      <td>0.235165</td>\n",
       "      <td>-0.013440</td>\n",
       "      <td>0.152082</td>\n",
       "      <td>Paperback</td>\n",
       "      <td>Paperback</td>\n",
       "      <td>Paperback</td>\n",
       "      <td>10</td>\n",
       "      <td>Mar</td>\n",
       "      <td>2016.0</td>\n",
       "      <td>3.0</td>\n",
       "      <td>1.386294</td>\n",
       "    </tr>\n",
       "    <tr>\n",
       "      <th>1</th>\n",
       "      <td>Guru Dutt: A Tragedy in Three Acts</td>\n",
       "      <td>Arun Khopkar</td>\n",
       "      <td>Paperback,– 7 Nov 2012</td>\n",
       "      <td>3.9 out of 5 stars</td>\n",
       "      <td>14 customer reviews</td>\n",
       "      <td>A layered portrait of a troubled genius for wh...</td>\n",
       "      <td>Cinema &amp; Broadcast (Books)</td>\n",
       "      <td>Biographies, Diaries &amp; True Accounts</td>\n",
       "      <td>202.93</td>\n",
       "      <td>0.090840</td>\n",
       "      <td>-0.146708</td>\n",
       "      <td>-0.136062</td>\n",
       "      <td>Paperback</td>\n",
       "      <td>Paperback</td>\n",
       "      <td>Paperback</td>\n",
       "      <td>7</td>\n",
       "      <td>Nov</td>\n",
       "      <td>2012.0</td>\n",
       "      <td>7.0</td>\n",
       "      <td>2.079442</td>\n",
       "    </tr>\n",
       "    <tr>\n",
       "      <th>2</th>\n",
       "      <td>Leviathan (Penguin Classics)</td>\n",
       "      <td>Thomas Hobbes</td>\n",
       "      <td>Paperback,– 25 Feb 1982</td>\n",
       "      <td>4.8 out of 5 stars</td>\n",
       "      <td>6 customer reviews</td>\n",
       "      <td>\"During the time men live without a common Pow...</td>\n",
       "      <td>International Relations</td>\n",
       "      <td>Humour</td>\n",
       "      <td>299.00</td>\n",
       "      <td>0.137015</td>\n",
       "      <td>-0.294545</td>\n",
       "      <td>0.523090</td>\n",
       "      <td>Paperback</td>\n",
       "      <td>Paperback</td>\n",
       "      <td>Paperback</td>\n",
       "      <td>25</td>\n",
       "      <td>Feb</td>\n",
       "      <td>1982.0</td>\n",
       "      <td>37.0</td>\n",
       "      <td>3.637586</td>\n",
       "    </tr>\n",
       "    <tr>\n",
       "      <th>3</th>\n",
       "      <td>A Pocket Full of Rye (Miss Marple)</td>\n",
       "      <td>Agatha Christie</td>\n",
       "      <td>Paperback,– 5 Oct 2017</td>\n",
       "      <td>4.1 out of 5 stars</td>\n",
       "      <td>13 customer reviews</td>\n",
       "      <td>A handful of grain is found in the pocket of a...</td>\n",
       "      <td>Contemporary Fiction (Books)</td>\n",
       "      <td>Crime, Thriller &amp; Mystery</td>\n",
       "      <td>180.00</td>\n",
       "      <td>0.095823</td>\n",
       "      <td>-0.136237</td>\n",
       "      <td>0.068786</td>\n",
       "      <td>Paperback</td>\n",
       "      <td>Paperback</td>\n",
       "      <td>Paperback</td>\n",
       "      <td>5</td>\n",
       "      <td>Oct</td>\n",
       "      <td>2017.0</td>\n",
       "      <td>2.0</td>\n",
       "      <td>1.098612</td>\n",
       "    </tr>\n",
       "    <tr>\n",
       "      <th>4</th>\n",
       "      <td>LIFE 70 Years of Extraordinary Photography</td>\n",
       "      <td>Editors of Life</td>\n",
       "      <td>Hardcover,– 10 Oct 2006</td>\n",
       "      <td>5.0 out of 5 stars</td>\n",
       "      <td>1 customer review</td>\n",
       "      <td>For seven decades, \"Life\" has been thrilling t...</td>\n",
       "      <td>Photography Textbooks</td>\n",
       "      <td>Arts, Film &amp; Photography</td>\n",
       "      <td>965.62</td>\n",
       "      <td>0.058984</td>\n",
       "      <td>-0.038359</td>\n",
       "      <td>-0.041727</td>\n",
       "      <td>Hardcover</td>\n",
       "      <td>Hardcover</td>\n",
       "      <td>Hardcover</td>\n",
       "      <td>10</td>\n",
       "      <td>Oct</td>\n",
       "      <td>2006.0</td>\n",
       "      <td>13.0</td>\n",
       "      <td>2.639057</td>\n",
       "    </tr>\n",
       "  </tbody>\n",
       "</table>\n",
       "</div>"
      ],
      "text/plain": [
       "                                        Title  ... LoggedBookAge\n",
       "0         The Prisoner's Gold (The Hunters 3)  ...      1.386294\n",
       "1          Guru Dutt: A Tragedy in Three Acts  ...      2.079442\n",
       "2                Leviathan (Penguin Classics)  ...      3.637586\n",
       "3          A Pocket Full of Rye (Miss Marple)  ...      1.098612\n",
       "4  LIFE 70 Years of Extraordinary Photography  ...      2.639057\n",
       "\n",
       "[5 rows x 20 columns]"
      ]
     },
     "execution_count": 57,
     "metadata": {
      "tags": []
     },
     "output_type": "execute_result"
    }
   ],
   "source": [
    "train.head()"
   ]
  },
  {
   "cell_type": "code",
   "execution_count": 0,
   "metadata": {
    "colab": {},
    "colab_type": "code",
    "id": "PxymxVTJteTi"
   },
   "outputs": [],
   "source": [
    "import calendar\n",
    "abbr_to_num = {name: num for num, name in enumerate(calendar.month_abbr) if num}"
   ]
  },
  {
   "cell_type": "code",
   "execution_count": 84,
   "metadata": {
    "colab": {
     "base_uri": "https://localhost:8080/",
     "height": 602
    },
    "colab_type": "code",
    "id": "5yPrv7c_qIbf",
    "outputId": "be10d315-190c-4689-a587-fc09951efabc"
   },
   "outputs": [
    {
     "data": {
      "text/html": [
       "<div>\n",
       "<style scoped>\n",
       "    .dataframe tbody tr th:only-of-type {\n",
       "        vertical-align: middle;\n",
       "    }\n",
       "\n",
       "    .dataframe tbody tr th {\n",
       "        vertical-align: top;\n",
       "    }\n",
       "\n",
       "    .dataframe thead th {\n",
       "        text-align: right;\n",
       "    }\n",
       "</style>\n",
       "<table border=\"1\" class=\"dataframe\">\n",
       "  <thead>\n",
       "    <tr style=\"text-align: right;\">\n",
       "      <th></th>\n",
       "      <th>Title</th>\n",
       "      <th>Author</th>\n",
       "      <th>Edition</th>\n",
       "      <th>Reviews</th>\n",
       "      <th>Ratings</th>\n",
       "      <th>Synopsis</th>\n",
       "      <th>Genre</th>\n",
       "      <th>BookCategory</th>\n",
       "      <th>Price</th>\n",
       "      <th>Title0</th>\n",
       "      <th>Title1</th>\n",
       "      <th>Title2</th>\n",
       "      <th>Edition_Type</th>\n",
       "      <th>Edition_Refine_Type</th>\n",
       "      <th>Edition_Type_Blind_Group</th>\n",
       "      <th>Date</th>\n",
       "      <th>Month</th>\n",
       "      <th>Year</th>\n",
       "      <th>BookAge</th>\n",
       "      <th>LoggedBookAge</th>\n",
       "      <th>Yr_wk</th>\n",
       "      <th>Wk_day</th>\n",
       "    </tr>\n",
       "  </thead>\n",
       "  <tbody>\n",
       "    <tr>\n",
       "      <th>0</th>\n",
       "      <td>The Prisoner's Gold (The Hunters 3)</td>\n",
       "      <td>Chris Kuzneski</td>\n",
       "      <td>Paperback,– 10 Mar 2016</td>\n",
       "      <td>4.0 out of 5 stars</td>\n",
       "      <td>8 customer reviews</td>\n",
       "      <td>THE HUNTERS return in their third brilliant no...</td>\n",
       "      <td>Action &amp; Adventure (Books)</td>\n",
       "      <td>Action &amp; Adventure</td>\n",
       "      <td>220.00</td>\n",
       "      <td>0.235165</td>\n",
       "      <td>-0.013440</td>\n",
       "      <td>0.152082</td>\n",
       "      <td>Paperback</td>\n",
       "      <td>Paperback</td>\n",
       "      <td>Paperback</td>\n",
       "      <td>10</td>\n",
       "      <td>Mar</td>\n",
       "      <td>2016.0</td>\n",
       "      <td>3.0</td>\n",
       "      <td>1.386294</td>\n",
       "      <td>10</td>\n",
       "      <td>4</td>\n",
       "    </tr>\n",
       "    <tr>\n",
       "      <th>1</th>\n",
       "      <td>Guru Dutt: A Tragedy in Three Acts</td>\n",
       "      <td>Arun Khopkar</td>\n",
       "      <td>Paperback,– 7 Nov 2012</td>\n",
       "      <td>3.9 out of 5 stars</td>\n",
       "      <td>14 customer reviews</td>\n",
       "      <td>A layered portrait of a troubled genius for wh...</td>\n",
       "      <td>Cinema &amp; Broadcast (Books)</td>\n",
       "      <td>Biographies, Diaries &amp; True Accounts</td>\n",
       "      <td>202.93</td>\n",
       "      <td>0.090840</td>\n",
       "      <td>-0.146708</td>\n",
       "      <td>-0.136062</td>\n",
       "      <td>Paperback</td>\n",
       "      <td>Paperback</td>\n",
       "      <td>Paperback</td>\n",
       "      <td>7</td>\n",
       "      <td>Nov</td>\n",
       "      <td>2012.0</td>\n",
       "      <td>7.0</td>\n",
       "      <td>2.079442</td>\n",
       "      <td>45</td>\n",
       "      <td>3</td>\n",
       "    </tr>\n",
       "    <tr>\n",
       "      <th>2</th>\n",
       "      <td>Leviathan (Penguin Classics)</td>\n",
       "      <td>Thomas Hobbes</td>\n",
       "      <td>Paperback,– 25 Feb 1982</td>\n",
       "      <td>4.8 out of 5 stars</td>\n",
       "      <td>6 customer reviews</td>\n",
       "      <td>\"During the time men live without a common Pow...</td>\n",
       "      <td>International Relations</td>\n",
       "      <td>Humour</td>\n",
       "      <td>299.00</td>\n",
       "      <td>0.137015</td>\n",
       "      <td>-0.294545</td>\n",
       "      <td>0.523090</td>\n",
       "      <td>Paperback</td>\n",
       "      <td>Paperback</td>\n",
       "      <td>Paperback</td>\n",
       "      <td>25</td>\n",
       "      <td>Feb</td>\n",
       "      <td>1982.0</td>\n",
       "      <td>37.0</td>\n",
       "      <td>3.637586</td>\n",
       "      <td>8</td>\n",
       "      <td>4</td>\n",
       "    </tr>\n",
       "    <tr>\n",
       "      <th>3</th>\n",
       "      <td>A Pocket Full of Rye (Miss Marple)</td>\n",
       "      <td>Agatha Christie</td>\n",
       "      <td>Paperback,– 5 Oct 2017</td>\n",
       "      <td>4.1 out of 5 stars</td>\n",
       "      <td>13 customer reviews</td>\n",
       "      <td>A handful of grain is found in the pocket of a...</td>\n",
       "      <td>Contemporary Fiction (Books)</td>\n",
       "      <td>Crime, Thriller &amp; Mystery</td>\n",
       "      <td>180.00</td>\n",
       "      <td>0.095823</td>\n",
       "      <td>-0.136237</td>\n",
       "      <td>0.068786</td>\n",
       "      <td>Paperback</td>\n",
       "      <td>Paperback</td>\n",
       "      <td>Paperback</td>\n",
       "      <td>5</td>\n",
       "      <td>Oct</td>\n",
       "      <td>2017.0</td>\n",
       "      <td>2.0</td>\n",
       "      <td>1.098612</td>\n",
       "      <td>40</td>\n",
       "      <td>4</td>\n",
       "    </tr>\n",
       "    <tr>\n",
       "      <th>4</th>\n",
       "      <td>LIFE 70 Years of Extraordinary Photography</td>\n",
       "      <td>Editors of Life</td>\n",
       "      <td>Hardcover,– 10 Oct 2006</td>\n",
       "      <td>5.0 out of 5 stars</td>\n",
       "      <td>1 customer review</td>\n",
       "      <td>For seven decades, \"Life\" has been thrilling t...</td>\n",
       "      <td>Photography Textbooks</td>\n",
       "      <td>Arts, Film &amp; Photography</td>\n",
       "      <td>965.62</td>\n",
       "      <td>0.058984</td>\n",
       "      <td>-0.038359</td>\n",
       "      <td>-0.041727</td>\n",
       "      <td>Hardcover</td>\n",
       "      <td>Hardcover</td>\n",
       "      <td>Hardcover</td>\n",
       "      <td>10</td>\n",
       "      <td>Oct</td>\n",
       "      <td>2006.0</td>\n",
       "      <td>13.0</td>\n",
       "      <td>2.639057</td>\n",
       "      <td>41</td>\n",
       "      <td>2</td>\n",
       "    </tr>\n",
       "  </tbody>\n",
       "</table>\n",
       "</div>"
      ],
      "text/plain": [
       "                                        Title           Author  ... Yr_wk Wk_day\n",
       "0         The Prisoner's Gold (The Hunters 3)   Chris Kuzneski  ...    10      4\n",
       "1          Guru Dutt: A Tragedy in Three Acts     Arun Khopkar  ...    45      3\n",
       "2                Leviathan (Penguin Classics)    Thomas Hobbes  ...     8      4\n",
       "3          A Pocket Full of Rye (Miss Marple)  Agatha Christie  ...    40      4\n",
       "4  LIFE 70 Years of Extraordinary Photography  Editors of Life  ...    41      2\n",
       "\n",
       "[5 rows x 22 columns]"
      ]
     },
     "execution_count": 84,
     "metadata": {
      "tags": []
     },
     "output_type": "execute_result"
    },
    {
     "name": "stdout",
     "output_type": "stream",
     "text": [
      "0\n"
     ]
    }
   ],
   "source": [
    "import datetime\n",
    "a =0 \n",
    "def wk_calculator(x):\n",
    "  global a\n",
    "  if (x['Date'] in map(str,list(range(1,32)))) and (x['Year']!=-1) and (x['Month'] in mts):\n",
    "    return pd.Series(datetime.date(int(x['Year']), abbr_to_num[x['Month']], int(x['Date'])).isocalendar()[1:])\n",
    "    a+=0\n",
    "  else:\n",
    "    # print(x)\n",
    "    return pd.Series(['Unknown_yr_wk','Unknown_wk_day'])\n",
    "    a+=1\n",
    "train[['Yr_wk','Wk_day']] = train[['Date','Month','Year']].apply(wk_calculator, axis =1)\n",
    "test[['Yr_wk','Wk_day']] = test[['Date','Month','Year']].apply(wk_calculator, axis =1)\n",
    "train.head()\n",
    "# for i,val in train.iterrows():\n",
    "#   wk_calculator(val[['Date','Month','Year']])\n",
    "print(a)"
   ]
  },
  {
   "cell_type": "code",
   "execution_count": 85,
   "metadata": {
    "colab": {
     "base_uri": "https://localhost:8080/",
     "height": 84
    },
    "colab_type": "code",
    "id": "7BzGsPFnucq7",
    "outputId": "e2fb6d3e-de13-4a33-93a9-847c17ec397e"
   },
   "outputs": [
    {
     "data": {
      "text/plain": [
       "array([4, 3, 2, 5, 'Unknown_wk_day', 6, 7, 1], dtype=object)"
      ]
     },
     "execution_count": 85,
     "metadata": {
      "tags": []
     },
     "output_type": "execute_result"
    },
    {
     "data": {
      "text/plain": [
       "array([10, 45, 8, 40, 41, 19, 9, 51, 13, 3, 24, 26, 46, 35, 44, 1,\n",
       "       'Unknown_yr_wk', 47, 27, 42, 38, 16, 30, 36, 48, 39, 34, 28, 52, 2,\n",
       "       23, 12, 17, 37, 4, 29, 11, 22, 20, 18, 31, 15, 5, 7, 53, 43, 25, 6,\n",
       "       14, 32, 49, 33, 50, 21], dtype=object)"
      ]
     },
     "execution_count": 85,
     "metadata": {
      "tags": []
     },
     "output_type": "execute_result"
    }
   ],
   "source": [
    "train['Wk_day'].unique()\n",
    "train['Yr_wk'].unique()"
   ]
  },
  {
   "cell_type": "code",
   "execution_count": 0,
   "metadata": {
    "colab": {},
    "colab_type": "code",
    "id": "69VVot3zAh17"
   },
   "outputs": [],
   "source": [
    "# def split(a, n):\n",
    "#     k, m = divmod(len(a), n)\n",
    "#     return (a[i * k + min(i, m):(i + 1) * k + min(i + 1, m)] for i in range(n))\n",
    "\n",
    "# date_separators = list(split(sorted(train['Year'].unique()), 3))\n",
    "# # date_replace = {date_separators[0]:'old',tuple(date_separators[1]):'medium',tuple(date_separators[2]):'recent'}\n",
    "# train['Date_Binned'] = train['Year'].replace(date_separators[0],'old').replace(date_separators[1],'medium').replace(date_separators[2],'recent')\n",
    "# train.head()"
   ]
  },
  {
   "cell_type": "code",
   "execution_count": 0,
   "metadata": {
    "colab": {},
    "colab_type": "code",
    "id": "iXXAjl53Ah1-"
   },
   "outputs": [],
   "source": [
    "# train['Date_Binned'], bins = pd.cut(train['Year'], bins = 3,retbins= True, labels = ['Old', 'Medieval',' Recent'])"
   ]
  },
  {
   "cell_type": "code",
   "execution_count": 0,
   "metadata": {
    "colab": {},
    "colab_type": "code",
    "id": "j4Rkq0ekAh2B"
   },
   "outputs": [],
   "source": [
    "# test['Date_Binned'] = pd.cut(test['Year'], bins = bins, labels = ['Old', 'Medieval',' Recent'])"
   ]
  },
  {
   "cell_type": "markdown",
   "metadata": {
    "colab_type": "text",
    "id": "Pu-dbEpHAh2E"
   },
   "source": [
    "## Review Analysis"
   ]
  },
  {
   "cell_type": "code",
   "execution_count": 0,
   "metadata": {
    "colab": {},
    "colab_type": "code",
    "id": "fXt23oTXAh2E"
   },
   "outputs": [],
   "source": [
    "train[['Stars_Obtained','Total_Stars']] = train['Reviews'].apply(lambda x: pd.Series(re.findall('(\\d.\\d) out of (\\d) stars',x)[0])) \n",
    "test[['Stars_Obtained','Total_Stars']] = test['Reviews'].apply(lambda x: pd.Series(re.findall('(\\d.\\d) out of (\\d) stars',x)[0])) "
   ]
  },
  {
   "cell_type": "code",
   "execution_count": 87,
   "metadata": {
    "colab": {
     "base_uri": "https://localhost:8080/",
     "height": 67
    },
    "colab_type": "code",
    "id": "SSIseCraAh2H",
    "outputId": "c7abec9b-069b-4fc1-82ca-72705bb6ba94"
   },
   "outputs": [
    {
     "data": {
      "text/plain": [
       "Total_Stars\n",
       "5    6237\n",
       "dtype: int64"
      ]
     },
     "execution_count": 87,
     "metadata": {
      "tags": []
     },
     "output_type": "execute_result"
    }
   ],
   "source": [
    "train.groupby('Total_Stars').size()"
   ]
  },
  {
   "cell_type": "code",
   "execution_count": 88,
   "metadata": {
    "colab": {
     "base_uri": "https://localhost:8080/",
     "height": 285
    },
    "colab_type": "code",
    "id": "Y4_9iKKqAh2K",
    "outputId": "5d27ea1a-013b-420a-c5a8-edabc672a1f3"
   },
   "outputs": [
    {
     "data": {
      "text/plain": [
       "<matplotlib.collections.PathCollection at 0x7faffd2f50f0>"
      ]
     },
     "execution_count": 88,
     "metadata": {
      "tags": []
     },
     "output_type": "execute_result"
    },
    {
     "data": {
      "image/png": "[encoded data removed]",
      "text/plain": [
       "<Figure size 432x288 with 1 Axes>"
      ]
     },
     "metadata": {
      "tags": []
     },
     "output_type": "display_data"
    }
   ],
   "source": [
    "# train.drop('Total_Stars',axis =1 , inplace =True) #All are out of 5\n",
    "train['Stars_Obtained'] =train['Stars_Obtained'].astype('float')\n",
    "test['Stars_Obtained'] =test['Stars_Obtained'].astype('float')\n",
    "plt.scatter(train['Stars_Obtained'],train['Price'])"
   ]
  },
  {
   "cell_type": "code",
   "execution_count": 89,
   "metadata": {
    "colab": {
     "base_uri": "https://localhost:8080/",
     "height": 302
    },
    "colab_type": "code",
    "id": "6ynXB5TPAh2P",
    "outputId": "49876f7c-db4e-4067-a3e9-80d7a4231d5c"
   },
   "outputs": [
    {
     "data": {
      "text/plain": [
       "<matplotlib.axes._subplots.AxesSubplot at 0x7fb000ac9748>"
      ]
     },
     "execution_count": 89,
     "metadata": {
      "tags": []
     },
     "output_type": "execute_result"
    },
    {
     "data": {
      "image/png": "[encoded data removed]",
      "text/plain": [
       "<Figure size 432x288 with 1 Axes>"
      ]
     },
     "metadata": {
      "tags": []
     },
     "output_type": "display_data"
    }
   ],
   "source": [
    "sns.distplot(train['Stars_Obtained'])"
   ]
  },
  {
   "cell_type": "markdown",
   "metadata": {
    "colab_type": "text",
    "id": "ugVSxN_vAh2R"
   },
   "source": [
    "## Rating Analysis"
   ]
  },
  {
   "cell_type": "code",
   "execution_count": 90,
   "metadata": {
    "colab": {
     "base_uri": "https://localhost:8080/",
     "height": 305
    },
    "colab_type": "code",
    "id": "WkA1dOEoAh2S",
    "outputId": "a2850357-4b43-4248-940b-e466bb06939d"
   },
   "outputs": [
    {
     "data": {
      "text/plain": [
       "<matplotlib.axes._subplots.AxesSubplot at 0x7faffd3efef0>"
      ]
     },
     "execution_count": 90,
     "metadata": {
      "tags": []
     },
     "output_type": "execute_result"
    },
    {
     "data": {
      "image/png": "[encoded data removed]",
      "text/plain": [
       "<Figure size 432x288 with 1 Axes>"
      ]
     },
     "metadata": {
      "tags": []
     },
     "output_type": "display_data"
    }
   ],
   "source": [
    "train['No_Of_Reviews'] = train['Ratings'].apply(lambda x: re.findall('(\\d+) customer reviews?',x)[0]).astype('int')\n",
    "test['No_Of_Reviews'] = test['Ratings'].apply(lambda x: re.findall('(\\d+) customer reviews?',x)[0]) .astype('int')\n",
    "sns.distplot(train['No_Of_Reviews'])"
   ]
  },
  {
   "cell_type": "code",
   "execution_count": 91,
   "metadata": {
    "colab": {
     "base_uri": "https://localhost:8080/",
     "height": 285
    },
    "colab_type": "code",
    "id": "fSSgXJzNAh2U",
    "outputId": "7f684779-8226-4923-98fe-fabbde065a39"
   },
   "outputs": [
    {
     "data": {
      "text/plain": [
       "<matplotlib.collections.PathCollection at 0x7faffd2f6be0>"
      ]
     },
     "execution_count": 91,
     "metadata": {
      "tags": []
     },
     "output_type": "execute_result"
    },
    {
     "data": {
      "image/png": "[encoded data removed]",
      "text/plain": [
       "<Figure size 432x288 with 1 Axes>"
      ]
     },
     "metadata": {
      "tags": []
     },
     "output_type": "display_data"
    }
   ],
   "source": [
    "plt.scatter(train['No_Of_Reviews'],train['Price'])"
   ]
  },
  {
   "cell_type": "code",
   "execution_count": 92,
   "metadata": {
    "colab": {
     "base_uri": "https://localhost:8080/",
     "height": 302
    },
    "colab_type": "code",
    "id": "Osa0UYVRAh2W",
    "outputId": "eac1b799-e643-4600-9c4e-fe35d18d7856"
   },
   "outputs": [
    {
     "data": {
      "text/plain": [
       "<matplotlib.axes._subplots.AxesSubplot at 0x7fafff301cc0>"
      ]
     },
     "execution_count": 92,
     "metadata": {
      "tags": []
     },
     "output_type": "execute_result"
    },
    {
     "data": {
      "image/png": "[encoded data removed]",
      "text/plain": [
       "<Figure size 432x288 with 1 Axes>"
      ]
     },
     "metadata": {
      "tags": []
     },
     "output_type": "display_data"
    }
   ],
   "source": [
    "sns.boxplot(train['No_Of_Reviews'])"
   ]
  },
  {
   "cell_type": "code",
   "execution_count": 93,
   "metadata": {
    "colab": {
     "base_uri": "https://localhost:8080/",
     "height": 302
    },
    "colab_type": "code",
    "id": "79Vf038MAh2Y",
    "outputId": "91435e8c-1ba5-47d0-d20e-a383aea1aa39"
   },
   "outputs": [
    {
     "data": {
      "text/plain": [
       "<matplotlib.axes._subplots.AxesSubplot at 0x7faffd2e2ac8>"
      ]
     },
     "execution_count": 93,
     "metadata": {
      "tags": []
     },
     "output_type": "execute_result"
    },
    {
     "data": {
      "image/png": "[encoded data removed]",
      "text/plain": [
       "<Figure size 432x288 with 1 Axes>"
      ]
     },
     "metadata": {
      "tags": []
     },
     "output_type": "display_data"
    }
   ],
   "source": [
    "train['Reciprocated_Reviews'] = 1/train['No_Of_Reviews']\n",
    "test['Reciprocated_Reviews'] = 1/test['No_Of_Reviews']\n",
    "sns.boxplot(train['Reciprocated_Reviews'])"
   ]
  },
  {
   "cell_type": "code",
   "execution_count": 0,
   "metadata": {
    "colab": {},
    "colab_type": "code",
    "id": "TVpEVPFyAh2c"
   },
   "outputs": [],
   "source": [
    "# train['Logged_Reviews'] = np.log1p(train['No_Of_Reviews'])\n",
    "# test['Logged_Reviews'] = np.log1p(test['No_Of_Reviews'])\n",
    "# sns.boxplot(train['Logged_Reviews'])"
   ]
  },
  {
   "cell_type": "code",
   "execution_count": 94,
   "metadata": {
    "colab": {
     "base_uri": "https://localhost:8080/",
     "height": 302
    },
    "colab_type": "code",
    "id": "KgxdGSZJAh2e",
    "outputId": "e8e13bce-011a-4524-8069-474d3605a92b"
   },
   "outputs": [
    {
     "data": {
      "text/plain": [
       "<matplotlib.axes._subplots.AxesSubplot at 0x7faffcdff7f0>"
      ]
     },
     "execution_count": 94,
     "metadata": {
      "tags": []
     },
     "output_type": "execute_result"
    },
    {
     "data": {
      "image/png": "[encoded data removed]",
      "text/plain": [
       "<Figure size 432x288 with 1 Axes>"
      ]
     },
     "metadata": {
      "tags": []
     },
     "output_type": "display_data"
    }
   ],
   "source": [
    "sns.distplot(train['Reciprocated_Reviews'], fit = norm)"
   ]
  },
  {
   "cell_type": "markdown",
   "metadata": {
    "colab_type": "text",
    "id": "hm5a8Ag3Ah2g"
   },
   "source": [
    "## Genre Analysis"
   ]
  },
  {
   "cell_type": "code",
   "execution_count": 95,
   "metadata": {
    "colab": {
     "base_uri": "https://localhost:8080/",
     "height": 34
    },
    "colab_type": "code",
    "id": "X3uazvwXAh2j",
    "outputId": "18fd0a45-55e2-496f-a01f-0f8b8a2fb928"
   },
   "outputs": [
    {
     "data": {
      "text/plain": [
       "18"
      ]
     },
     "execution_count": 95,
     "metadata": {
      "tags": []
     },
     "output_type": "execute_result"
    }
   ],
   "source": [
    "##Set operation \n",
    "# & : Intersection\n",
    "# | : Union\n",
    "# - : Difference\n",
    "# ^ : Symmetric Difference\n",
    "\n",
    "len(set(test['Genre']) - set(train[\"Genre\"]))"
   ]
  },
  {
   "cell_type": "code",
   "execution_count": 0,
   "metadata": {
    "colab": {},
    "colab_type": "code",
    "id": "CuVz41_NCwlX"
   },
   "outputs": [],
   "source": [
    "#  !python -m spacy download en_core_web_lg"
   ]
  },
  {
   "cell_type": "code",
   "execution_count": 0,
   "metadata": {
    "colab": {},
    "colab_type": "code",
    "id": "CE2z28OFBAzi"
   },
   "outputs": [],
   "source": [
    "# import spacy\n",
    "# # Load the spacy model that you have installed\n",
    "# nlp = spacy.load('en')\n",
    "# # process a sentence using the model\n",
    "# genre_vector  = np.array([nlp(genre).vector for genre in train['Genre']])\n",
    "# genre_vector.shape\n",
    "# # It's that simple - all of the vectors and words are assigned after this point\n",
    "# # Get the vector for 'text'\n",
    "# # doc.shape\n",
    "\n",
    "\n",
    "# genre_components = 15\n",
    "# ts2= TruncatedSVD(n_components = genre_components)\n",
    "# genre_features = ts2.fit_transform(genre_vector)\n",
    "\n",
    "# genre_cols = ['Genre'+str(i) for i in range(genre_components)]\n",
    "# # genre_cols\n",
    "\n",
    "# train[genre_cols] = pd.DataFrame(genre_features)\n",
    "# train[genre_cols].head()\n",
    "\n",
    "# test_genre_vector = np.array([nlp(genre).vector for genre in test['Genre']])\n",
    "# test_genre_vector.shape\n",
    "\n",
    "# test_genre_features = ts2.transform(test_genre_vector)\n",
    "\n",
    "# # genre_cols\n",
    "\n",
    "# test[genre_cols] = pd.DataFrame(test_genre_features)\n",
    "# test[genre_cols].head()"
   ]
  },
  {
   "cell_type": "code",
   "execution_count": 0,
   "metadata": {
    "colab": {},
    "colab_type": "code",
    "id": "pMnk8hLhBAzp"
   },
   "outputs": [],
   "source": [
    "tfidf2 = TfidfVectorizer(strip_accents='unicode',lowercase=True,ngram_range=(1,2),max_df=0.7,min_df=5,tokenizer = custom_tokenizer) \n",
    "\n",
    "genre_sparse_matrix = tfidf2.fit_transform(train['Genre'])\n",
    "\n",
    "ts2= TruncatedSVD(n_components = 15)\n",
    "genre_features = ts2.fit_transform(genre_sparse_matrix)\n",
    "\n",
    "genre_cols = ['Genre'+str(i) for i in range(15)]\n",
    "# genre_cols\n",
    "\n",
    "train[genre_cols] = pd.DataFrame(genre_features)\n",
    "\n",
    "train.head()\n",
    "\n",
    "# tfidf = TfidfVectorizer(strip_accents='unicode',lowercase=True,ngram_range=(1,3),max_df=0.7,min_df=5,tokenizer = custom_tokenizer) \n",
    "test_genre_sparse_matrix = tfidf2.transform(test['Genre'])\n",
    "\n",
    "# ts= TruncatedSVD(n_components = 50)\n",
    "test_genre_features = ts2.transform(test_genre_sparse_matrix)\n",
    "\n",
    "test[genre_cols] = pd.DataFrame(test_genre_features)\n",
    "\n",
    "test.head()"
   ]
  },
  {
   "cell_type": "markdown",
   "metadata": {
    "colab_type": "text",
    "id": "l_RV-uu1Ah2m"
   },
   "source": [
    "## BookCategory Analysis"
   ]
  },
  {
   "cell_type": "code",
   "execution_count": 97,
   "metadata": {
    "colab": {
     "base_uri": "https://localhost:8080/",
     "height": 621
    },
    "colab_type": "code",
    "id": "nlNmSyyeAh2s",
    "outputId": "0b9a1eb9-9bb9-4c02-e0dd-ac5d3ca6fc1f"
   },
   "outputs": [
    {
     "data": {
      "text/plain": [
       "BookCategory\n",
       "Action & Adventure                      818\n",
       "Arts, Film & Photography                517\n",
       "Biographies, Diaries & True Accounts    596\n",
       "Comics & Mangas                         583\n",
       "Computing, Internet & Digital Media     510\n",
       "Crime, Thriller & Mystery               723\n",
       "Humour                                  540\n",
       "Language, Linguistics & Writing         594\n",
       "Politics                                325\n",
       "Romance                                 560\n",
       "Sports                                  471\n",
       "dtype: int64"
      ]
     },
     "execution_count": 97,
     "metadata": {
      "tags": []
     },
     "output_type": "execute_result"
    },
    {
     "data": {
      "text/plain": [
       "0"
      ]
     },
     "execution_count": 97,
     "metadata": {
      "tags": []
     },
     "output_type": "execute_result"
    },
    {
     "data": {
      "text/html": [
       "<div>\n",
       "<style scoped>\n",
       "    .dataframe tbody tr th:only-of-type {\n",
       "        vertical-align: middle;\n",
       "    }\n",
       "\n",
       "    .dataframe tbody tr th {\n",
       "        vertical-align: top;\n",
       "    }\n",
       "\n",
       "    .dataframe thead th {\n",
       "        text-align: right;\n",
       "    }\n",
       "</style>\n",
       "<table border=\"1\" class=\"dataframe\">\n",
       "  <thead>\n",
       "    <tr style=\"text-align: right;\">\n",
       "      <th></th>\n",
       "      <th>count</th>\n",
       "      <th>mean</th>\n",
       "      <th>std</th>\n",
       "      <th>min</th>\n",
       "      <th>25%</th>\n",
       "      <th>50%</th>\n",
       "      <th>75%</th>\n",
       "      <th>max</th>\n",
       "    </tr>\n",
       "    <tr>\n",
       "      <th>BookCategory</th>\n",
       "      <th></th>\n",
       "      <th></th>\n",
       "      <th></th>\n",
       "      <th></th>\n",
       "      <th></th>\n",
       "      <th></th>\n",
       "      <th></th>\n",
       "      <th></th>\n",
       "    </tr>\n",
       "  </thead>\n",
       "  <tbody>\n",
       "    <tr>\n",
       "      <th>Action &amp; Adventure</th>\n",
       "      <td>818.0</td>\n",
       "      <td>415.810905</td>\n",
       "      <td>410.688382</td>\n",
       "      <td>50.00</td>\n",
       "      <td>247.000</td>\n",
       "      <td>323.76</td>\n",
       "      <td>435.00</td>\n",
       "      <td>5600.00</td>\n",
       "    </tr>\n",
       "    <tr>\n",
       "      <th>Arts, Film &amp; Photography</th>\n",
       "      <td>517.0</td>\n",
       "      <td>833.266151</td>\n",
       "      <td>927.015676</td>\n",
       "      <td>25.00</td>\n",
       "      <td>363.000</td>\n",
       "      <td>582.00</td>\n",
       "      <td>1029.00</td>\n",
       "      <td>11715.12</td>\n",
       "    </tr>\n",
       "    <tr>\n",
       "      <th>Biographies, Diaries &amp; True Accounts</th>\n",
       "      <td>596.0</td>\n",
       "      <td>345.142701</td>\n",
       "      <td>197.064828</td>\n",
       "      <td>25.00</td>\n",
       "      <td>226.750</td>\n",
       "      <td>318.00</td>\n",
       "      <td>406.25</td>\n",
       "      <td>2742.00</td>\n",
       "    </tr>\n",
       "    <tr>\n",
       "      <th>Comics &amp; Mangas</th>\n",
       "      <td>583.0</td>\n",
       "      <td>752.331235</td>\n",
       "      <td>1025.436632</td>\n",
       "      <td>56.00</td>\n",
       "      <td>327.500</td>\n",
       "      <td>487.00</td>\n",
       "      <td>799.00</td>\n",
       "      <td>14100.00</td>\n",
       "    </tr>\n",
       "    <tr>\n",
       "      <th>Computing, Internet &amp; Digital Media</th>\n",
       "      <td>510.0</td>\n",
       "      <td>967.078922</td>\n",
       "      <td>938.268726</td>\n",
       "      <td>79.00</td>\n",
       "      <td>375.750</td>\n",
       "      <td>599.00</td>\n",
       "      <td>1200.00</td>\n",
       "      <td>5811.00</td>\n",
       "    </tr>\n",
       "    <tr>\n",
       "      <th>Crime, Thriller &amp; Mystery</th>\n",
       "      <td>723.0</td>\n",
       "      <td>337.337593</td>\n",
       "      <td>276.701023</td>\n",
       "      <td>68.00</td>\n",
       "      <td>206.000</td>\n",
       "      <td>280.00</td>\n",
       "      <td>369.00</td>\n",
       "      <td>2742.00</td>\n",
       "    </tr>\n",
       "    <tr>\n",
       "      <th>Humour</th>\n",
       "      <td>540.0</td>\n",
       "      <td>654.300574</td>\n",
       "      <td>604.206257</td>\n",
       "      <td>68.00</td>\n",
       "      <td>314.000</td>\n",
       "      <td>458.00</td>\n",
       "      <td>799.00</td>\n",
       "      <td>4999.00</td>\n",
       "    </tr>\n",
       "    <tr>\n",
       "      <th>Language, Linguistics &amp; Writing</th>\n",
       "      <td>594.0</td>\n",
       "      <td>462.115859</td>\n",
       "      <td>547.715866</td>\n",
       "      <td>30.00</td>\n",
       "      <td>175.000</td>\n",
       "      <td>316.90</td>\n",
       "      <td>520.75</td>\n",
       "      <td>5177.66</td>\n",
       "    </tr>\n",
       "    <tr>\n",
       "      <th>Politics</th>\n",
       "      <td>325.0</td>\n",
       "      <td>519.794123</td>\n",
       "      <td>794.656895</td>\n",
       "      <td>45.00</td>\n",
       "      <td>295.000</td>\n",
       "      <td>402.00</td>\n",
       "      <td>559.00</td>\n",
       "      <td>13244.67</td>\n",
       "    </tr>\n",
       "    <tr>\n",
       "      <th>Romance</th>\n",
       "      <td>560.0</td>\n",
       "      <td>356.025661</td>\n",
       "      <td>507.509107</td>\n",
       "      <td>37.00</td>\n",
       "      <td>177.675</td>\n",
       "      <td>271.00</td>\n",
       "      <td>384.31</td>\n",
       "      <td>9984.00</td>\n",
       "    </tr>\n",
       "    <tr>\n",
       "      <th>Sports</th>\n",
       "      <td>471.0</td>\n",
       "      <td>740.243694</td>\n",
       "      <td>732.678030</td>\n",
       "      <td>94.84</td>\n",
       "      <td>349.000</td>\n",
       "      <td>514.00</td>\n",
       "      <td>936.50</td>\n",
       "      <td>7302.00</td>\n",
       "    </tr>\n",
       "  </tbody>\n",
       "</table>\n",
       "</div>"
      ],
      "text/plain": [
       "                                      count        mean  ...      75%       max\n",
       "BookCategory                                             ...                   \n",
       "Action & Adventure                    818.0  415.810905  ...   435.00   5600.00\n",
       "Arts, Film & Photography              517.0  833.266151  ...  1029.00  11715.12\n",
       "Biographies, Diaries & True Accounts  596.0  345.142701  ...   406.25   2742.00\n",
       "Comics & Mangas                       583.0  752.331235  ...   799.00  14100.00\n",
       "Computing, Internet & Digital Media   510.0  967.078922  ...  1200.00   5811.00\n",
       "Crime, Thriller & Mystery             723.0  337.337593  ...   369.00   2742.00\n",
       "Humour                                540.0  654.300574  ...   799.00   4999.00\n",
       "Language, Linguistics & Writing       594.0  462.115859  ...   520.75   5177.66\n",
       "Politics                              325.0  519.794123  ...   559.00  13244.67\n",
       "Romance                               560.0  356.025661  ...   384.31   9984.00\n",
       "Sports                                471.0  740.243694  ...   936.50   7302.00\n",
       "\n",
       "[11 rows x 8 columns]"
      ]
     },
     "execution_count": 97,
     "metadata": {
      "tags": []
     },
     "output_type": "execute_result"
    }
   ],
   "source": [
    "train.groupby('BookCategory').size()\n",
    "\n",
    "len(set(test['BookCategory']) ^ set(train[\"BookCategory\"]))\n",
    "\n",
    "train.groupby('BookCategory')['Price'].describe()"
   ]
  },
  {
   "cell_type": "markdown",
   "metadata": {
    "colab_type": "text",
    "id": "Tsh67SmRAh2u"
   },
   "source": [
    "## Synopsis Analysis"
   ]
  },
  {
   "cell_type": "code",
   "execution_count": 98,
   "metadata": {
    "colab": {
     "base_uri": "https://localhost:8080/",
     "height": 302
    },
    "colab_type": "code",
    "id": "aOiWm1MkAh2x",
    "outputId": "15230a5a-80dd-4903-c392-198367357ce9"
   },
   "outputs": [
    {
     "data": {
      "text/plain": [
       "<matplotlib.collections.PathCollection at 0x7faffd088ef0>"
      ]
     },
     "execution_count": 98,
     "metadata": {
      "tags": []
     },
     "output_type": "execute_result"
    },
    {
     "data": {
      "text/plain": [
       "<matplotlib.axes._subplots.AxesSubplot at 0x7faffc6d8a90>"
      ]
     },
     "execution_count": 98,
     "metadata": {
      "tags": []
     },
     "output_type": "execute_result"
    },
    {
     "data": {
      "image/png": "[encoded data removed]",
      "text/plain": [
       "<Figure size 432x288 with 1 Axes>"
      ]
     },
     "metadata": {
      "tags": []
     },
     "output_type": "display_data"
    }
   ],
   "source": [
    "train['Synopsis_Log_Length']= train['Synopsis'].apply(lambda x: np.log1p(len(x.split())))\n",
    "test['Synopsis_Log_Length']= test['Synopsis'].apply(lambda x: np.log1p(len(x.split())))\n",
    "plt.scatter(train['Synopsis_Log_Length'], train['Price'])\n",
    "\n",
    "sns.distplot(train['Synopsis_Log_Length'],fit =norm)"
   ]
  },
  {
   "cell_type": "code",
   "execution_count": 0,
   "metadata": {
    "colab": {},
    "colab_type": "code",
    "id": "hvhARvdaBAz3"
   },
   "outputs": [],
   "source": [
    "# # process a sentence using the model\n",
    "# synopsis_vector  = np.array([nlp(synopsis).vector for synopsis in train['Synopsis']])\n",
    "# synopsis_vector.shape\n",
    "# # It's that simple - all of the vectors and words are assigned after this point\n",
    "# # Get the vector for 'text'\n",
    "# # doc.shape\n",
    "\n",
    "# synopsis_components = 50\n",
    "# ts= TruncatedSVD(n_components = synopsis_components)\n",
    "# synopsis_features = ts.fit_transform(synopsis_vector)\n",
    "\n",
    "# # synopsis_features = synopsis_vector\n",
    "\n",
    "# synopsis_cols = ['Synopsis'+str(i) for i in range(synopsis_components)]\n",
    "# # synopsis_cols\n",
    "\n",
    "# train[synopsis_cols] = pd.DataFrame(synopsis_features)\n",
    "# train[synopsis_cols].head()\n",
    "\n",
    "# test_synopsis_vector = np.array([nlp(synopsis).vector for synopsis in test['Synopsis']])\n",
    "# test_synopsis_vector.shape\n",
    "\n",
    "# test_synopsis_features = ts.transform(test_synopsis_vector)\n",
    "\n",
    "# # test_synopsis_features = test_synopsis_vector\n",
    "\n",
    "# # synopsis_cols\n",
    "\n",
    "# test[synopsis_cols] = pd.DataFrame(test_synopsis_features)\n",
    "# test[synopsis_cols].head()"
   ]
  },
  {
   "cell_type": "code",
   "execution_count": 0,
   "metadata": {
    "colab": {},
    "colab_type": "code",
    "id": "1EY5F3BQBA0A"
   },
   "outputs": [],
   "source": [
    "tfidf = TfidfVectorizer(strip_accents='unicode',lowercase=True,ngram_range=(1,3),max_df=0.7,min_df=5,tokenizer = custom_tokenizer) \n",
    "\n",
    "text_sparse_matrix = tfidf.fit_transform(train['Synopsis'])\n",
    "\n",
    "ts= TruncatedSVD(n_components = 50)\n",
    "text_features = ts.fit_transform(text_sparse_matrix)\n",
    "\n",
    "synopsis_cols = ['Synopsis'+str(i) for i in range(50)]\n",
    "# synopsis_cols\n",
    "\n",
    "train[synopsis_cols] = pd.DataFrame(text_features)\n",
    "\n",
    "# train.head()\n",
    "\n",
    "# tfidf = TfidfVectorizer(strip_accents='unicode',lowercase=True,ngram_range=(1,3),max_df=0.7,min_df=5,tokenizer = custom_tokenizer) \n",
    "test_text_sparse_matrix = tfidf.transform(test['Synopsis'])\n",
    "\n",
    "# ts= TruncatedSVD(n_components = 50)\n",
    "test_text_features = ts.transform(test_text_sparse_matrix)\n",
    "\n",
    "test[synopsis_cols] = pd.DataFrame(test_text_features)\n",
    "\n",
    "# test.head()"
   ]
  },
  {
   "cell_type": "markdown",
   "metadata": {
    "colab_type": "text",
    "id": "PtHdYpxxAh22"
   },
   "source": [
    "## Price Analysis"
   ]
  },
  {
   "cell_type": "code",
   "execution_count": 0,
   "metadata": {
    "colab": {},
    "colab_type": "code",
    "id": "ieJr5DxZAh28"
   },
   "outputs": [],
   "source": [
    "sns.distplot(train['Price'])\n",
    "\n",
    "train['Logged_Price'] = np.log1p(train['Price'])\n",
    "sns.distplot(train['Logged_Price'],fit =norm)\n",
    "\n",
    "sns.boxplot(train['Logged_Price'])"
   ]
  },
  {
   "cell_type": "markdown",
   "metadata": {
    "colab_type": "text",
    "id": "z2PwzQf6Ah3A"
   },
   "source": [
    "## Feature Selection"
   ]
  },
  {
   "cell_type": "code",
   "execution_count": 101,
   "metadata": {
    "colab": {
     "base_uri": "https://localhost:8080/",
     "height": 336
    },
    "colab_type": "code",
    "id": "JDrBZlIyAh3B",
    "outputId": "753372c7-e4f9-4e8c-ed18-be8a03c3a9ec"
   },
   "outputs": [
    {
     "data": {
      "text/plain": [
       "Index(['Title', 'Author', 'Edition', 'Reviews', 'Ratings', 'Synopsis', 'Genre',\n",
       "       'BookCategory', 'Price', 'Title0', 'Title1', 'Title2', 'Edition_Type',\n",
       "       'Edition_Refine_Type', 'Edition_Type_Blind_Group', 'Date', 'Month',\n",
       "       'Year', 'BookAge', 'LoggedBookAge', 'Yr_wk', 'Wk_day', 'Stars_Obtained',\n",
       "       'Total_Stars', 'No_Of_Reviews', 'Reciprocated_Reviews', 'Genre0',\n",
       "       'Genre1', 'Genre2', 'Genre3', 'Genre4', 'Genre5', 'Genre6', 'Genre7',\n",
       "       'Genre8', 'Genre9', 'Genre10', 'Genre11', 'Genre12', 'Genre13',\n",
       "       'Genre14', 'Synopsis_Log_Length', 'Synopsis0', 'Synopsis1', 'Synopsis2',\n",
       "       'Synopsis3', 'Synopsis4', 'Synopsis5', 'Synopsis6', 'Synopsis7',\n",
       "       'Synopsis8', 'Synopsis9', 'Synopsis10', 'Synopsis11', 'Synopsis12',\n",
       "       'Synopsis13', 'Synopsis14', 'Synopsis15', 'Synopsis16', 'Synopsis17',\n",
       "       'Synopsis18', 'Synopsis19', 'Synopsis20', 'Synopsis21', 'Synopsis22',\n",
       "       'Synopsis23', 'Synopsis24', 'Synopsis25', 'Synopsis26', 'Synopsis27',\n",
       "       'Synopsis28', 'Synopsis29', 'Synopsis30', 'Synopsis31', 'Synopsis32',\n",
       "       'Synopsis33', 'Synopsis34', 'Synopsis35', 'Synopsis36', 'Synopsis37',\n",
       "       'Synopsis38', 'Synopsis39', 'Synopsis40', 'Synopsis41', 'Synopsis42',\n",
       "       'Synopsis43', 'Synopsis44', 'Synopsis45', 'Synopsis46', 'Synopsis47',\n",
       "       'Synopsis48', 'Synopsis49', 'Logged_Price'],\n",
       "      dtype='object')"
      ]
     },
     "execution_count": 101,
     "metadata": {
      "tags": []
     },
     "output_type": "execute_result"
    }
   ],
   "source": [
    "train.columns"
   ]
  },
  {
   "cell_type": "code",
   "execution_count": 0,
   "metadata": {
    "colab": {},
    "colab_type": "code",
    "id": "L57774kSwbTi"
   },
   "outputs": [],
   "source": [
    "train.info()"
   ]
  },
  {
   "cell_type": "code",
   "execution_count": 176,
   "metadata": {
    "colab": {
     "base_uri": "https://localhost:8080/",
     "height": 730
    },
    "colab_type": "code",
    "id": "6fWsdn9nAh3M",
    "outputId": "25206cdc-21e0-46d3-cafe-f504febae94a"
   },
   "outputs": [
    {
     "data": {
      "text/html": [
       "<div>\n",
       "<style scoped>\n",
       "    .dataframe tbody tr th:only-of-type {\n",
       "        vertical-align: middle;\n",
       "    }\n",
       "\n",
       "    .dataframe tbody tr th {\n",
       "        vertical-align: top;\n",
       "    }\n",
       "\n",
       "    .dataframe thead th {\n",
       "        text-align: right;\n",
       "    }\n",
       "</style>\n",
       "<table border=\"1\" class=\"dataframe\">\n",
       "  <thead>\n",
       "    <tr style=\"text-align: right;\">\n",
       "      <th></th>\n",
       "      <th>Stars_Obtained</th>\n",
       "      <th>Reciprocated_Reviews</th>\n",
       "      <th>Synopsis_Log_Length</th>\n",
       "      <th>LoggedBookAge</th>\n",
       "      <th>Synopsis0</th>\n",
       "      <th>Synopsis1</th>\n",
       "      <th>Synopsis2</th>\n",
       "      <th>Synopsis3</th>\n",
       "      <th>Synopsis4</th>\n",
       "      <th>Synopsis5</th>\n",
       "      <th>Synopsis6</th>\n",
       "      <th>Synopsis7</th>\n",
       "      <th>Synopsis8</th>\n",
       "      <th>Synopsis9</th>\n",
       "      <th>Synopsis10</th>\n",
       "      <th>Synopsis11</th>\n",
       "      <th>Synopsis12</th>\n",
       "      <th>Synopsis13</th>\n",
       "      <th>Synopsis14</th>\n",
       "      <th>Synopsis15</th>\n",
       "      <th>Synopsis16</th>\n",
       "      <th>Synopsis17</th>\n",
       "      <th>Synopsis18</th>\n",
       "      <th>Synopsis19</th>\n",
       "      <th>Synopsis20</th>\n",
       "      <th>Synopsis21</th>\n",
       "      <th>Synopsis22</th>\n",
       "      <th>Synopsis23</th>\n",
       "      <th>Synopsis24</th>\n",
       "      <th>Synopsis25</th>\n",
       "      <th>Synopsis26</th>\n",
       "      <th>Synopsis27</th>\n",
       "      <th>Synopsis28</th>\n",
       "      <th>Synopsis29</th>\n",
       "      <th>Synopsis30</th>\n",
       "      <th>Synopsis31</th>\n",
       "      <th>Synopsis32</th>\n",
       "      <th>Synopsis33</th>\n",
       "      <th>Synopsis34</th>\n",
       "      <th>Synopsis35</th>\n",
       "      <th>Synopsis36</th>\n",
       "      <th>Synopsis37</th>\n",
       "      <th>Synopsis38</th>\n",
       "      <th>Synopsis39</th>\n",
       "      <th>Synopsis40</th>\n",
       "      <th>Synopsis41</th>\n",
       "      <th>Synopsis42</th>\n",
       "      <th>Synopsis43</th>\n",
       "      <th>Synopsis44</th>\n",
       "      <th>Synopsis45</th>\n",
       "      <th>Synopsis46</th>\n",
       "      <th>Synopsis47</th>\n",
       "      <th>Synopsis48</th>\n",
       "      <th>Synopsis49</th>\n",
       "      <th>Genre0</th>\n",
       "      <th>Genre1</th>\n",
       "      <th>Genre2</th>\n",
       "      <th>Genre3</th>\n",
       "      <th>Genre4</th>\n",
       "      <th>Genre5</th>\n",
       "      <th>Genre6</th>\n",
       "      <th>Genre7</th>\n",
       "      <th>Genre8</th>\n",
       "      <th>Genre9</th>\n",
       "      <th>Genre10</th>\n",
       "      <th>Genre11</th>\n",
       "      <th>Genre12</th>\n",
       "      <th>Genre13</th>\n",
       "      <th>Genre14</th>\n",
       "      <th>Title0</th>\n",
       "      <th>Title1</th>\n",
       "      <th>Title2</th>\n",
       "      <th>Edition_Type_Blind_Group</th>\n",
       "      <th>BookCategory</th>\n",
       "      <th>Month</th>\n",
       "      <th>Wk_day</th>\n",
       "      <th>Yr_wk</th>\n",
       "    </tr>\n",
       "  </thead>\n",
       "  <tbody>\n",
       "    <tr>\n",
       "      <th>0</th>\n",
       "      <td>4.0</td>\n",
       "      <td>0.125000</td>\n",
       "      <td>4.882802</td>\n",
       "      <td>1.386294</td>\n",
       "      <td>0.195728</td>\n",
       "      <td>0.026844</td>\n",
       "      <td>0.007001</td>\n",
       "      <td>0.104842</td>\n",
       "      <td>-0.115959</td>\n",
       "      <td>-0.062463</td>\n",
       "      <td>0.058581</td>\n",
       "      <td>0.037248</td>\n",
       "      <td>-0.059300</td>\n",
       "      <td>-0.002390</td>\n",
       "      <td>0.007564</td>\n",
       "      <td>-0.009537</td>\n",
       "      <td>0.005031</td>\n",
       "      <td>-0.031585</td>\n",
       "      <td>-0.038181</td>\n",
       "      <td>0.036874</td>\n",
       "      <td>0.070726</td>\n",
       "      <td>0.006902</td>\n",
       "      <td>0.016061</td>\n",
       "      <td>-0.000678</td>\n",
       "      <td>-0.001276</td>\n",
       "      <td>-0.000364</td>\n",
       "      <td>-0.033591</td>\n",
       "      <td>0.007107</td>\n",
       "      <td>-0.008667</td>\n",
       "      <td>-0.009717</td>\n",
       "      <td>0.021491</td>\n",
       "      <td>-0.030230</td>\n",
       "      <td>-0.019747</td>\n",
       "      <td>0.010846</td>\n",
       "      <td>-0.005396</td>\n",
       "      <td>0.015353</td>\n",
       "      <td>-0.000914</td>\n",
       "      <td>-0.010748</td>\n",
       "      <td>0.004818</td>\n",
       "      <td>-0.012644</td>\n",
       "      <td>0.001930</td>\n",
       "      <td>-0.013389</td>\n",
       "      <td>0.008368</td>\n",
       "      <td>0.024993</td>\n",
       "      <td>-0.005468</td>\n",
       "      <td>-0.036328</td>\n",
       "      <td>0.042573</td>\n",
       "      <td>-0.005339</td>\n",
       "      <td>0.004673</td>\n",
       "      <td>0.019330</td>\n",
       "      <td>-0.009505</td>\n",
       "      <td>0.013170</td>\n",
       "      <td>-0.022560</td>\n",
       "      <td>-0.022291</td>\n",
       "      <td>0.998997</td>\n",
       "      <td>-6.727814e-08</td>\n",
       "      <td>-0.038418</td>\n",
       "      <td>-0.018991</td>\n",
       "      <td>-0.003358</td>\n",
       "      <td>-0.000007</td>\n",
       "      <td>0.006748</td>\n",
       "      <td>-0.000050</td>\n",
       "      <td>-0.000293</td>\n",
       "      <td>-0.000523</td>\n",
       "      <td>-0.004507</td>\n",
       "      <td>-0.004783</td>\n",
       "      <td>0.000187</td>\n",
       "      <td>-0.004423</td>\n",
       "      <td>-0.000991</td>\n",
       "      <td>0.235165</td>\n",
       "      <td>-0.013440</td>\n",
       "      <td>0.152082</td>\n",
       "      <td>Paperback</td>\n",
       "      <td>Action &amp; Adventure</td>\n",
       "      <td>Mar</td>\n",
       "      <td>4</td>\n",
       "      <td>10</td>\n",
       "    </tr>\n",
       "    <tr>\n",
       "      <th>1</th>\n",
       "      <td>3.9</td>\n",
       "      <td>0.071429</td>\n",
       "      <td>5.214936</td>\n",
       "      <td>2.079442</td>\n",
       "      <td>0.137068</td>\n",
       "      <td>-0.021024</td>\n",
       "      <td>0.022704</td>\n",
       "      <td>-0.026618</td>\n",
       "      <td>0.009403</td>\n",
       "      <td>-0.014302</td>\n",
       "      <td>0.016929</td>\n",
       "      <td>0.002849</td>\n",
       "      <td>0.025142</td>\n",
       "      <td>0.001821</td>\n",
       "      <td>0.025864</td>\n",
       "      <td>0.024367</td>\n",
       "      <td>0.021973</td>\n",
       "      <td>0.005079</td>\n",
       "      <td>0.005833</td>\n",
       "      <td>-0.012076</td>\n",
       "      <td>-0.001595</td>\n",
       "      <td>-0.019274</td>\n",
       "      <td>0.035075</td>\n",
       "      <td>-0.030693</td>\n",
       "      <td>-0.028717</td>\n",
       "      <td>-0.000369</td>\n",
       "      <td>0.052015</td>\n",
       "      <td>-0.028043</td>\n",
       "      <td>0.019385</td>\n",
       "      <td>0.021374</td>\n",
       "      <td>0.007555</td>\n",
       "      <td>-0.008808</td>\n",
       "      <td>-0.021651</td>\n",
       "      <td>-0.023953</td>\n",
       "      <td>-0.029225</td>\n",
       "      <td>0.003102</td>\n",
       "      <td>0.019572</td>\n",
       "      <td>0.012602</td>\n",
       "      <td>0.013453</td>\n",
       "      <td>0.011094</td>\n",
       "      <td>0.028258</td>\n",
       "      <td>0.021017</td>\n",
       "      <td>-0.004178</td>\n",
       "      <td>0.002807</td>\n",
       "      <td>-0.007556</td>\n",
       "      <td>0.006423</td>\n",
       "      <td>-0.026566</td>\n",
       "      <td>-0.041613</td>\n",
       "      <td>0.002217</td>\n",
       "      <td>0.058564</td>\n",
       "      <td>-0.054210</td>\n",
       "      <td>0.002241</td>\n",
       "      <td>-0.009871</td>\n",
       "      <td>0.008144</td>\n",
       "      <td>0.040665</td>\n",
       "      <td>3.879475e-06</td>\n",
       "      <td>0.036317</td>\n",
       "      <td>0.030994</td>\n",
       "      <td>0.005867</td>\n",
       "      <td>-0.000024</td>\n",
       "      <td>-0.049146</td>\n",
       "      <td>0.000601</td>\n",
       "      <td>0.005406</td>\n",
       "      <td>-0.001161</td>\n",
       "      <td>0.089773</td>\n",
       "      <td>0.182155</td>\n",
       "      <td>-0.035977</td>\n",
       "      <td>0.756379</td>\n",
       "      <td>-0.568957</td>\n",
       "      <td>0.090840</td>\n",
       "      <td>-0.146708</td>\n",
       "      <td>-0.136062</td>\n",
       "      <td>Paperback</td>\n",
       "      <td>Biographies, Diaries &amp; True Accounts</td>\n",
       "      <td>Nov</td>\n",
       "      <td>3</td>\n",
       "      <td>45</td>\n",
       "    </tr>\n",
       "    <tr>\n",
       "      <th>2</th>\n",
       "      <td>4.8</td>\n",
       "      <td>0.166667</td>\n",
       "      <td>5.533389</td>\n",
       "      <td>3.637586</td>\n",
       "      <td>0.195584</td>\n",
       "      <td>-0.042575</td>\n",
       "      <td>-0.013691</td>\n",
       "      <td>-0.167104</td>\n",
       "      <td>0.256708</td>\n",
       "      <td>0.142375</td>\n",
       "      <td>0.488720</td>\n",
       "      <td>0.063148</td>\n",
       "      <td>-0.215493</td>\n",
       "      <td>-0.025303</td>\n",
       "      <td>-0.068699</td>\n",
       "      <td>-0.076544</td>\n",
       "      <td>0.020127</td>\n",
       "      <td>-0.013725</td>\n",
       "      <td>0.042456</td>\n",
       "      <td>0.006272</td>\n",
       "      <td>0.029724</td>\n",
       "      <td>0.017028</td>\n",
       "      <td>-0.015244</td>\n",
       "      <td>0.014623</td>\n",
       "      <td>0.015266</td>\n",
       "      <td>-0.004439</td>\n",
       "      <td>-0.019018</td>\n",
       "      <td>-0.005771</td>\n",
       "      <td>-0.011510</td>\n",
       "      <td>-0.019449</td>\n",
       "      <td>-0.008993</td>\n",
       "      <td>0.001283</td>\n",
       "      <td>0.007664</td>\n",
       "      <td>0.040442</td>\n",
       "      <td>0.002467</td>\n",
       "      <td>-0.016952</td>\n",
       "      <td>0.008800</td>\n",
       "      <td>0.025507</td>\n",
       "      <td>-0.023484</td>\n",
       "      <td>0.003952</td>\n",
       "      <td>-0.017977</td>\n",
       "      <td>-0.003477</td>\n",
       "      <td>0.004355</td>\n",
       "      <td>0.002094</td>\n",
       "      <td>0.017647</td>\n",
       "      <td>-0.003144</td>\n",
       "      <td>-0.000083</td>\n",
       "      <td>0.015276</td>\n",
       "      <td>-0.038032</td>\n",
       "      <td>0.007991</td>\n",
       "      <td>-0.022470</td>\n",
       "      <td>-0.010220</td>\n",
       "      <td>-0.024468</td>\n",
       "      <td>-0.012779</td>\n",
       "      <td>0.000154</td>\n",
       "      <td>1.296949e-07</td>\n",
       "      <td>0.000319</td>\n",
       "      <td>0.000346</td>\n",
       "      <td>0.000067</td>\n",
       "      <td>-0.000005</td>\n",
       "      <td>-0.000805</td>\n",
       "      <td>-0.000091</td>\n",
       "      <td>-0.000111</td>\n",
       "      <td>0.000296</td>\n",
       "      <td>0.001837</td>\n",
       "      <td>0.002753</td>\n",
       "      <td>-0.000134</td>\n",
       "      <td>0.003694</td>\n",
       "      <td>0.001494</td>\n",
       "      <td>0.137015</td>\n",
       "      <td>-0.294545</td>\n",
       "      <td>0.523090</td>\n",
       "      <td>Paperback</td>\n",
       "      <td>Humour</td>\n",
       "      <td>Feb</td>\n",
       "      <td>4</td>\n",
       "      <td>8</td>\n",
       "    </tr>\n",
       "    <tr>\n",
       "      <th>3</th>\n",
       "      <td>4.1</td>\n",
       "      <td>0.076923</td>\n",
       "      <td>4.330733</td>\n",
       "      <td>1.098612</td>\n",
       "      <td>0.111477</td>\n",
       "      <td>0.019501</td>\n",
       "      <td>-0.069359</td>\n",
       "      <td>0.008105</td>\n",
       "      <td>0.026872</td>\n",
       "      <td>0.009353</td>\n",
       "      <td>-0.011334</td>\n",
       "      <td>0.016059</td>\n",
       "      <td>-0.010393</td>\n",
       "      <td>-0.002564</td>\n",
       "      <td>-0.005609</td>\n",
       "      <td>0.063142</td>\n",
       "      <td>-0.019788</td>\n",
       "      <td>-0.012248</td>\n",
       "      <td>-0.001450</td>\n",
       "      <td>-0.056748</td>\n",
       "      <td>0.047622</td>\n",
       "      <td>0.020781</td>\n",
       "      <td>0.029130</td>\n",
       "      <td>-0.009201</td>\n",
       "      <td>-0.000657</td>\n",
       "      <td>-0.029546</td>\n",
       "      <td>-0.057012</td>\n",
       "      <td>-0.008354</td>\n",
       "      <td>0.027760</td>\n",
       "      <td>-0.013552</td>\n",
       "      <td>-0.036933</td>\n",
       "      <td>-0.021485</td>\n",
       "      <td>-0.038657</td>\n",
       "      <td>-0.005837</td>\n",
       "      <td>0.021760</td>\n",
       "      <td>0.003918</td>\n",
       "      <td>-0.003522</td>\n",
       "      <td>-0.022421</td>\n",
       "      <td>0.043085</td>\n",
       "      <td>0.025266</td>\n",
       "      <td>-0.000680</td>\n",
       "      <td>0.005305</td>\n",
       "      <td>-0.009507</td>\n",
       "      <td>0.020964</td>\n",
       "      <td>0.031715</td>\n",
       "      <td>-0.000992</td>\n",
       "      <td>0.006176</td>\n",
       "      <td>0.032240</td>\n",
       "      <td>-0.013860</td>\n",
       "      <td>-0.014472</td>\n",
       "      <td>-0.008616</td>\n",
       "      <td>-0.030332</td>\n",
       "      <td>-0.024853</td>\n",
       "      <td>0.027016</td>\n",
       "      <td>0.000254</td>\n",
       "      <td>-6.657987e-07</td>\n",
       "      <td>0.001387</td>\n",
       "      <td>0.015182</td>\n",
       "      <td>-0.009403</td>\n",
       "      <td>0.996985</td>\n",
       "      <td>0.000790</td>\n",
       "      <td>-0.000069</td>\n",
       "      <td>-0.000939</td>\n",
       "      <td>0.000443</td>\n",
       "      <td>-0.001393</td>\n",
       "      <td>-0.002302</td>\n",
       "      <td>-0.001104</td>\n",
       "      <td>0.001236</td>\n",
       "      <td>-0.001270</td>\n",
       "      <td>0.095823</td>\n",
       "      <td>-0.136237</td>\n",
       "      <td>0.068786</td>\n",
       "      <td>Paperback</td>\n",
       "      <td>Crime, Thriller &amp; Mystery</td>\n",
       "      <td>Oct</td>\n",
       "      <td>4</td>\n",
       "      <td>40</td>\n",
       "    </tr>\n",
       "    <tr>\n",
       "      <th>4</th>\n",
       "      <td>5.0</td>\n",
       "      <td>1.000000</td>\n",
       "      <td>4.653960</td>\n",
       "      <td>2.639057</td>\n",
       "      <td>0.143512</td>\n",
       "      <td>-0.015590</td>\n",
       "      <td>-0.036500</td>\n",
       "      <td>-0.063889</td>\n",
       "      <td>0.029277</td>\n",
       "      <td>0.028097</td>\n",
       "      <td>0.002893</td>\n",
       "      <td>0.000756</td>\n",
       "      <td>-0.020623</td>\n",
       "      <td>0.053423</td>\n",
       "      <td>0.146450</td>\n",
       "      <td>-0.084637</td>\n",
       "      <td>0.053218</td>\n",
       "      <td>0.078815</td>\n",
       "      <td>0.011452</td>\n",
       "      <td>-0.009923</td>\n",
       "      <td>-0.016307</td>\n",
       "      <td>0.008049</td>\n",
       "      <td>-0.050479</td>\n",
       "      <td>-0.006335</td>\n",
       "      <td>0.031217</td>\n",
       "      <td>0.005133</td>\n",
       "      <td>-0.041644</td>\n",
       "      <td>0.017695</td>\n",
       "      <td>-0.016641</td>\n",
       "      <td>-0.006916</td>\n",
       "      <td>-0.000166</td>\n",
       "      <td>0.026878</td>\n",
       "      <td>-0.013604</td>\n",
       "      <td>-0.009094</td>\n",
       "      <td>0.023528</td>\n",
       "      <td>0.012209</td>\n",
       "      <td>-0.019002</td>\n",
       "      <td>-0.024156</td>\n",
       "      <td>0.004280</td>\n",
       "      <td>0.019428</td>\n",
       "      <td>-0.034700</td>\n",
       "      <td>0.005310</td>\n",
       "      <td>-0.005841</td>\n",
       "      <td>0.010451</td>\n",
       "      <td>0.021153</td>\n",
       "      <td>-0.010673</td>\n",
       "      <td>-0.014241</td>\n",
       "      <td>-0.021362</td>\n",
       "      <td>0.002834</td>\n",
       "      <td>-0.006331</td>\n",
       "      <td>0.008121</td>\n",
       "      <td>0.065765</td>\n",
       "      <td>-0.074344</td>\n",
       "      <td>0.027906</td>\n",
       "      <td>0.000056</td>\n",
       "      <td>-6.682836e-06</td>\n",
       "      <td>0.000145</td>\n",
       "      <td>0.000318</td>\n",
       "      <td>-0.000002</td>\n",
       "      <td>-0.000120</td>\n",
       "      <td>-0.006952</td>\n",
       "      <td>0.013556</td>\n",
       "      <td>0.014640</td>\n",
       "      <td>0.010197</td>\n",
       "      <td>0.028996</td>\n",
       "      <td>0.001933</td>\n",
       "      <td>0.008471</td>\n",
       "      <td>0.017523</td>\n",
       "      <td>-0.040353</td>\n",
       "      <td>0.058984</td>\n",
       "      <td>-0.038359</td>\n",
       "      <td>-0.041727</td>\n",
       "      <td>Hardcover</td>\n",
       "      <td>Arts, Film &amp; Photography</td>\n",
       "      <td>Oct</td>\n",
       "      <td>2</td>\n",
       "      <td>41</td>\n",
       "    </tr>\n",
       "  </tbody>\n",
       "</table>\n",
       "</div>"
      ],
      "text/plain": [
       "   Stars_Obtained  Reciprocated_Reviews  Synopsis_Log_Length  ...  Month  Wk_day  Yr_wk\n",
       "0             4.0              0.125000             4.882802  ...    Mar       4     10\n",
       "1             3.9              0.071429             5.214936  ...    Nov       3     45\n",
       "2             4.8              0.166667             5.533389  ...    Feb       4      8\n",
       "3             4.1              0.076923             4.330733  ...    Oct       4     40\n",
       "4             5.0              1.000000             4.653960  ...    Oct       2     41\n",
       "\n",
       "[5 rows x 77 columns]"
      ]
     },
     "execution_count": 176,
     "metadata": {
      "tags": []
     },
     "output_type": "execute_result"
    },
    {
     "data": {
      "text/plain": [
       "0    5.398163\n",
       "1    5.317777\n",
       "2    5.703782\n",
       "3    5.198497\n",
       "4    6.873805\n",
       "Name: Logged_Price, dtype: float64"
      ]
     },
     "execution_count": 176,
     "metadata": {
      "tags": []
     },
     "output_type": "execute_result"
    },
    {
     "data": {
      "text/html": [
       "<div>\n",
       "<style scoped>\n",
       "    .dataframe tbody tr th:only-of-type {\n",
       "        vertical-align: middle;\n",
       "    }\n",
       "\n",
       "    .dataframe tbody tr th {\n",
       "        vertical-align: top;\n",
       "    }\n",
       "\n",
       "    .dataframe thead th {\n",
       "        text-align: right;\n",
       "    }\n",
       "</style>\n",
       "<table border=\"1\" class=\"dataframe\">\n",
       "  <thead>\n",
       "    <tr style=\"text-align: right;\">\n",
       "      <th></th>\n",
       "      <th>Stars_Obtained</th>\n",
       "      <th>Reciprocated_Reviews</th>\n",
       "      <th>Synopsis_Log_Length</th>\n",
       "      <th>LoggedBookAge</th>\n",
       "      <th>Synopsis0</th>\n",
       "      <th>Synopsis1</th>\n",
       "      <th>Synopsis2</th>\n",
       "      <th>Synopsis3</th>\n",
       "      <th>Synopsis4</th>\n",
       "      <th>Synopsis5</th>\n",
       "      <th>Synopsis6</th>\n",
       "      <th>Synopsis7</th>\n",
       "      <th>Synopsis8</th>\n",
       "      <th>Synopsis9</th>\n",
       "      <th>Synopsis10</th>\n",
       "      <th>Synopsis11</th>\n",
       "      <th>Synopsis12</th>\n",
       "      <th>Synopsis13</th>\n",
       "      <th>Synopsis14</th>\n",
       "      <th>Synopsis15</th>\n",
       "      <th>Synopsis16</th>\n",
       "      <th>Synopsis17</th>\n",
       "      <th>Synopsis18</th>\n",
       "      <th>Synopsis19</th>\n",
       "      <th>Synopsis20</th>\n",
       "      <th>Synopsis21</th>\n",
       "      <th>Synopsis22</th>\n",
       "      <th>Synopsis23</th>\n",
       "      <th>Synopsis24</th>\n",
       "      <th>Synopsis25</th>\n",
       "      <th>Synopsis26</th>\n",
       "      <th>Synopsis27</th>\n",
       "      <th>Synopsis28</th>\n",
       "      <th>Synopsis29</th>\n",
       "      <th>Synopsis30</th>\n",
       "      <th>Synopsis31</th>\n",
       "      <th>Synopsis32</th>\n",
       "      <th>Synopsis33</th>\n",
       "      <th>Synopsis34</th>\n",
       "      <th>Synopsis35</th>\n",
       "      <th>Synopsis36</th>\n",
       "      <th>Synopsis37</th>\n",
       "      <th>Synopsis38</th>\n",
       "      <th>Synopsis39</th>\n",
       "      <th>Synopsis40</th>\n",
       "      <th>Synopsis41</th>\n",
       "      <th>Synopsis42</th>\n",
       "      <th>Synopsis43</th>\n",
       "      <th>Synopsis44</th>\n",
       "      <th>Synopsis45</th>\n",
       "      <th>Synopsis46</th>\n",
       "      <th>Synopsis47</th>\n",
       "      <th>Synopsis48</th>\n",
       "      <th>Synopsis49</th>\n",
       "      <th>Genre0</th>\n",
       "      <th>Genre1</th>\n",
       "      <th>Genre2</th>\n",
       "      <th>Genre3</th>\n",
       "      <th>Genre4</th>\n",
       "      <th>Genre5</th>\n",
       "      <th>Genre6</th>\n",
       "      <th>Genre7</th>\n",
       "      <th>Genre8</th>\n",
       "      <th>Genre9</th>\n",
       "      <th>Genre10</th>\n",
       "      <th>Genre11</th>\n",
       "      <th>Genre12</th>\n",
       "      <th>Genre13</th>\n",
       "      <th>Genre14</th>\n",
       "      <th>Title0</th>\n",
       "      <th>Title1</th>\n",
       "      <th>Title2</th>\n",
       "      <th>Edition_Type_Blind_Group</th>\n",
       "      <th>BookCategory</th>\n",
       "      <th>Month</th>\n",
       "      <th>Wk_day</th>\n",
       "      <th>Yr_wk</th>\n",
       "    </tr>\n",
       "  </thead>\n",
       "  <tbody>\n",
       "    <tr>\n",
       "      <th>0</th>\n",
       "      <td>4.4</td>\n",
       "      <td>0.001042</td>\n",
       "      <td>5.780744</td>\n",
       "      <td>3.526361</td>\n",
       "      <td>0.173248</td>\n",
       "      <td>-0.003959</td>\n",
       "      <td>0.009878</td>\n",
       "      <td>0.028614</td>\n",
       "      <td>0.018477</td>\n",
       "      <td>-0.054828</td>\n",
       "      <td>0.054642</td>\n",
       "      <td>-0.033618</td>\n",
       "      <td>0.024265</td>\n",
       "      <td>0.008862</td>\n",
       "      <td>0.031593</td>\n",
       "      <td>0.016228</td>\n",
       "      <td>-0.002073</td>\n",
       "      <td>0.023302</td>\n",
       "      <td>-0.031526</td>\n",
       "      <td>-0.032727</td>\n",
       "      <td>0.000488</td>\n",
       "      <td>-0.039509</td>\n",
       "      <td>0.042820</td>\n",
       "      <td>0.028764</td>\n",
       "      <td>-0.039965</td>\n",
       "      <td>0.034648</td>\n",
       "      <td>-0.000527</td>\n",
       "      <td>-0.009444</td>\n",
       "      <td>-0.011999</td>\n",
       "      <td>0.011364</td>\n",
       "      <td>0.028899</td>\n",
       "      <td>-0.052614</td>\n",
       "      <td>-0.053064</td>\n",
       "      <td>-0.061653</td>\n",
       "      <td>-0.017008</td>\n",
       "      <td>0.006951</td>\n",
       "      <td>0.006905</td>\n",
       "      <td>-0.006929</td>\n",
       "      <td>0.136329</td>\n",
       "      <td>0.002501</td>\n",
       "      <td>0.069976</td>\n",
       "      <td>-0.024541</td>\n",
       "      <td>0.024263</td>\n",
       "      <td>0.016988</td>\n",
       "      <td>0.034876</td>\n",
       "      <td>0.038896</td>\n",
       "      <td>-0.035753</td>\n",
       "      <td>0.019317</td>\n",
       "      <td>-0.067536</td>\n",
       "      <td>0.011228</td>\n",
       "      <td>0.046452</td>\n",
       "      <td>-0.008833</td>\n",
       "      <td>-0.029174</td>\n",
       "      <td>-0.013735</td>\n",
       "      <td>3.714592e-05</td>\n",
       "      <td>4.351081e-07</td>\n",
       "      <td>7.674135e-05</td>\n",
       "      <td>1.227666e-04</td>\n",
       "      <td>-1.172544e-05</td>\n",
       "      <td>7.524321e-05</td>\n",
       "      <td>2.688339e-04</td>\n",
       "      <td>6.881555e-04</td>\n",
       "      <td>4.255084e-03</td>\n",
       "      <td>-3.504568e-03</td>\n",
       "      <td>-1.891496e-03</td>\n",
       "      <td>3.234608e-03</td>\n",
       "      <td>2.951026e-03</td>\n",
       "      <td>-9.461812e-03</td>\n",
       "      <td>9.807491e-03</td>\n",
       "      <td>0.116129</td>\n",
       "      <td>0.000221</td>\n",
       "      <td>-0.014425</td>\n",
       "      <td>Mass Market Paperback</td>\n",
       "      <td>Crime, Thriller &amp; Mystery</td>\n",
       "      <td>Oct</td>\n",
       "      <td>3</td>\n",
       "      <td>40</td>\n",
       "    </tr>\n",
       "    <tr>\n",
       "      <th>1</th>\n",
       "      <td>5.0</td>\n",
       "      <td>1.000000</td>\n",
       "      <td>5.746203</td>\n",
       "      <td>0.693147</td>\n",
       "      <td>0.128074</td>\n",
       "      <td>-0.035010</td>\n",
       "      <td>0.086144</td>\n",
       "      <td>-0.037881</td>\n",
       "      <td>0.005622</td>\n",
       "      <td>0.051839</td>\n",
       "      <td>-0.056607</td>\n",
       "      <td>-0.019429</td>\n",
       "      <td>-0.011180</td>\n",
       "      <td>-0.014321</td>\n",
       "      <td>-0.053344</td>\n",
       "      <td>-0.038494</td>\n",
       "      <td>-0.014116</td>\n",
       "      <td>-0.066281</td>\n",
       "      <td>-0.033802</td>\n",
       "      <td>-0.053054</td>\n",
       "      <td>-0.010377</td>\n",
       "      <td>0.019950</td>\n",
       "      <td>-0.033710</td>\n",
       "      <td>0.062487</td>\n",
       "      <td>-0.008221</td>\n",
       "      <td>0.005539</td>\n",
       "      <td>0.008123</td>\n",
       "      <td>0.006765</td>\n",
       "      <td>0.016894</td>\n",
       "      <td>-0.013738</td>\n",
       "      <td>0.001215</td>\n",
       "      <td>0.051618</td>\n",
       "      <td>0.001161</td>\n",
       "      <td>-0.021064</td>\n",
       "      <td>-0.004822</td>\n",
       "      <td>-0.010215</td>\n",
       "      <td>-0.027320</td>\n",
       "      <td>0.010149</td>\n",
       "      <td>0.018204</td>\n",
       "      <td>0.016938</td>\n",
       "      <td>-0.003657</td>\n",
       "      <td>0.016788</td>\n",
       "      <td>0.006116</td>\n",
       "      <td>0.013244</td>\n",
       "      <td>-0.019031</td>\n",
       "      <td>0.012070</td>\n",
       "      <td>0.027862</td>\n",
       "      <td>0.034795</td>\n",
       "      <td>0.039997</td>\n",
       "      <td>0.004676</td>\n",
       "      <td>-0.038618</td>\n",
       "      <td>-0.005931</td>\n",
       "      <td>-0.017829</td>\n",
       "      <td>-0.044136</td>\n",
       "      <td>2.149352e-04</td>\n",
       "      <td>-1.846493e-07</td>\n",
       "      <td>4.497282e-04</td>\n",
       "      <td>4.959952e-04</td>\n",
       "      <td>9.072693e-05</td>\n",
       "      <td>-1.317696e-06</td>\n",
       "      <td>-1.851638e-03</td>\n",
       "      <td>5.733917e-03</td>\n",
       "      <td>2.150535e-03</td>\n",
       "      <td>1.471663e-03</td>\n",
       "      <td>5.927717e-03</td>\n",
       "      <td>2.362521e-03</td>\n",
       "      <td>1.827966e-03</td>\n",
       "      <td>5.093698e-03</td>\n",
       "      <td>-6.280712e-03</td>\n",
       "      <td>0.114429</td>\n",
       "      <td>-0.160910</td>\n",
       "      <td>-0.155522</td>\n",
       "      <td>Paperback</td>\n",
       "      <td>Computing, Internet &amp; Digital Media</td>\n",
       "      <td>Apr</td>\n",
       "      <td>4</td>\n",
       "      <td>17</td>\n",
       "    </tr>\n",
       "    <tr>\n",
       "      <th>2</th>\n",
       "      <td>5.0</td>\n",
       "      <td>0.250000</td>\n",
       "      <td>5.153292</td>\n",
       "      <td>2.197225</td>\n",
       "      <td>0.185156</td>\n",
       "      <td>0.027251</td>\n",
       "      <td>-0.066209</td>\n",
       "      <td>0.046131</td>\n",
       "      <td>-0.060333</td>\n",
       "      <td>-0.022958</td>\n",
       "      <td>-0.016550</td>\n",
       "      <td>0.048035</td>\n",
       "      <td>-0.042003</td>\n",
       "      <td>-0.013930</td>\n",
       "      <td>-0.047335</td>\n",
       "      <td>-0.016155</td>\n",
       "      <td>0.004606</td>\n",
       "      <td>0.009344</td>\n",
       "      <td>-0.000701</td>\n",
       "      <td>0.014118</td>\n",
       "      <td>-0.028044</td>\n",
       "      <td>-0.016985</td>\n",
       "      <td>-0.009084</td>\n",
       "      <td>-0.012225</td>\n",
       "      <td>-0.009042</td>\n",
       "      <td>-0.013222</td>\n",
       "      <td>-0.002266</td>\n",
       "      <td>-0.011131</td>\n",
       "      <td>0.015446</td>\n",
       "      <td>0.005817</td>\n",
       "      <td>0.002296</td>\n",
       "      <td>0.046148</td>\n",
       "      <td>-0.011610</td>\n",
       "      <td>-0.011462</td>\n",
       "      <td>0.015637</td>\n",
       "      <td>-0.006524</td>\n",
       "      <td>0.010199</td>\n",
       "      <td>0.034821</td>\n",
       "      <td>-0.028977</td>\n",
       "      <td>-0.006685</td>\n",
       "      <td>-0.010485</td>\n",
       "      <td>-0.005044</td>\n",
       "      <td>0.007688</td>\n",
       "      <td>-0.004504</td>\n",
       "      <td>-0.010146</td>\n",
       "      <td>-0.001393</td>\n",
       "      <td>-0.010628</td>\n",
       "      <td>-0.006568</td>\n",
       "      <td>0.011856</td>\n",
       "      <td>-0.004337</td>\n",
       "      <td>-0.004256</td>\n",
       "      <td>-0.003659</td>\n",
       "      <td>-0.011432</td>\n",
       "      <td>-0.003380</td>\n",
       "      <td>-6.008894e-13</td>\n",
       "      <td>1.000000e+00</td>\n",
       "      <td>-9.519135e-10</td>\n",
       "      <td>8.054611e-11</td>\n",
       "      <td>-1.831636e-09</td>\n",
       "      <td>-1.324235e-09</td>\n",
       "      <td>4.181765e-08</td>\n",
       "      <td>6.853198e-09</td>\n",
       "      <td>4.457925e-08</td>\n",
       "      <td>-1.410732e-07</td>\n",
       "      <td>-4.500826e-08</td>\n",
       "      <td>1.036034e-07</td>\n",
       "      <td>-6.163154e-08</td>\n",
       "      <td>-2.624838e-07</td>\n",
       "      <td>1.854012e-07</td>\n",
       "      <td>0.017554</td>\n",
       "      <td>-0.012719</td>\n",
       "      <td>-0.006462</td>\n",
       "      <td>Paperback</td>\n",
       "      <td>Romance</td>\n",
       "      <td>Mar</td>\n",
       "      <td>4</td>\n",
       "      <td>11</td>\n",
       "    </tr>\n",
       "    <tr>\n",
       "      <th>3</th>\n",
       "      <td>4.1</td>\n",
       "      <td>0.090909</td>\n",
       "      <td>5.204007</td>\n",
       "      <td>1.386294</td>\n",
       "      <td>0.165480</td>\n",
       "      <td>-0.052417</td>\n",
       "      <td>0.192465</td>\n",
       "      <td>-0.012299</td>\n",
       "      <td>-0.049099</td>\n",
       "      <td>0.064448</td>\n",
       "      <td>-0.051817</td>\n",
       "      <td>0.021856</td>\n",
       "      <td>-0.068528</td>\n",
       "      <td>-0.011340</td>\n",
       "      <td>-0.057016</td>\n",
       "      <td>-0.033483</td>\n",
       "      <td>-0.051723</td>\n",
       "      <td>-0.085456</td>\n",
       "      <td>-0.062379</td>\n",
       "      <td>-0.067877</td>\n",
       "      <td>-0.017213</td>\n",
       "      <td>0.064855</td>\n",
       "      <td>0.003700</td>\n",
       "      <td>0.049256</td>\n",
       "      <td>0.000044</td>\n",
       "      <td>0.013500</td>\n",
       "      <td>-0.025998</td>\n",
       "      <td>0.013838</td>\n",
       "      <td>0.060670</td>\n",
       "      <td>-0.013697</td>\n",
       "      <td>0.013914</td>\n",
       "      <td>0.069899</td>\n",
       "      <td>0.030281</td>\n",
       "      <td>-0.001523</td>\n",
       "      <td>-0.001309</td>\n",
       "      <td>0.024676</td>\n",
       "      <td>-0.025950</td>\n",
       "      <td>-0.007744</td>\n",
       "      <td>0.044725</td>\n",
       "      <td>0.028153</td>\n",
       "      <td>0.055837</td>\n",
       "      <td>-0.014274</td>\n",
       "      <td>-0.038990</td>\n",
       "      <td>-0.009971</td>\n",
       "      <td>-0.008614</td>\n",
       "      <td>-0.002674</td>\n",
       "      <td>-0.015596</td>\n",
       "      <td>-0.025739</td>\n",
       "      <td>-0.014679</td>\n",
       "      <td>-0.017978</td>\n",
       "      <td>0.016029</td>\n",
       "      <td>0.038827</td>\n",
       "      <td>0.002520</td>\n",
       "      <td>-0.013964</td>\n",
       "      <td>3.058791e-02</td>\n",
       "      <td>3.319856e-07</td>\n",
       "      <td>2.563284e-02</td>\n",
       "      <td>2.104778e-02</td>\n",
       "      <td>3.934193e-03</td>\n",
       "      <td>-1.032199e-05</td>\n",
       "      <td>-2.657126e-02</td>\n",
       "      <td>-9.548187e-05</td>\n",
       "      <td>1.740426e-03</td>\n",
       "      <td>2.175449e-02</td>\n",
       "      <td>4.396736e-02</td>\n",
       "      <td>3.874620e-02</td>\n",
       "      <td>-6.131632e-03</td>\n",
       "      <td>7.190024e-02</td>\n",
       "      <td>4.965870e-02</td>\n",
       "      <td>0.059469</td>\n",
       "      <td>-0.094968</td>\n",
       "      <td>-0.100692</td>\n",
       "      <td>Paperback</td>\n",
       "      <td>Computing, Internet &amp; Digital Media</td>\n",
       "      <td>Unknown</td>\n",
       "      <td>Unknown_wk_day</td>\n",
       "      <td>Unknown_yr_wk</td>\n",
       "    </tr>\n",
       "    <tr>\n",
       "      <th>4</th>\n",
       "      <td>4.4</td>\n",
       "      <td>0.111111</td>\n",
       "      <td>2.890372</td>\n",
       "      <td>2.197225</td>\n",
       "      <td>0.030199</td>\n",
       "      <td>-0.017861</td>\n",
       "      <td>0.067569</td>\n",
       "      <td>-0.002737</td>\n",
       "      <td>0.019317</td>\n",
       "      <td>0.013579</td>\n",
       "      <td>-0.011004</td>\n",
       "      <td>0.023086</td>\n",
       "      <td>-0.020261</td>\n",
       "      <td>-0.011390</td>\n",
       "      <td>-0.040411</td>\n",
       "      <td>0.036105</td>\n",
       "      <td>-0.009942</td>\n",
       "      <td>0.065520</td>\n",
       "      <td>0.023111</td>\n",
       "      <td>0.032750</td>\n",
       "      <td>-0.015272</td>\n",
       "      <td>0.029361</td>\n",
       "      <td>0.004843</td>\n",
       "      <td>-0.080400</td>\n",
       "      <td>0.021241</td>\n",
       "      <td>0.075980</td>\n",
       "      <td>-0.024085</td>\n",
       "      <td>-0.003363</td>\n",
       "      <td>0.047477</td>\n",
       "      <td>0.000316</td>\n",
       "      <td>-0.004478</td>\n",
       "      <td>-0.018723</td>\n",
       "      <td>0.025710</td>\n",
       "      <td>0.010493</td>\n",
       "      <td>-0.043605</td>\n",
       "      <td>-0.012721</td>\n",
       "      <td>-0.014812</td>\n",
       "      <td>0.047059</td>\n",
       "      <td>0.022918</td>\n",
       "      <td>0.022412</td>\n",
       "      <td>0.016792</td>\n",
       "      <td>-0.000133</td>\n",
       "      <td>-0.005085</td>\n",
       "      <td>0.011681</td>\n",
       "      <td>-0.016186</td>\n",
       "      <td>-0.012836</td>\n",
       "      <td>-0.007806</td>\n",
       "      <td>0.022505</td>\n",
       "      <td>-0.004352</td>\n",
       "      <td>0.031792</td>\n",
       "      <td>-0.006143</td>\n",
       "      <td>0.013679</td>\n",
       "      <td>-0.007629</td>\n",
       "      <td>-0.000094</td>\n",
       "      <td>5.191473e-04</td>\n",
       "      <td>-2.568390e-07</td>\n",
       "      <td>1.524100e-03</td>\n",
       "      <td>5.310057e-03</td>\n",
       "      <td>-1.872304e-03</td>\n",
       "      <td>-4.819546e-05</td>\n",
       "      <td>-6.760718e-03</td>\n",
       "      <td>9.750586e-04</td>\n",
       "      <td>-6.676641e-04</td>\n",
       "      <td>1.420790e-02</td>\n",
       "      <td>1.922776e-01</td>\n",
       "      <td>-5.849998e-02</td>\n",
       "      <td>-7.275663e-04</td>\n",
       "      <td>6.598808e-02</td>\n",
       "      <td>1.478413e-01</td>\n",
       "      <td>0.058717</td>\n",
       "      <td>-0.090948</td>\n",
       "      <td>-0.035789</td>\n",
       "      <td>Paperback</td>\n",
       "      <td>Language, Linguistics &amp; Writing</td>\n",
       "      <td>Dec</td>\n",
       "      <td>1</td>\n",
       "      <td>52</td>\n",
       "    </tr>\n",
       "  </tbody>\n",
       "</table>\n",
       "</div>"
      ],
      "text/plain": [
       "   Stars_Obtained  Reciprocated_Reviews  ...          Wk_day          Yr_wk\n",
       "0             4.4              0.001042  ...               3             40\n",
       "1             5.0              1.000000  ...               4             17\n",
       "2             5.0              0.250000  ...               4             11\n",
       "3             4.1              0.090909  ...  Unknown_wk_day  Unknown_yr_wk\n",
       "4             4.4              0.111111  ...               1             52\n",
       "\n",
       "[5 rows x 77 columns]"
      ]
     },
     "execution_count": 176,
     "metadata": {
      "tags": []
     },
     "output_type": "execute_result"
    }
   ],
   "source": [
    "selected_nums = ['Stars_Obtained','Reciprocated_Reviews','Synopsis_Log_Length','LoggedBookAge']\\\n",
    "+[col for col in train.columns if re.match('Synopsis\\d+',col)]\\\n",
    "+[col for col in train.columns if re.match('Genre\\d+',col)]\\\n",
    "+[col for col in train.columns if re.match('Title\\d+',col)]\n",
    "selected_cats = ['Edition_Type_Blind_Group','BookCategory','Month','Wk_day','Yr_wk']\n",
    "target = 'Logged_Price'\n",
    "\n",
    "from copy import deepcopy\n",
    "\n",
    "train_X = deepcopy(train[selected_nums+selected_cats])\n",
    "train_Y = deepcopy(train[target])\n",
    "train_X.head()\n",
    "train_Y.head()\n",
    "\n",
    "test_X = deepcopy(test[selected_nums+selected_cats])\n",
    "test_X.head()"
   ]
  },
  {
   "cell_type": "code",
   "execution_count": 0,
   "metadata": {
    "colab": {},
    "colab_type": "code",
    "id": "DoR_kRDCAh3S"
   },
   "outputs": [],
   "source": [
    "from sklearn.preprocessing import StandardScaler\n",
    "ss = StandardScaler()\n",
    "train_X_scaled = pd.DataFrame(ss.fit_transform(train_X[selected_nums]), columns = selected_nums).join(train_X[selected_cats])\n",
    "train_X_scaled.head()\n",
    "\n",
    "test_X_scaled = pd.DataFrame(ss.transform(test_X[selected_nums]), columns = selected_nums).join(test_X[selected_cats])\n",
    "test_X_scaled.head()\n",
    "\n",
    "train_X_scaled.shape\n",
    "\n",
    "test_X_scaled.shape\n",
    "\n",
    "train_X_encoded_ = pd.get_dummies(train_X_scaled, columns = selected_cats)\n",
    "test_X_encoded_ = pd.get_dummies(test_X_scaled, columns = selected_cats)\n",
    "# # Get missing columns in the training test\n",
    "# missing_cols_test = set( train_X_encoded_.columns ) - set( test_X_encoded.columns )\n",
    "# missing_cols_train = set(test_X_encoded.columns) - set(train_X_encoded_.columns)\n",
    "# # Add a missing column in test set with default value equal to 0\n",
    "# for c in missing_cols_test:\n",
    "#     test_X_encoded[c] = 0\n",
    "\n",
    "# for c in missing_cols_train:\n",
    "#     train_X_encoded_[c] =  0\n",
    "# # Ensure the order of column in the test set is in the same order than in train set\n",
    "# test_X_encoded = test_X_encoded[train_X_encoded_.columns]\n",
    "train_X_encoded_.shape\n",
    "test_X_encoded_.shape\n",
    "# assert set( train_X_encoded_.columns ) - set( test_X_encoded_.columns ) == set()"
   ]
  },
  {
   "cell_type": "code",
   "execution_count": 0,
   "metadata": {
    "colab": {},
    "colab_type": "code",
    "id": "iKBPflv4-Wn7"
   },
   "outputs": [],
   "source": [
    "# log_price_mean = train['Logged_Price'].mean()\n",
    "# log_price_max = train['Logged_Price'].max()\n",
    "# log_price_min = train['Logged_Price'].min()\n",
    "\n",
    "# log_price_std = train['Logged_Price'].std()\n",
    "# train['Norm_Logged_Price'] = (train['Logged_Price'] - log_price_min)/(log_price_max - log_price_min)\n",
    "# # train['Norm_Logged_Price']  = (train['Logged_Price']- log_price_mean)/log_price_std\n",
    "# sns.distplot(train['Norm_Logged_Price'], fit = norm)"
   ]
  },
  {
   "cell_type": "code",
   "execution_count": 0,
   "metadata": {
    "colab": {},
    "colab_type": "code",
    "id": "AaRVbJWXBl5k"
   },
   "outputs": [],
   "source": [
    "# price_mean = train['Price'].mean()\n",
    "# price_max = train['Price'].max()\n",
    "# price_min = train['Price'].min()\n",
    "\n",
    "# price_std = train['Price'].std()\n",
    "# train['Norm_Price'] = (train['Price'] - price_min)/(price_max - price_min)\n",
    "# # train['Norm_Price']  = (train['Price']- price_mean)/price_std\n",
    "# sns.distplot(train['Norm_Price'], fit = norm)"
   ]
  },
  {
   "cell_type": "markdown",
   "metadata": {
    "colab_type": "text",
    "id": "h5KiWOjPAh3T"
   },
   "source": [
    "## Outlier Detection"
   ]
  },
  {
   "cell_type": "code",
   "execution_count": 178,
   "metadata": {
    "colab": {
     "base_uri": "https://localhost:8080/",
     "height": 345
    },
    "colab_type": "code",
    "id": "GMFv2rB-BA0O",
    "outputId": "5d12d17a-a295-4443-c3e9-76ff23f087f0"
   },
   "outputs": [
    {
     "name": "stderr",
     "output_type": "stream",
     "text": [
      "/usr/local/lib/python3.6/dist-packages/sklearn/ensemble/iforest.py:415: DeprecationWarning: threshold_ attribute is deprecated in 0.20 and will be removed in 0.22.\n",
      "  \" be removed in 0.22.\", DeprecationWarning)\n",
      "/usr/local/lib/python3.6/dist-packages/sklearn/ensemble/iforest.py:415: DeprecationWarning: threshold_ attribute is deprecated in 0.20 and will be removed in 0.22.\n",
      "  \" be removed in 0.22.\", DeprecationWarning)\n"
     ]
    },
    {
     "data": {
      "text/plain": [
       "(6237, 165)"
      ]
     },
     "execution_count": 178,
     "metadata": {
      "tags": []
     },
     "output_type": "execute_result"
    },
    {
     "data": {
      "text/plain": [
       "(1560, 165)"
      ]
     },
     "execution_count": 178,
     "metadata": {
      "tags": []
     },
     "output_type": "execute_result"
    },
    {
     "data": {
      "text/html": [
       "<div>\n",
       "<style scoped>\n",
       "    .dataframe tbody tr th:only-of-type {\n",
       "        vertical-align: middle;\n",
       "    }\n",
       "\n",
       "    .dataframe tbody tr th {\n",
       "        vertical-align: top;\n",
       "    }\n",
       "\n",
       "    .dataframe thead th {\n",
       "        text-align: right;\n",
       "    }\n",
       "</style>\n",
       "<table border=\"1\" class=\"dataframe\">\n",
       "  <thead>\n",
       "    <tr style=\"text-align: right;\">\n",
       "      <th></th>\n",
       "      <th>Stars_Obtained</th>\n",
       "      <th>Reciprocated_Reviews</th>\n",
       "      <th>Synopsis_Log_Length</th>\n",
       "      <th>LoggedBookAge</th>\n",
       "      <th>Synopsis0</th>\n",
       "      <th>Synopsis1</th>\n",
       "      <th>Synopsis2</th>\n",
       "      <th>Synopsis3</th>\n",
       "      <th>Synopsis4</th>\n",
       "      <th>Synopsis5</th>\n",
       "      <th>Synopsis6</th>\n",
       "      <th>Synopsis7</th>\n",
       "      <th>Synopsis8</th>\n",
       "      <th>Synopsis9</th>\n",
       "      <th>Synopsis10</th>\n",
       "      <th>Synopsis11</th>\n",
       "      <th>Synopsis12</th>\n",
       "      <th>Synopsis13</th>\n",
       "      <th>Synopsis14</th>\n",
       "      <th>Synopsis15</th>\n",
       "      <th>Synopsis16</th>\n",
       "      <th>Synopsis17</th>\n",
       "      <th>Synopsis18</th>\n",
       "      <th>Synopsis19</th>\n",
       "      <th>Synopsis20</th>\n",
       "      <th>Synopsis21</th>\n",
       "      <th>Synopsis22</th>\n",
       "      <th>Synopsis23</th>\n",
       "      <th>Synopsis24</th>\n",
       "      <th>Synopsis25</th>\n",
       "      <th>Synopsis26</th>\n",
       "      <th>Synopsis27</th>\n",
       "      <th>Synopsis28</th>\n",
       "      <th>Synopsis29</th>\n",
       "      <th>Synopsis30</th>\n",
       "      <th>Synopsis31</th>\n",
       "      <th>Synopsis32</th>\n",
       "      <th>Synopsis33</th>\n",
       "      <th>Synopsis34</th>\n",
       "      <th>Synopsis35</th>\n",
       "      <th>...</th>\n",
       "      <th>Yr_wk_16</th>\n",
       "      <th>Yr_wk_17</th>\n",
       "      <th>Yr_wk_18</th>\n",
       "      <th>Yr_wk_19</th>\n",
       "      <th>Yr_wk_20</th>\n",
       "      <th>Yr_wk_21</th>\n",
       "      <th>Yr_wk_22</th>\n",
       "      <th>Yr_wk_23</th>\n",
       "      <th>Yr_wk_24</th>\n",
       "      <th>Yr_wk_25</th>\n",
       "      <th>Yr_wk_26</th>\n",
       "      <th>Yr_wk_27</th>\n",
       "      <th>Yr_wk_28</th>\n",
       "      <th>Yr_wk_29</th>\n",
       "      <th>Yr_wk_30</th>\n",
       "      <th>Yr_wk_31</th>\n",
       "      <th>Yr_wk_32</th>\n",
       "      <th>Yr_wk_33</th>\n",
       "      <th>Yr_wk_34</th>\n",
       "      <th>Yr_wk_35</th>\n",
       "      <th>Yr_wk_36</th>\n",
       "      <th>Yr_wk_37</th>\n",
       "      <th>Yr_wk_38</th>\n",
       "      <th>Yr_wk_39</th>\n",
       "      <th>Yr_wk_40</th>\n",
       "      <th>Yr_wk_41</th>\n",
       "      <th>Yr_wk_42</th>\n",
       "      <th>Yr_wk_43</th>\n",
       "      <th>Yr_wk_44</th>\n",
       "      <th>Yr_wk_45</th>\n",
       "      <th>Yr_wk_46</th>\n",
       "      <th>Yr_wk_47</th>\n",
       "      <th>Yr_wk_48</th>\n",
       "      <th>Yr_wk_49</th>\n",
       "      <th>Yr_wk_50</th>\n",
       "      <th>Yr_wk_51</th>\n",
       "      <th>Yr_wk_52</th>\n",
       "      <th>Yr_wk_53</th>\n",
       "      <th>Yr_wk_Unknown_yr_wk</th>\n",
       "      <th>Outlier</th>\n",
       "    </tr>\n",
       "  </thead>\n",
       "  <tbody>\n",
       "    <tr>\n",
       "      <th>0</th>\n",
       "      <td>0.161217</td>\n",
       "      <td>-0.891764</td>\n",
       "      <td>1.332930</td>\n",
       "      <td>2.080192</td>\n",
       "      <td>0.664046</td>\n",
       "      <td>-0.049558</td>\n",
       "      <td>0.128965</td>\n",
       "      <td>0.537971</td>\n",
       "      <td>0.258051</td>\n",
       "      <td>-1.018578</td>\n",
       "      <td>1.042377</td>\n",
       "      <td>-0.639798</td>\n",
       "      <td>0.466618</td>\n",
       "      <td>0.139290</td>\n",
       "      <td>0.688408</td>\n",
       "      <td>0.294938</td>\n",
       "      <td>-0.054667</td>\n",
       "      <td>0.527294</td>\n",
       "      <td>-0.684154</td>\n",
       "      <td>-0.853019</td>\n",
       "      <td>-0.008253</td>\n",
       "      <td>-0.998780</td>\n",
       "      <td>1.160093</td>\n",
       "      <td>0.742924</td>\n",
       "      <td>-1.048680</td>\n",
       "      <td>0.952548</td>\n",
       "      <td>0.008197</td>\n",
       "      <td>-0.280482</td>\n",
       "      <td>-0.344154</td>\n",
       "      <td>0.276940</td>\n",
       "      <td>0.824575</td>\n",
       "      <td>-1.500778</td>\n",
       "      <td>-1.511881</td>\n",
       "      <td>-1.781559</td>\n",
       "      <td>-0.508360</td>\n",
       "      <td>0.190204</td>\n",
       "      <td>0.238079</td>\n",
       "      <td>-0.209289</td>\n",
       "      <td>4.117393</td>\n",
       "      <td>0.061952</td>\n",
       "      <td>...</td>\n",
       "      <td>0</td>\n",
       "      <td>0</td>\n",
       "      <td>0</td>\n",
       "      <td>0</td>\n",
       "      <td>0</td>\n",
       "      <td>0</td>\n",
       "      <td>0</td>\n",
       "      <td>0</td>\n",
       "      <td>0</td>\n",
       "      <td>0</td>\n",
       "      <td>0</td>\n",
       "      <td>0</td>\n",
       "      <td>0</td>\n",
       "      <td>0</td>\n",
       "      <td>0</td>\n",
       "      <td>0</td>\n",
       "      <td>0</td>\n",
       "      <td>0</td>\n",
       "      <td>0</td>\n",
       "      <td>0</td>\n",
       "      <td>0</td>\n",
       "      <td>0</td>\n",
       "      <td>0</td>\n",
       "      <td>0</td>\n",
       "      <td>1</td>\n",
       "      <td>0</td>\n",
       "      <td>0</td>\n",
       "      <td>0</td>\n",
       "      <td>0</td>\n",
       "      <td>0</td>\n",
       "      <td>0</td>\n",
       "      <td>0</td>\n",
       "      <td>0</td>\n",
       "      <td>0</td>\n",
       "      <td>0</td>\n",
       "      <td>0</td>\n",
       "      <td>0</td>\n",
       "      <td>0</td>\n",
       "      <td>0</td>\n",
       "      <td>1</td>\n",
       "    </tr>\n",
       "    <tr>\n",
       "      <th>1</th>\n",
       "      <td>1.066948</td>\n",
       "      <td>2.014075</td>\n",
       "      <td>1.277486</td>\n",
       "      <td>-1.187751</td>\n",
       "      <td>-0.333334</td>\n",
       "      <td>-0.471318</td>\n",
       "      <td>1.237290</td>\n",
       "      <td>-0.525578</td>\n",
       "      <td>0.040595</td>\n",
       "      <td>0.896300</td>\n",
       "      <td>-1.004144</td>\n",
       "      <td>-0.367592</td>\n",
       "      <td>-0.236125</td>\n",
       "      <td>-0.342318</td>\n",
       "      <td>-1.132015</td>\n",
       "      <td>-0.918462</td>\n",
       "      <td>-0.325736</td>\n",
       "      <td>-1.524219</td>\n",
       "      <td>-0.738665</td>\n",
       "      <td>-1.347443</td>\n",
       "      <td>-0.280021</td>\n",
       "      <td>0.521182</td>\n",
       "      <td>-0.816442</td>\n",
       "      <td>1.626044</td>\n",
       "      <td>-0.209636</td>\n",
       "      <td>0.178116</td>\n",
       "      <td>0.243485</td>\n",
       "      <td>0.163126</td>\n",
       "      <td>0.454924</td>\n",
       "      <td>-0.422831</td>\n",
       "      <td>0.047273</td>\n",
       "      <td>1.481695</td>\n",
       "      <td>0.047947</td>\n",
       "      <td>-0.609749</td>\n",
       "      <td>-0.154648</td>\n",
       "      <td>-0.311337</td>\n",
       "      <td>-0.783823</td>\n",
       "      <td>0.301101</td>\n",
       "      <td>0.531556</td>\n",
       "      <td>0.503300</td>\n",
       "      <td>...</td>\n",
       "      <td>0</td>\n",
       "      <td>1</td>\n",
       "      <td>0</td>\n",
       "      <td>0</td>\n",
       "      <td>0</td>\n",
       "      <td>0</td>\n",
       "      <td>0</td>\n",
       "      <td>0</td>\n",
       "      <td>0</td>\n",
       "      <td>0</td>\n",
       "      <td>0</td>\n",
       "      <td>0</td>\n",
       "      <td>0</td>\n",
       "      <td>0</td>\n",
       "      <td>0</td>\n",
       "      <td>0</td>\n",
       "      <td>0</td>\n",
       "      <td>0</td>\n",
       "      <td>0</td>\n",
       "      <td>0</td>\n",
       "      <td>0</td>\n",
       "      <td>0</td>\n",
       "      <td>0</td>\n",
       "      <td>0</td>\n",
       "      <td>0</td>\n",
       "      <td>0</td>\n",
       "      <td>0</td>\n",
       "      <td>0</td>\n",
       "      <td>0</td>\n",
       "      <td>0</td>\n",
       "      <td>0</td>\n",
       "      <td>0</td>\n",
       "      <td>0</td>\n",
       "      <td>0</td>\n",
       "      <td>0</td>\n",
       "      <td>0</td>\n",
       "      <td>0</td>\n",
       "      <td>0</td>\n",
       "      <td>0</td>\n",
       "      <td>1</td>\n",
       "    </tr>\n",
       "    <tr>\n",
       "      <th>2</th>\n",
       "      <td>1.066948</td>\n",
       "      <td>-0.167577</td>\n",
       "      <td>0.325733</td>\n",
       "      <td>0.547112</td>\n",
       "      <td>0.926956</td>\n",
       "      <td>0.374357</td>\n",
       "      <td>-0.976766</td>\n",
       "      <td>0.818150</td>\n",
       "      <td>-1.075072</td>\n",
       "      <td>-0.446458</td>\n",
       "      <td>-0.267263</td>\n",
       "      <td>0.926658</td>\n",
       "      <td>-0.847219</td>\n",
       "      <td>-0.334187</td>\n",
       "      <td>-1.003223</td>\n",
       "      <td>-0.423115</td>\n",
       "      <td>0.095648</td>\n",
       "      <td>0.207644</td>\n",
       "      <td>0.053965</td>\n",
       "      <td>0.286454</td>\n",
       "      <td>-0.721919</td>\n",
       "      <td>-0.423008</td>\n",
       "      <td>-0.180418</td>\n",
       "      <td>-0.330459</td>\n",
       "      <td>-0.231348</td>\n",
       "      <td>-0.321024</td>\n",
       "      <td>-0.039117</td>\n",
       "      <td>-0.326658</td>\n",
       "      <td>0.414875</td>\n",
       "      <td>0.122310</td>\n",
       "      <td>0.077618</td>\n",
       "      <td>1.325179</td>\n",
       "      <td>-0.319423</td>\n",
       "      <td>-0.332559</td>\n",
       "      <td>0.439174</td>\n",
       "      <td>-0.203515</td>\n",
       "      <td>0.336429</td>\n",
       "      <td>1.038488</td>\n",
       "      <td>-0.900709</td>\n",
       "      <td>-0.218892</td>\n",
       "      <td>...</td>\n",
       "      <td>0</td>\n",
       "      <td>0</td>\n",
       "      <td>0</td>\n",
       "      <td>0</td>\n",
       "      <td>0</td>\n",
       "      <td>0</td>\n",
       "      <td>0</td>\n",
       "      <td>0</td>\n",
       "      <td>0</td>\n",
       "      <td>0</td>\n",
       "      <td>0</td>\n",
       "      <td>0</td>\n",
       "      <td>0</td>\n",
       "      <td>0</td>\n",
       "      <td>0</td>\n",
       "      <td>0</td>\n",
       "      <td>0</td>\n",
       "      <td>0</td>\n",
       "      <td>0</td>\n",
       "      <td>0</td>\n",
       "      <td>0</td>\n",
       "      <td>0</td>\n",
       "      <td>0</td>\n",
       "      <td>0</td>\n",
       "      <td>0</td>\n",
       "      <td>0</td>\n",
       "      <td>0</td>\n",
       "      <td>0</td>\n",
       "      <td>0</td>\n",
       "      <td>0</td>\n",
       "      <td>0</td>\n",
       "      <td>0</td>\n",
       "      <td>0</td>\n",
       "      <td>0</td>\n",
       "      <td>0</td>\n",
       "      <td>0</td>\n",
       "      <td>0</td>\n",
       "      <td>0</td>\n",
       "      <td>0</td>\n",
       "      <td>1</td>\n",
       "    </tr>\n",
       "    <tr>\n",
       "      <th>3</th>\n",
       "      <td>-0.291648</td>\n",
       "      <td>-0.630351</td>\n",
       "      <td>0.407142</td>\n",
       "      <td>-0.388247</td>\n",
       "      <td>0.492538</td>\n",
       "      <td>-0.707755</td>\n",
       "      <td>2.782395</td>\n",
       "      <td>-0.116403</td>\n",
       "      <td>-0.885037</td>\n",
       "      <td>1.122645</td>\n",
       "      <td>-0.916025</td>\n",
       "      <td>0.424436</td>\n",
       "      <td>-1.373121</td>\n",
       "      <td>-0.280385</td>\n",
       "      <td>-1.210723</td>\n",
       "      <td>-0.807345</td>\n",
       "      <td>-1.172186</td>\n",
       "      <td>-1.963330</td>\n",
       "      <td>-1.422960</td>\n",
       "      <td>-1.708001</td>\n",
       "      <td>-0.451001</td>\n",
       "      <td>1.669112</td>\n",
       "      <td>0.149753</td>\n",
       "      <td>1.279582</td>\n",
       "      <td>0.008818</td>\n",
       "      <td>0.389928</td>\n",
       "      <td>-0.684670</td>\n",
       "      <td>0.356718</td>\n",
       "      <td>1.665655</td>\n",
       "      <td>-0.421696</td>\n",
       "      <td>0.403844</td>\n",
       "      <td>2.004774</td>\n",
       "      <td>0.885608</td>\n",
       "      <td>-0.045613</td>\n",
       "      <td>-0.052687</td>\n",
       "      <td>0.708097</td>\n",
       "      <td>-0.742904</td>\n",
       "      <td>-0.233671</td>\n",
       "      <td>1.336633</td>\n",
       "      <td>0.846161</td>\n",
       "      <td>...</td>\n",
       "      <td>0</td>\n",
       "      <td>0</td>\n",
       "      <td>0</td>\n",
       "      <td>0</td>\n",
       "      <td>0</td>\n",
       "      <td>0</td>\n",
       "      <td>0</td>\n",
       "      <td>0</td>\n",
       "      <td>0</td>\n",
       "      <td>0</td>\n",
       "      <td>0</td>\n",
       "      <td>0</td>\n",
       "      <td>0</td>\n",
       "      <td>0</td>\n",
       "      <td>0</td>\n",
       "      <td>0</td>\n",
       "      <td>0</td>\n",
       "      <td>0</td>\n",
       "      <td>0</td>\n",
       "      <td>0</td>\n",
       "      <td>0</td>\n",
       "      <td>0</td>\n",
       "      <td>0</td>\n",
       "      <td>0</td>\n",
       "      <td>0</td>\n",
       "      <td>0</td>\n",
       "      <td>0</td>\n",
       "      <td>0</td>\n",
       "      <td>0</td>\n",
       "      <td>0</td>\n",
       "      <td>0</td>\n",
       "      <td>0</td>\n",
       "      <td>0</td>\n",
       "      <td>0</td>\n",
       "      <td>0</td>\n",
       "      <td>0</td>\n",
       "      <td>0</td>\n",
       "      <td>0</td>\n",
       "      <td>1</td>\n",
       "      <td>1</td>\n",
       "    </tr>\n",
       "    <tr>\n",
       "      <th>4</th>\n",
       "      <td>0.161217</td>\n",
       "      <td>-0.571586</td>\n",
       "      <td>-3.306745</td>\n",
       "      <td>0.547112</td>\n",
       "      <td>-2.494261</td>\n",
       "      <td>-0.238393</td>\n",
       "      <td>0.967356</td>\n",
       "      <td>0.036521</td>\n",
       "      <td>0.272255</td>\n",
       "      <td>0.209450</td>\n",
       "      <td>-0.165232</td>\n",
       "      <td>0.448031</td>\n",
       "      <td>-0.416158</td>\n",
       "      <td>-0.281428</td>\n",
       "      <td>-0.854816</td>\n",
       "      <td>0.735686</td>\n",
       "      <td>-0.231794</td>\n",
       "      <td>1.494124</td>\n",
       "      <td>0.624178</td>\n",
       "      <td>0.739665</td>\n",
       "      <td>-0.402448</td>\n",
       "      <td>0.761763</td>\n",
       "      <td>0.179259</td>\n",
       "      <td>-2.115813</td>\n",
       "      <td>0.569084</td>\n",
       "      <td>2.052203</td>\n",
       "      <td>-0.632621</td>\n",
       "      <td>-0.114063</td>\n",
       "      <td>1.300774</td>\n",
       "      <td>-0.031050</td>\n",
       "      <td>-0.112574</td>\n",
       "      <td>-0.531017</td>\n",
       "      <td>0.754104</td>\n",
       "      <td>0.301287</td>\n",
       "      <td>-1.280358</td>\n",
       "      <td>-0.384574</td>\n",
       "      <td>-0.410343</td>\n",
       "      <td>1.404256</td>\n",
       "      <td>0.674628</td>\n",
       "      <td>0.670671</td>\n",
       "      <td>...</td>\n",
       "      <td>0</td>\n",
       "      <td>0</td>\n",
       "      <td>0</td>\n",
       "      <td>0</td>\n",
       "      <td>0</td>\n",
       "      <td>0</td>\n",
       "      <td>0</td>\n",
       "      <td>0</td>\n",
       "      <td>0</td>\n",
       "      <td>0</td>\n",
       "      <td>0</td>\n",
       "      <td>0</td>\n",
       "      <td>0</td>\n",
       "      <td>0</td>\n",
       "      <td>0</td>\n",
       "      <td>0</td>\n",
       "      <td>0</td>\n",
       "      <td>0</td>\n",
       "      <td>0</td>\n",
       "      <td>0</td>\n",
       "      <td>0</td>\n",
       "      <td>0</td>\n",
       "      <td>0</td>\n",
       "      <td>0</td>\n",
       "      <td>0</td>\n",
       "      <td>0</td>\n",
       "      <td>0</td>\n",
       "      <td>0</td>\n",
       "      <td>0</td>\n",
       "      <td>0</td>\n",
       "      <td>0</td>\n",
       "      <td>0</td>\n",
       "      <td>0</td>\n",
       "      <td>0</td>\n",
       "      <td>0</td>\n",
       "      <td>0</td>\n",
       "      <td>1</td>\n",
       "      <td>0</td>\n",
       "      <td>0</td>\n",
       "      <td>1</td>\n",
       "    </tr>\n",
       "  </tbody>\n",
       "</table>\n",
       "<p>5 rows × 165 columns</p>\n",
       "</div>"
      ],
      "text/plain": [
       "   Stars_Obtained  Reciprocated_Reviews  ...  Yr_wk_Unknown_yr_wk  Outlier\n",
       "0        0.161217             -0.891764  ...                    0        1\n",
       "1        1.066948              2.014075  ...                    0        1\n",
       "2        1.066948             -0.167577  ...                    0        1\n",
       "3       -0.291648             -0.630351  ...                    1        1\n",
       "4        0.161217             -0.571586  ...                    0        1\n",
       "\n",
       "[5 rows x 165 columns]"
      ]
     },
     "execution_count": 178,
     "metadata": {
      "tags": []
     },
     "output_type": "execute_result"
    },
    {
     "data": {
      "text/plain": [
       "(6237, 165)"
      ]
     },
     "execution_count": 178,
     "metadata": {
      "tags": []
     },
     "output_type": "execute_result"
    },
    {
     "data": {
      "text/plain": [
       "(6237, 165)"
      ]
     },
     "execution_count": 178,
     "metadata": {
      "tags": []
     },
     "output_type": "execute_result"
    }
   ],
   "source": [
    "outlier = True\n",
    "\n",
    "from sklearn.ensemble import IsolationForest\n",
    "from collections import Counter\n",
    "if outlier==True:\n",
    "    ilf = IsolationForest(contamination=0.05)\n",
    "#     ilf.fit(train_X_encoded_)\n",
    "    train_X_encoded_['Outlier'] = ilf.fit_predict(train_X_encoded_)\n",
    "    test_X_encoded_['Outlier'] = ilf.fit_predict(test_X_encoded_)\n",
    "#     normal_index = [i for (i,is_normal) in enumerate(outlier_preds)  if is_normal==1 ]\n",
    "#     print(normal_index)\n",
    "\n",
    "#     train_X_encoded= deepcopy(train_X_encoded_.iloc[normal_index,:])\n",
    "    train_X_encoded = deepcopy(train_X_encoded_)\n",
    "    test_X_encoded = deepcopy(test_X_encoded_)\n",
    "#     train_Y =train_Y[normal_index]\n",
    "    # train_X_encoded = train_X_encoded_[train_X_encoded_['Outlier']==1]\n",
    "    # train_X_encoded_.drop('Outlier',axis = 1, inplace =True)\n",
    "    train_X_encoded.shape\n",
    "    test_X_encoded.shape\n",
    "else:\n",
    "    train_X_encoded = train_X_encoded_\n",
    "    test_X_encoded = test_X_encoded_\n",
    "\n",
    "test_X_encoded.head()\n",
    "\n",
    "train_X_encoded.shape\n",
    "train_X_encoded_.shape"
   ]
  },
  {
   "cell_type": "code",
   "execution_count": 0,
   "metadata": {
    "colab": {},
    "colab_type": "code",
    "id": "KE-boR362LNy"
   },
   "outputs": [],
   "source": [
    "set(train_X_scaled.columns) ^ set(train_X_encoded.columns)"
   ]
  },
  {
   "cell_type": "code",
   "execution_count": 180,
   "metadata": {
    "colab": {
     "base_uri": "https://localhost:8080/",
     "height": 316
    },
    "colab_type": "code",
    "id": "r7TfO0EPpfbn",
    "outputId": "17abb10b-8846-4f60-8d1c-b431f366ba45"
   },
   "outputs": [
    {
     "data": {
      "text/html": [
       "<div>\n",
       "<style scoped>\n",
       "    .dataframe tbody tr th:only-of-type {\n",
       "        vertical-align: middle;\n",
       "    }\n",
       "\n",
       "    .dataframe tbody tr th {\n",
       "        vertical-align: top;\n",
       "    }\n",
       "\n",
       "    .dataframe thead th {\n",
       "        text-align: right;\n",
       "    }\n",
       "</style>\n",
       "<table border=\"1\" class=\"dataframe\">\n",
       "  <thead>\n",
       "    <tr style=\"text-align: right;\">\n",
       "      <th></th>\n",
       "      <th>Stars_Obtained</th>\n",
       "      <th>Reciprocated_Reviews</th>\n",
       "      <th>Synopsis_Log_Length</th>\n",
       "      <th>LoggedBookAge</th>\n",
       "      <th>Synopsis0</th>\n",
       "      <th>Synopsis1</th>\n",
       "      <th>Synopsis2</th>\n",
       "      <th>Synopsis3</th>\n",
       "      <th>Synopsis4</th>\n",
       "      <th>Synopsis5</th>\n",
       "      <th>Synopsis6</th>\n",
       "      <th>Synopsis7</th>\n",
       "      <th>Synopsis8</th>\n",
       "      <th>Synopsis9</th>\n",
       "      <th>Synopsis10</th>\n",
       "      <th>Synopsis11</th>\n",
       "      <th>Synopsis12</th>\n",
       "      <th>Synopsis13</th>\n",
       "      <th>Synopsis14</th>\n",
       "      <th>Synopsis15</th>\n",
       "      <th>Synopsis16</th>\n",
       "      <th>Synopsis17</th>\n",
       "      <th>Synopsis18</th>\n",
       "      <th>Synopsis19</th>\n",
       "      <th>Synopsis20</th>\n",
       "      <th>Synopsis21</th>\n",
       "      <th>Synopsis22</th>\n",
       "      <th>Synopsis23</th>\n",
       "      <th>Synopsis24</th>\n",
       "      <th>Synopsis25</th>\n",
       "      <th>Synopsis26</th>\n",
       "      <th>Synopsis27</th>\n",
       "      <th>Synopsis28</th>\n",
       "      <th>Synopsis29</th>\n",
       "      <th>Synopsis30</th>\n",
       "      <th>Synopsis31</th>\n",
       "      <th>Synopsis32</th>\n",
       "      <th>Synopsis33</th>\n",
       "      <th>Synopsis34</th>\n",
       "      <th>Synopsis35</th>\n",
       "      <th>Synopsis36</th>\n",
       "      <th>Synopsis37</th>\n",
       "      <th>Synopsis38</th>\n",
       "      <th>Synopsis39</th>\n",
       "      <th>Synopsis40</th>\n",
       "      <th>Synopsis41</th>\n",
       "      <th>Synopsis42</th>\n",
       "      <th>Synopsis43</th>\n",
       "      <th>Synopsis44</th>\n",
       "      <th>Synopsis45</th>\n",
       "      <th>Synopsis46</th>\n",
       "      <th>Synopsis47</th>\n",
       "      <th>Synopsis48</th>\n",
       "      <th>Synopsis49</th>\n",
       "      <th>Genre0</th>\n",
       "      <th>Genre1</th>\n",
       "      <th>Genre2</th>\n",
       "      <th>Genre3</th>\n",
       "      <th>Genre4</th>\n",
       "      <th>Genre5</th>\n",
       "      <th>Genre6</th>\n",
       "      <th>Genre7</th>\n",
       "      <th>Genre8</th>\n",
       "      <th>Genre9</th>\n",
       "      <th>Genre10</th>\n",
       "      <th>Genre11</th>\n",
       "      <th>Genre12</th>\n",
       "      <th>Genre13</th>\n",
       "      <th>Genre14</th>\n",
       "      <th>Title0</th>\n",
       "      <th>Title1</th>\n",
       "      <th>Title2</th>\n",
       "      <th>Edition_Type_Blind_Group</th>\n",
       "      <th>BookCategory</th>\n",
       "      <th>Month</th>\n",
       "      <th>Wk_day</th>\n",
       "      <th>Yr_wk</th>\n",
       "      <th>Outlier</th>\n",
       "    </tr>\n",
       "  </thead>\n",
       "  <tbody>\n",
       "    <tr>\n",
       "      <th>0</th>\n",
       "      <td>-0.442603</td>\n",
       "      <td>-0.531185</td>\n",
       "      <td>-0.108461</td>\n",
       "      <td>-0.388247</td>\n",
       "      <td>1.160383</td>\n",
       "      <td>0.368820</td>\n",
       "      <td>0.087158</td>\n",
       "      <td>1.757200</td>\n",
       "      <td>-2.016013</td>\n",
       "      <td>-1.155640</td>\n",
       "      <td>1.114840</td>\n",
       "      <td>0.719716</td>\n",
       "      <td>-1.190154</td>\n",
       "      <td>-0.094460</td>\n",
       "      <td>0.173405</td>\n",
       "      <td>-0.276366</td>\n",
       "      <td>0.105210</td>\n",
       "      <td>-0.729637</td>\n",
       "      <td>-0.843529</td>\n",
       "      <td>0.839983</td>\n",
       "      <td>1.748529</td>\n",
       "      <td>0.187650</td>\n",
       "      <td>0.468996</td>\n",
       "      <td>-0.028084</td>\n",
       "      <td>-0.026070</td>\n",
       "      <td>0.021067</td>\n",
       "      <td>-0.891195</td>\n",
       "      <td>0.172496</td>\n",
       "      <td>-0.251990</td>\n",
       "      <td>-0.310757</td>\n",
       "      <td>0.616581</td>\n",
       "      <td>-0.860282</td>\n",
       "      <td>-0.553477</td>\n",
       "      <td>0.311469</td>\n",
       "      <td>-0.171319</td>\n",
       "      <td>0.435711</td>\n",
       "      <td>0.004619</td>\n",
       "      <td>-0.323428</td>\n",
       "      <td>0.125205</td>\n",
       "      <td>-0.401063</td>\n",
       "      <td>0.054485</td>\n",
       "      <td>-0.420716</td>\n",
       "      <td>0.254622</td>\n",
       "      <td>0.798009</td>\n",
       "      <td>-0.178754</td>\n",
       "      <td>-1.167372</td>\n",
       "      <td>1.370678</td>\n",
       "      <td>-0.171856</td>\n",
       "      <td>0.160122</td>\n",
       "      <td>0.636025</td>\n",
       "      <td>-0.332618</td>\n",
       "      <td>0.436972</td>\n",
       "      <td>-0.756995</td>\n",
       "      <td>-0.777713</td>\n",
       "      <td>2.355914</td>\n",
       "      <td>-0.268363</td>\n",
       "      <td>-0.464605</td>\n",
       "      <td>-0.418506</td>\n",
       "      <td>-0.139059</td>\n",
       "      <td>-0.225928</td>\n",
       "      <td>0.098029</td>\n",
       "      <td>-0.147257</td>\n",
       "      <td>-0.151296</td>\n",
       "      <td>-0.160916</td>\n",
       "      <td>-0.344551</td>\n",
       "      <td>-0.187150</td>\n",
       "      <td>-0.109094</td>\n",
       "      <td>-0.161416</td>\n",
       "      <td>-0.038639</td>\n",
       "      <td>0.875397</td>\n",
       "      <td>0.372228</td>\n",
       "      <td>1.502171</td>\n",
       "      <td>Paperback</td>\n",
       "      <td>Action &amp; Adventure</td>\n",
       "      <td>Mar</td>\n",
       "      <td>4</td>\n",
       "      <td>10</td>\n",
       "      <td>1</td>\n",
       "    </tr>\n",
       "    <tr>\n",
       "      <th>1</th>\n",
       "      <td>-0.593558</td>\n",
       "      <td>-0.687017</td>\n",
       "      <td>0.424686</td>\n",
       "      <td>0.411257</td>\n",
       "      <td>-0.134744</td>\n",
       "      <td>-0.281355</td>\n",
       "      <td>0.315351</td>\n",
       "      <td>-0.345443</td>\n",
       "      <td>0.104567</td>\n",
       "      <td>-0.291053</td>\n",
       "      <td>0.348624</td>\n",
       "      <td>0.059794</td>\n",
       "      <td>0.484002</td>\n",
       "      <td>-0.006973</td>\n",
       "      <td>0.565605</td>\n",
       "      <td>0.475405</td>\n",
       "      <td>0.486538</td>\n",
       "      <td>0.109993</td>\n",
       "      <td>0.210421</td>\n",
       "      <td>-0.350680</td>\n",
       "      <td>-0.060362</td>\n",
       "      <td>-0.481510</td>\n",
       "      <td>0.960066</td>\n",
       "      <td>-0.814110</td>\n",
       "      <td>-0.751373</td>\n",
       "      <td>0.020920</td>\n",
       "      <td>1.437422</td>\n",
       "      <td>-0.789514</td>\n",
       "      <td>0.523843</td>\n",
       "      <td>0.555979</td>\n",
       "      <td>0.225299</td>\n",
       "      <td>-0.247321</td>\n",
       "      <td>-0.608261</td>\n",
       "      <td>-0.693164</td>\n",
       "      <td>-0.862986</td>\n",
       "      <td>0.077743</td>\n",
       "      <td>0.616299</td>\n",
       "      <td>0.374416</td>\n",
       "      <td>0.387308</td>\n",
       "      <td>0.324643</td>\n",
       "      <td>0.865542</td>\n",
       "      <td>0.658080</td>\n",
       "      <td>-0.139890</td>\n",
       "      <td>0.097500</td>\n",
       "      <td>-0.245344</td>\n",
       "      <td>0.204679</td>\n",
       "      <td>-0.861045</td>\n",
       "      <td>-1.350735</td>\n",
       "      <td>0.079781</td>\n",
       "      <td>1.922770</td>\n",
       "      <td>-1.810888</td>\n",
       "      <td>0.074346</td>\n",
       "      <td>-0.332976</td>\n",
       "      <td>0.250011</td>\n",
       "      <td>-0.365978</td>\n",
       "      <td>-0.268347</td>\n",
       "      <td>-0.146161</td>\n",
       "      <td>-0.170838</td>\n",
       "      <td>-0.094414</td>\n",
       "      <td>-0.226011</td>\n",
       "      <td>-0.287304</td>\n",
       "      <td>-0.142568</td>\n",
       "      <td>-0.105980</td>\n",
       "      <td>-0.166052</td>\n",
       "      <td>0.446161</td>\n",
       "      <td>1.395709</td>\n",
       "      <td>-0.423067</td>\n",
       "      <td>6.663278</td>\n",
       "      <td>-5.214580</td>\n",
       "      <td>-0.314338</td>\n",
       "      <td>-0.869942</td>\n",
       "      <td>-1.172808</td>\n",
       "      <td>Paperback</td>\n",
       "      <td>Biographies, Diaries &amp; True Accounts</td>\n",
       "      <td>Nov</td>\n",
       "      <td>3</td>\n",
       "      <td>45</td>\n",
       "      <td>1</td>\n",
       "    </tr>\n",
       "    <tr>\n",
       "      <th>2</th>\n",
       "      <td>0.765038</td>\n",
       "      <td>-0.409982</td>\n",
       "      <td>0.935873</td>\n",
       "      <td>2.208484</td>\n",
       "      <td>1.157198</td>\n",
       "      <td>-0.574072</td>\n",
       "      <td>-0.213553</td>\n",
       "      <td>-2.592443</td>\n",
       "      <td>4.287884</td>\n",
       "      <td>2.521589</td>\n",
       "      <td>9.027630</td>\n",
       "      <td>1.216580</td>\n",
       "      <td>-4.286874</td>\n",
       "      <td>-0.570450</td>\n",
       "      <td>-1.461115</td>\n",
       "      <td>-1.762182</td>\n",
       "      <td>0.444996</td>\n",
       "      <td>-0.320648</td>\n",
       "      <td>1.087403</td>\n",
       "      <td>0.095605</td>\n",
       "      <td>0.722974</td>\n",
       "      <td>0.446503</td>\n",
       "      <td>-0.339510</td>\n",
       "      <td>0.372609</td>\n",
       "      <td>0.411151</td>\n",
       "      <td>-0.087355</td>\n",
       "      <td>-0.494787</td>\n",
       "      <td>-0.179958</td>\n",
       "      <td>-0.330621</td>\n",
       "      <td>-0.582042</td>\n",
       "      <td>-0.239343</td>\n",
       "      <td>0.041426</td>\n",
       "      <td>0.235013</td>\n",
       "      <td>1.165924</td>\n",
       "      <td>0.056913</td>\n",
       "      <td>-0.508189</td>\n",
       "      <td>0.294666</td>\n",
       "      <td>0.760113</td>\n",
       "      <td>-0.733948</td>\n",
       "      <td>0.106296</td>\n",
       "      <td>-0.558765</td>\n",
       "      <td>-0.109937</td>\n",
       "      <td>0.128422</td>\n",
       "      <td>0.074982</td>\n",
       "      <td>0.558276</td>\n",
       "      <td>-0.102366</td>\n",
       "      <td>-0.006183</td>\n",
       "      <td>0.498101</td>\n",
       "      <td>-1.236640</td>\n",
       "      <td>0.264136</td>\n",
       "      <td>-0.761333</td>\n",
       "      <td>-0.339082</td>\n",
       "      <td>-0.820781</td>\n",
       "      <td>-0.456520</td>\n",
       "      <td>-0.481039</td>\n",
       "      <td>-0.268362</td>\n",
       "      <td>-0.299546</td>\n",
       "      <td>-0.322692</td>\n",
       "      <td>-0.122481</td>\n",
       "      <td>-0.225919</td>\n",
       "      <td>0.045958</td>\n",
       "      <td>-0.147553</td>\n",
       "      <td>-0.149851</td>\n",
       "      <td>-0.154325</td>\n",
       "      <td>-0.291344</td>\n",
       "      <td>-0.123340</td>\n",
       "      <td>-0.111883</td>\n",
       "      <td>-0.088605</td>\n",
       "      <td>-0.015990</td>\n",
       "      <td>0.066303</td>\n",
       "      <td>-2.247909</td>\n",
       "      <td>4.946421</td>\n",
       "      <td>Paperback</td>\n",
       "      <td>Humour</td>\n",
       "      <td>Feb</td>\n",
       "      <td>4</td>\n",
       "      <td>8</td>\n",
       "      <td>1</td>\n",
       "    </tr>\n",
       "    <tr>\n",
       "      <th>3</th>\n",
       "      <td>-0.291648</td>\n",
       "      <td>-0.671035</td>\n",
       "      <td>-0.994651</td>\n",
       "      <td>-0.720071</td>\n",
       "      <td>-0.699766</td>\n",
       "      <td>0.269090</td>\n",
       "      <td>-1.022542</td>\n",
       "      <td>0.209936</td>\n",
       "      <td>0.400061</td>\n",
       "      <td>0.133587</td>\n",
       "      <td>-0.171298</td>\n",
       "      <td>0.313213</td>\n",
       "      <td>-0.220532</td>\n",
       "      <td>-0.098071</td>\n",
       "      <td>-0.108922</td>\n",
       "      <td>1.335190</td>\n",
       "      <td>-0.453405</td>\n",
       "      <td>-0.286818</td>\n",
       "      <td>0.036023</td>\n",
       "      <td>-1.437289</td>\n",
       "      <td>1.170641</td>\n",
       "      <td>0.542432</td>\n",
       "      <td>0.806517</td>\n",
       "      <td>-0.251269</td>\n",
       "      <td>-0.009728</td>\n",
       "      <td>-0.755333</td>\n",
       "      <td>-1.528279</td>\n",
       "      <td>-0.250655</td>\n",
       "      <td>0.755458</td>\n",
       "      <td>-0.417653</td>\n",
       "      <td>-1.023845</td>\n",
       "      <td>-0.610048</td>\n",
       "      <td>-1.097435</td>\n",
       "      <td>-0.170166</td>\n",
       "      <td>0.616886</td>\n",
       "      <td>0.101587</td>\n",
       "      <td>-0.073244</td>\n",
       "      <td>-0.672308</td>\n",
       "      <td>1.286826</td>\n",
       "      <td>0.757897</td>\n",
       "      <td>-0.025915</td>\n",
       "      <td>0.165441</td>\n",
       "      <td>-0.307453</td>\n",
       "      <td>0.670787</td>\n",
       "      <td>1.006853</td>\n",
       "      <td>-0.033299</td>\n",
       "      <td>0.195847</td>\n",
       "      <td>1.049445</td>\n",
       "      <td>-0.446046</td>\n",
       "      <td>-0.472565</td>\n",
       "      <td>-0.303231</td>\n",
       "      <td>-1.006358</td>\n",
       "      <td>-0.833635</td>\n",
       "      <td>0.887292</td>\n",
       "      <td>-0.480754</td>\n",
       "      <td>-0.268365</td>\n",
       "      <td>-0.294995</td>\n",
       "      <td>-0.249184</td>\n",
       "      <td>-0.168320</td>\n",
       "      <td>4.719286</td>\n",
       "      <td>0.056956</td>\n",
       "      <td>-0.147390</td>\n",
       "      <td>-0.156433</td>\n",
       "      <td>-0.153139</td>\n",
       "      <td>-0.318430</td>\n",
       "      <td>-0.166138</td>\n",
       "      <td>-0.120303</td>\n",
       "      <td>-0.110652</td>\n",
       "      <td>-0.041179</td>\n",
       "      <td>-0.273265</td>\n",
       "      <td>-0.772346</td>\n",
       "      <td>0.728899</td>\n",
       "      <td>Paperback</td>\n",
       "      <td>Crime, Thriller &amp; Mystery</td>\n",
       "      <td>Oct</td>\n",
       "      <td>4</td>\n",
       "      <td>40</td>\n",
       "      <td>1</td>\n",
       "    </tr>\n",
       "    <tr>\n",
       "      <th>4</th>\n",
       "      <td>1.066948</td>\n",
       "      <td>2.014075</td>\n",
       "      <td>-0.475802</td>\n",
       "      <td>1.056740</td>\n",
       "      <td>0.007532</td>\n",
       "      <td>-0.207545</td>\n",
       "      <td>-0.545019</td>\n",
       "      <td>-0.941566</td>\n",
       "      <td>0.440735</td>\n",
       "      <td>0.470083</td>\n",
       "      <td>0.090419</td>\n",
       "      <td>0.019644</td>\n",
       "      <td>-0.423352</td>\n",
       "      <td>1.064970</td>\n",
       "      <td>3.150089</td>\n",
       "      <td>-1.941633</td>\n",
       "      <td>1.189794</td>\n",
       "      <td>1.798594</td>\n",
       "      <td>0.344981</td>\n",
       "      <td>-0.298313</td>\n",
       "      <td>-0.428340</td>\n",
       "      <td>0.216947</td>\n",
       "      <td>-1.249529</td>\n",
       "      <td>-0.176233</td>\n",
       "      <td>0.832757</td>\n",
       "      <td>0.167305</td>\n",
       "      <td>-1.110245</td>\n",
       "      <td>0.462263</td>\n",
       "      <td>-0.472548</td>\n",
       "      <td>-0.232649</td>\n",
       "      <td>0.008484</td>\n",
       "      <td>0.773791</td>\n",
       "      <td>-0.376776</td>\n",
       "      <td>-0.264187</td>\n",
       "      <td>0.668210</td>\n",
       "      <td>0.343849</td>\n",
       "      <td>-0.535448</td>\n",
       "      <td>-0.724170</td>\n",
       "      <td>0.108854</td>\n",
       "      <td>0.579433</td>\n",
       "      <td>-1.073901</td>\n",
       "      <td>0.165580</td>\n",
       "      <td>-0.192171</td>\n",
       "      <td>0.338847</td>\n",
       "      <td>0.670081</td>\n",
       "      <td>-0.344023</td>\n",
       "      <td>-0.463207</td>\n",
       "      <td>-0.692586</td>\n",
       "      <td>0.099977</td>\n",
       "      <td>-0.205570</td>\n",
       "      <td>0.250238</td>\n",
       "      <td>2.181950</td>\n",
       "      <td>-2.487475</td>\n",
       "      <td>0.917355</td>\n",
       "      <td>-0.481317</td>\n",
       "      <td>-0.268389</td>\n",
       "      <td>-0.300288</td>\n",
       "      <td>-0.322832</td>\n",
       "      <td>-0.122819</td>\n",
       "      <td>-0.226491</td>\n",
       "      <td>0.003586</td>\n",
       "      <td>-0.049369</td>\n",
       "      <td>-0.032549</td>\n",
       "      <td>-0.074626</td>\n",
       "      <td>-0.063562</td>\n",
       "      <td>-0.130282</td>\n",
       "      <td>-0.037178</td>\n",
       "      <td>0.035446</td>\n",
       "      <td>-0.397350</td>\n",
       "      <td>-0.576938</td>\n",
       "      <td>0.139956</td>\n",
       "      <td>-0.297047</td>\n",
       "      <td>Hardcover</td>\n",
       "      <td>Arts, Film &amp; Photography</td>\n",
       "      <td>Oct</td>\n",
       "      <td>2</td>\n",
       "      <td>41</td>\n",
       "      <td>1</td>\n",
       "    </tr>\n",
       "  </tbody>\n",
       "</table>\n",
       "</div>"
      ],
      "text/plain": [
       "   Stars_Obtained  Reciprocated_Reviews  ...  Yr_wk  Outlier\n",
       "0       -0.442603             -0.531185  ...     10        1\n",
       "1       -0.593558             -0.687017  ...     45        1\n",
       "2        0.765038             -0.409982  ...      8        1\n",
       "3       -0.291648             -0.671035  ...     40        1\n",
       "4        1.066948              2.014075  ...     41        1\n",
       "\n",
       "[5 rows x 78 columns]"
      ]
     },
     "execution_count": 180,
     "metadata": {
      "tags": []
     },
     "output_type": "execute_result"
    },
    {
     "data": {
      "text/plain": [
       "(6237, 78)"
      ]
     },
     "execution_count": 180,
     "metadata": {
      "tags": []
     },
     "output_type": "execute_result"
    }
   ],
   "source": [
    "train_X_scaled['Outlier'] = train_X_encoded['Outlier']\n",
    "test_X_scaled['Outlier'] = test_X_encoded['Outlier']\n",
    "train_X_scaled.head()\n",
    "train_X_scaled.shape"
   ]
  },
  {
   "cell_type": "code",
   "execution_count": 146,
   "metadata": {
    "colab": {
     "base_uri": "https://localhost:8080/",
     "height": 333
    },
    "colab_type": "code",
    "id": "OFrZNm1Cp6_l",
    "outputId": "5f81bf0a-7cf6-4019-c5eb-53e2db8ac2e9"
   },
   "outputs": [
    {
     "data": {
      "text/html": [
       "<div>\n",
       "<style scoped>\n",
       "    .dataframe tbody tr th:only-of-type {\n",
       "        vertical-align: middle;\n",
       "    }\n",
       "\n",
       "    .dataframe tbody tr th {\n",
       "        vertical-align: top;\n",
       "    }\n",
       "\n",
       "    .dataframe thead th {\n",
       "        text-align: right;\n",
       "    }\n",
       "</style>\n",
       "<table border=\"1\" class=\"dataframe\">\n",
       "  <thead>\n",
       "    <tr style=\"text-align: right;\">\n",
       "      <th></th>\n",
       "      <th>Stars_Obtained</th>\n",
       "      <th>Reciprocated_Reviews</th>\n",
       "      <th>Synopsis_Log_Length</th>\n",
       "      <th>LoggedBookAge</th>\n",
       "      <th>Synopsis0</th>\n",
       "      <th>Synopsis1</th>\n",
       "      <th>Synopsis2</th>\n",
       "      <th>Synopsis3</th>\n",
       "      <th>Synopsis4</th>\n",
       "      <th>Synopsis5</th>\n",
       "      <th>Synopsis6</th>\n",
       "      <th>Synopsis7</th>\n",
       "      <th>Synopsis8</th>\n",
       "      <th>Synopsis9</th>\n",
       "      <th>Synopsis10</th>\n",
       "      <th>Synopsis11</th>\n",
       "      <th>Synopsis12</th>\n",
       "      <th>Synopsis13</th>\n",
       "      <th>Synopsis14</th>\n",
       "      <th>Synopsis15</th>\n",
       "      <th>Synopsis16</th>\n",
       "      <th>Synopsis17</th>\n",
       "      <th>Synopsis18</th>\n",
       "      <th>Synopsis19</th>\n",
       "      <th>Synopsis20</th>\n",
       "      <th>Synopsis21</th>\n",
       "      <th>Synopsis22</th>\n",
       "      <th>Synopsis23</th>\n",
       "      <th>Synopsis24</th>\n",
       "      <th>Synopsis25</th>\n",
       "      <th>Synopsis26</th>\n",
       "      <th>Synopsis27</th>\n",
       "      <th>Synopsis28</th>\n",
       "      <th>Synopsis29</th>\n",
       "      <th>Synopsis30</th>\n",
       "      <th>Synopsis31</th>\n",
       "      <th>Synopsis32</th>\n",
       "      <th>Synopsis33</th>\n",
       "      <th>Synopsis34</th>\n",
       "      <th>Synopsis35</th>\n",
       "      <th>Synopsis36</th>\n",
       "      <th>Synopsis37</th>\n",
       "      <th>Synopsis38</th>\n",
       "      <th>Synopsis39</th>\n",
       "      <th>Synopsis40</th>\n",
       "      <th>Synopsis41</th>\n",
       "      <th>Synopsis42</th>\n",
       "      <th>Synopsis43</th>\n",
       "      <th>Synopsis44</th>\n",
       "      <th>Synopsis45</th>\n",
       "      <th>Synopsis46</th>\n",
       "      <th>Synopsis47</th>\n",
       "      <th>Synopsis48</th>\n",
       "      <th>Synopsis49</th>\n",
       "      <th>Genre0</th>\n",
       "      <th>Genre1</th>\n",
       "      <th>Genre2</th>\n",
       "      <th>Genre3</th>\n",
       "      <th>Genre4</th>\n",
       "      <th>Genre5</th>\n",
       "      <th>Genre6</th>\n",
       "      <th>Genre7</th>\n",
       "      <th>Genre8</th>\n",
       "      <th>Genre9</th>\n",
       "      <th>Genre10</th>\n",
       "      <th>Genre11</th>\n",
       "      <th>Genre12</th>\n",
       "      <th>Genre13</th>\n",
       "      <th>Genre14</th>\n",
       "      <th>Title0</th>\n",
       "      <th>Title1</th>\n",
       "      <th>Title2</th>\n",
       "      <th>Edition_Type_Blind_Group</th>\n",
       "      <th>BookCategory</th>\n",
       "      <th>Month</th>\n",
       "      <th>Wk_day</th>\n",
       "      <th>Yr_wk</th>\n",
       "      <th>Outlier</th>\n",
       "    </tr>\n",
       "  </thead>\n",
       "  <tbody>\n",
       "    <tr>\n",
       "      <th>0</th>\n",
       "      <td>0.161217</td>\n",
       "      <td>-0.891764</td>\n",
       "      <td>1.332930</td>\n",
       "      <td>2.080192</td>\n",
       "      <td>0.664046</td>\n",
       "      <td>-0.049558</td>\n",
       "      <td>0.128965</td>\n",
       "      <td>0.537971</td>\n",
       "      <td>0.258051</td>\n",
       "      <td>-1.018578</td>\n",
       "      <td>1.042377</td>\n",
       "      <td>-0.639798</td>\n",
       "      <td>0.466618</td>\n",
       "      <td>0.139290</td>\n",
       "      <td>0.688408</td>\n",
       "      <td>0.294938</td>\n",
       "      <td>-0.054667</td>\n",
       "      <td>0.527294</td>\n",
       "      <td>-0.684154</td>\n",
       "      <td>-0.853019</td>\n",
       "      <td>-0.008253</td>\n",
       "      <td>-0.998780</td>\n",
       "      <td>1.160093</td>\n",
       "      <td>0.742924</td>\n",
       "      <td>-1.048680</td>\n",
       "      <td>0.952548</td>\n",
       "      <td>0.008197</td>\n",
       "      <td>-0.280482</td>\n",
       "      <td>-0.344154</td>\n",
       "      <td>0.276940</td>\n",
       "      <td>0.824575</td>\n",
       "      <td>-1.500778</td>\n",
       "      <td>-1.511881</td>\n",
       "      <td>-1.781559</td>\n",
       "      <td>-0.508360</td>\n",
       "      <td>0.190204</td>\n",
       "      <td>0.238079</td>\n",
       "      <td>-0.209289</td>\n",
       "      <td>4.117393</td>\n",
       "      <td>0.061952</td>\n",
       "      <td>2.150685</td>\n",
       "      <td>-0.770413</td>\n",
       "      <td>0.754423</td>\n",
       "      <td>0.545267</td>\n",
       "      <td>1.107664</td>\n",
       "      <td>1.246859</td>\n",
       "      <td>-1.157576</td>\n",
       "      <td>0.629453</td>\n",
       "      <td>-2.201589</td>\n",
       "      <td>0.370309</td>\n",
       "      <td>1.517721</td>\n",
       "      <td>-0.293056</td>\n",
       "      <td>-0.978033</td>\n",
       "      <td>-0.488795</td>\n",
       "      <td>-0.481370</td>\n",
       "      <td>-0.268361</td>\n",
       "      <td>-0.300579</td>\n",
       "      <td>-0.323799</td>\n",
       "      <td>-0.122864</td>\n",
       "      <td>-0.225520</td>\n",
       "      <td>0.053363</td>\n",
       "      <td>-0.141944</td>\n",
       "      <td>-0.115133</td>\n",
       "      <td>-0.184914</td>\n",
       "      <td>-0.322612</td>\n",
       "      <td>-0.119260</td>\n",
       "      <td>-0.085098</td>\n",
       "      <td>-0.206619</td>\n",
       "      <td>0.059768</td>\n",
       "      <td>-0.105871</td>\n",
       "      <td>0.499556</td>\n",
       "      <td>-0.043594</td>\n",
       "      <td>Mass Market Paperback</td>\n",
       "      <td>Crime, Thriller &amp; Mystery</td>\n",
       "      <td>Oct</td>\n",
       "      <td>3</td>\n",
       "      <td>40</td>\n",
       "      <td>1</td>\n",
       "    </tr>\n",
       "    <tr>\n",
       "      <th>1</th>\n",
       "      <td>1.066948</td>\n",
       "      <td>2.014075</td>\n",
       "      <td>1.277486</td>\n",
       "      <td>-1.187751</td>\n",
       "      <td>-0.333334</td>\n",
       "      <td>-0.471318</td>\n",
       "      <td>1.237290</td>\n",
       "      <td>-0.525578</td>\n",
       "      <td>0.040595</td>\n",
       "      <td>0.896300</td>\n",
       "      <td>-1.004144</td>\n",
       "      <td>-0.367592</td>\n",
       "      <td>-0.236125</td>\n",
       "      <td>-0.342318</td>\n",
       "      <td>-1.132015</td>\n",
       "      <td>-0.918462</td>\n",
       "      <td>-0.325736</td>\n",
       "      <td>-1.524219</td>\n",
       "      <td>-0.738665</td>\n",
       "      <td>-1.347443</td>\n",
       "      <td>-0.280021</td>\n",
       "      <td>0.521182</td>\n",
       "      <td>-0.816442</td>\n",
       "      <td>1.626044</td>\n",
       "      <td>-0.209636</td>\n",
       "      <td>0.178116</td>\n",
       "      <td>0.243485</td>\n",
       "      <td>0.163126</td>\n",
       "      <td>0.454924</td>\n",
       "      <td>-0.422831</td>\n",
       "      <td>0.047273</td>\n",
       "      <td>1.481695</td>\n",
       "      <td>0.047947</td>\n",
       "      <td>-0.609749</td>\n",
       "      <td>-0.154648</td>\n",
       "      <td>-0.311337</td>\n",
       "      <td>-0.783823</td>\n",
       "      <td>0.301101</td>\n",
       "      <td>0.531556</td>\n",
       "      <td>0.503300</td>\n",
       "      <td>-0.117616</td>\n",
       "      <td>0.525487</td>\n",
       "      <td>0.183802</td>\n",
       "      <td>0.427046</td>\n",
       "      <td>-0.611234</td>\n",
       "      <td>0.385917</td>\n",
       "      <td>0.895825</td>\n",
       "      <td>1.132476</td>\n",
       "      <td>1.315459</td>\n",
       "      <td>0.155412</td>\n",
       "      <td>-1.295288</td>\n",
       "      <td>-0.196777</td>\n",
       "      <td>-0.598925</td>\n",
       "      <td>-1.515383</td>\n",
       "      <td>-0.480865</td>\n",
       "      <td>-0.268363</td>\n",
       "      <td>-0.298990</td>\n",
       "      <td>-0.321950</td>\n",
       "      <td>-0.122369</td>\n",
       "      <td>-0.225900</td>\n",
       "      <td>0.038745</td>\n",
       "      <td>-0.105643</td>\n",
       "      <td>-0.131868</td>\n",
       "      <td>-0.144859</td>\n",
       "      <td>-0.257034</td>\n",
       "      <td>-0.126644</td>\n",
       "      <td>-0.094848</td>\n",
       "      <td>-0.076050</td>\n",
       "      <td>-0.086846</td>\n",
       "      <td>-0.119881</td>\n",
       "      <td>-1.002324</td>\n",
       "      <td>-1.353465</td>\n",
       "      <td>Paperback</td>\n",
       "      <td>Computing, Internet &amp; Digital Media</td>\n",
       "      <td>Apr</td>\n",
       "      <td>4</td>\n",
       "      <td>17</td>\n",
       "      <td>1</td>\n",
       "    </tr>\n",
       "    <tr>\n",
       "      <th>2</th>\n",
       "      <td>1.066948</td>\n",
       "      <td>-0.167577</td>\n",
       "      <td>0.325733</td>\n",
       "      <td>0.547112</td>\n",
       "      <td>0.926956</td>\n",
       "      <td>0.374357</td>\n",
       "      <td>-0.976766</td>\n",
       "      <td>0.818150</td>\n",
       "      <td>-1.075072</td>\n",
       "      <td>-0.446458</td>\n",
       "      <td>-0.267263</td>\n",
       "      <td>0.926658</td>\n",
       "      <td>-0.847219</td>\n",
       "      <td>-0.334187</td>\n",
       "      <td>-1.003223</td>\n",
       "      <td>-0.423115</td>\n",
       "      <td>0.095648</td>\n",
       "      <td>0.207644</td>\n",
       "      <td>0.053965</td>\n",
       "      <td>0.286454</td>\n",
       "      <td>-0.721919</td>\n",
       "      <td>-0.423008</td>\n",
       "      <td>-0.180418</td>\n",
       "      <td>-0.330459</td>\n",
       "      <td>-0.231348</td>\n",
       "      <td>-0.321024</td>\n",
       "      <td>-0.039117</td>\n",
       "      <td>-0.326658</td>\n",
       "      <td>0.414875</td>\n",
       "      <td>0.122310</td>\n",
       "      <td>0.077618</td>\n",
       "      <td>1.325179</td>\n",
       "      <td>-0.319423</td>\n",
       "      <td>-0.332559</td>\n",
       "      <td>0.439174</td>\n",
       "      <td>-0.203515</td>\n",
       "      <td>0.336429</td>\n",
       "      <td>1.038488</td>\n",
       "      <td>-0.900709</td>\n",
       "      <td>-0.218892</td>\n",
       "      <td>-0.327961</td>\n",
       "      <td>-0.159075</td>\n",
       "      <td>0.233252</td>\n",
       "      <td>-0.133353</td>\n",
       "      <td>-0.327938</td>\n",
       "      <td>-0.046172</td>\n",
       "      <td>-0.346563</td>\n",
       "      <td>-0.211788</td>\n",
       "      <td>0.395042</td>\n",
       "      <td>-0.140171</td>\n",
       "      <td>-0.159033</td>\n",
       "      <td>-0.121387</td>\n",
       "      <td>-0.385130</td>\n",
       "      <td>-0.139139</td>\n",
       "      <td>-0.481476</td>\n",
       "      <td>3.726317</td>\n",
       "      <td>-0.300906</td>\n",
       "      <td>-0.324407</td>\n",
       "      <td>-0.122808</td>\n",
       "      <td>-0.225894</td>\n",
       "      <td>0.051510</td>\n",
       "      <td>-0.146895</td>\n",
       "      <td>-0.148970</td>\n",
       "      <td>-0.156706</td>\n",
       "      <td>-0.306749</td>\n",
       "      <td>-0.146647</td>\n",
       "      <td>-0.110719</td>\n",
       "      <td>-0.121745</td>\n",
       "      <td>-0.029607</td>\n",
       "      <td>-0.918463</td>\n",
       "      <td>0.378951</td>\n",
       "      <td>0.030333</td>\n",
       "      <td>Paperback</td>\n",
       "      <td>Romance</td>\n",
       "      <td>Mar</td>\n",
       "      <td>4</td>\n",
       "      <td>11</td>\n",
       "      <td>1</td>\n",
       "    </tr>\n",
       "    <tr>\n",
       "      <th>3</th>\n",
       "      <td>-0.291648</td>\n",
       "      <td>-0.630351</td>\n",
       "      <td>0.407142</td>\n",
       "      <td>-0.388247</td>\n",
       "      <td>0.492538</td>\n",
       "      <td>-0.707755</td>\n",
       "      <td>2.782395</td>\n",
       "      <td>-0.116403</td>\n",
       "      <td>-0.885037</td>\n",
       "      <td>1.122645</td>\n",
       "      <td>-0.916025</td>\n",
       "      <td>0.424436</td>\n",
       "      <td>-1.373121</td>\n",
       "      <td>-0.280385</td>\n",
       "      <td>-1.210723</td>\n",
       "      <td>-0.807345</td>\n",
       "      <td>-1.172186</td>\n",
       "      <td>-1.963330</td>\n",
       "      <td>-1.422960</td>\n",
       "      <td>-1.708001</td>\n",
       "      <td>-0.451001</td>\n",
       "      <td>1.669112</td>\n",
       "      <td>0.149753</td>\n",
       "      <td>1.279582</td>\n",
       "      <td>0.008818</td>\n",
       "      <td>0.389928</td>\n",
       "      <td>-0.684670</td>\n",
       "      <td>0.356718</td>\n",
       "      <td>1.665655</td>\n",
       "      <td>-0.421696</td>\n",
       "      <td>0.403844</td>\n",
       "      <td>2.004774</td>\n",
       "      <td>0.885608</td>\n",
       "      <td>-0.045613</td>\n",
       "      <td>-0.052687</td>\n",
       "      <td>0.708097</td>\n",
       "      <td>-0.742904</td>\n",
       "      <td>-0.233671</td>\n",
       "      <td>1.336633</td>\n",
       "      <td>0.846161</td>\n",
       "      <td>1.715115</td>\n",
       "      <td>-0.448482</td>\n",
       "      <td>-1.234495</td>\n",
       "      <td>-0.305948</td>\n",
       "      <td>-0.279099</td>\n",
       "      <td>-0.087275</td>\n",
       "      <td>-0.506937</td>\n",
       "      <td>-0.834849</td>\n",
       "      <td>-0.472834</td>\n",
       "      <td>-0.587553</td>\n",
       "      <td>0.511716</td>\n",
       "      <td>1.288187</td>\n",
       "      <td>0.081081</td>\n",
       "      <td>-0.496540</td>\n",
       "      <td>-0.394599</td>\n",
       "      <td>-0.268361</td>\n",
       "      <td>-0.191685</td>\n",
       "      <td>-0.220119</td>\n",
       "      <td>-0.103766</td>\n",
       "      <td>-0.225945</td>\n",
       "      <td>-0.131672</td>\n",
       "      <td>-0.147582</td>\n",
       "      <td>-0.135130</td>\n",
       "      <td>0.018402</td>\n",
       "      <td>0.061996</td>\n",
       "      <td>0.181426</td>\n",
       "      <td>-0.163953</td>\n",
       "      <td>0.523231</td>\n",
       "      <td>0.422936</td>\n",
       "      <td>-0.572943</td>\n",
       "      <td>-0.387683</td>\n",
       "      <td>-0.844452</td>\n",
       "      <td>Paperback</td>\n",
       "      <td>Computing, Internet &amp; Digital Media</td>\n",
       "      <td>Unknown</td>\n",
       "      <td>Unknown_wk_day</td>\n",
       "      <td>Unknown_yr_wk</td>\n",
       "      <td>1</td>\n",
       "    </tr>\n",
       "    <tr>\n",
       "      <th>4</th>\n",
       "      <td>0.161217</td>\n",
       "      <td>-0.571586</td>\n",
       "      <td>-3.306745</td>\n",
       "      <td>0.547112</td>\n",
       "      <td>-2.494261</td>\n",
       "      <td>-0.238393</td>\n",
       "      <td>0.967356</td>\n",
       "      <td>0.036521</td>\n",
       "      <td>0.272255</td>\n",
       "      <td>0.209450</td>\n",
       "      <td>-0.165232</td>\n",
       "      <td>0.448031</td>\n",
       "      <td>-0.416158</td>\n",
       "      <td>-0.281428</td>\n",
       "      <td>-0.854816</td>\n",
       "      <td>0.735686</td>\n",
       "      <td>-0.231794</td>\n",
       "      <td>1.494124</td>\n",
       "      <td>0.624178</td>\n",
       "      <td>0.739665</td>\n",
       "      <td>-0.402448</td>\n",
       "      <td>0.761763</td>\n",
       "      <td>0.179259</td>\n",
       "      <td>-2.115813</td>\n",
       "      <td>0.569084</td>\n",
       "      <td>2.052203</td>\n",
       "      <td>-0.632621</td>\n",
       "      <td>-0.114063</td>\n",
       "      <td>1.300774</td>\n",
       "      <td>-0.031050</td>\n",
       "      <td>-0.112574</td>\n",
       "      <td>-0.531017</td>\n",
       "      <td>0.754104</td>\n",
       "      <td>0.301287</td>\n",
       "      <td>-1.280358</td>\n",
       "      <td>-0.384574</td>\n",
       "      <td>-0.410343</td>\n",
       "      <td>1.404256</td>\n",
       "      <td>0.674628</td>\n",
       "      <td>0.670671</td>\n",
       "      <td>0.512319</td>\n",
       "      <td>-0.005091</td>\n",
       "      <td>-0.168383</td>\n",
       "      <td>0.377693</td>\n",
       "      <td>-0.520529</td>\n",
       "      <td>-0.413437</td>\n",
       "      <td>-0.255497</td>\n",
       "      <td>0.733044</td>\n",
       "      <td>-0.135076</td>\n",
       "      <td>1.044728</td>\n",
       "      <td>-0.221456</td>\n",
       "      <td>0.453852</td>\n",
       "      <td>-0.258073</td>\n",
       "      <td>-0.028161</td>\n",
       "      <td>-0.480001</td>\n",
       "      <td>-0.268363</td>\n",
       "      <td>-0.294412</td>\n",
       "      <td>-0.298097</td>\n",
       "      <td>-0.131870</td>\n",
       "      <td>-0.226133</td>\n",
       "      <td>0.004902</td>\n",
       "      <td>-0.139880</td>\n",
       "      <td>-0.154279</td>\n",
       "      <td>-0.042342</td>\n",
       "      <td>1.305840</td>\n",
       "      <td>-0.641983</td>\n",
       "      <td>-0.117035</td>\n",
       "      <td>0.470196</td>\n",
       "      <td>1.317685</td>\n",
       "      <td>-0.579145</td>\n",
       "      <td>-0.350213</td>\n",
       "      <td>-0.241924</td>\n",
       "      <td>Paperback</td>\n",
       "      <td>Language, Linguistics &amp; Writing</td>\n",
       "      <td>Dec</td>\n",
       "      <td>1</td>\n",
       "      <td>52</td>\n",
       "      <td>1</td>\n",
       "    </tr>\n",
       "  </tbody>\n",
       "</table>\n",
       "</div>"
      ],
      "text/plain": [
       "   Stars_Obtained  Reciprocated_Reviews  ...          Yr_wk  Outlier\n",
       "0        0.161217             -0.891764  ...             40        1\n",
       "1        1.066948              2.014075  ...             17        1\n",
       "2        1.066948             -0.167577  ...             11        1\n",
       "3       -0.291648             -0.630351  ...  Unknown_yr_wk        1\n",
       "4        0.161217             -0.571586  ...             52        1\n",
       "\n",
       "[5 rows x 78 columns]"
      ]
     },
     "execution_count": 146,
     "metadata": {
      "tags": []
     },
     "output_type": "execute_result"
    }
   ],
   "source": [
    "test_X_scaled.head()"
   ]
  },
  {
   "cell_type": "code",
   "execution_count": 147,
   "metadata": {
    "colab": {
     "base_uri": "https://localhost:8080/",
     "height": 67
    },
    "colab_type": "code",
    "id": "hBf3qV10qFYj",
    "outputId": "c5536909-2de3-4b68-c2e3-68eed81d3d25"
   },
   "outputs": [
    {
     "data": {
      "text/plain": [
       " 1    1482\n",
       "-1      78\n",
       "Name: Outlier, dtype: int64"
      ]
     },
     "execution_count": 147,
     "metadata": {
      "tags": []
     },
     "output_type": "execute_result"
    }
   ],
   "source": [
    "test_X_scaled['Outlier'].value_counts()"
   ]
  },
  {
   "cell_type": "code",
   "execution_count": 0,
   "metadata": {
    "colab": {},
    "colab_type": "code",
    "id": "8LbxnDnsBA0Q"
   },
   "outputs": [],
   "source": [
    "# train_rnd_idx = np.random.permutation(train_X_encoded.shape[0])\n",
    "# test_rnd_idx = np.random.permutation(test_X_encoded.shape[0])\n",
    "# train_X_encoded = train_X_encoded.iloc[train_rnd_idx,:]\n",
    "# train_Y = train_Y[train_rnd_idx]\n",
    "# test_X_encoded = test_X_encoded.iloc[test_rnd_idx,:]"
   ]
  },
  {
   "cell_type": "code",
   "execution_count": 0,
   "metadata": {
    "colab": {},
    "colab_type": "code",
    "id": "OaXq5YktBA0S"
   },
   "outputs": [],
   "source": [
    "# train_X_encoded.head()\n",
    "# train_Y"
   ]
  },
  {
   "cell_type": "code",
   "execution_count": 0,
   "metadata": {
    "colab": {},
    "colab_type": "code",
    "id": "3afuHyeSxKta"
   },
   "outputs": [],
   "source": [
    "train_X_encoded['Outlier']= train_X_encoded['Outlier'].apply(lambda x: 0 if x==-1 else x)\n",
    "test_X_encoded['Outlier']= test_X_encoded['Outlier'].apply(lambda x: 0 if x==-1 else x)"
   ]
  },
  {
   "cell_type": "markdown",
   "metadata": {
    "colab_type": "text",
    "id": "cW2XFqqcEq5Y"
   },
   "source": [
    "## Model Feature Selection - Couldn't finish"
   ]
  },
  {
   "cell_type": "code",
   "execution_count": 0,
   "metadata": {
    "colab": {},
    "colab_type": "code",
    "id": "_zaOHq5gEu8D"
   },
   "outputs": [],
   "source": [
    "from sklearn.feature_selection import SelectFromModel\n",
    "from sklearn.ensemble import RandomForestRegressor\n",
    "select = SelectFromModel(RandomForestRegressor(), threshold=\"median\")"
   ]
  },
  {
   "cell_type": "code",
   "execution_count": 0,
   "metadata": {
    "colab": {},
    "colab_type": "code",
    "id": "vdxSSjCZEuuh"
   },
   "outputs": [],
   "source": []
  },
  {
   "cell_type": "code",
   "execution_count": 0,
   "metadata": {
    "colab": {},
    "colab_type": "code",
    "id": "Z24vMhqUEuiy"
   },
   "outputs": [],
   "source": []
  },
  {
   "cell_type": "markdown",
   "metadata": {
    "colab_type": "text",
    "id": "LiYlF8gDAh3Y"
   },
   "source": [
    "## Features Saving"
   ]
  },
  {
   "cell_type": "code",
   "execution_count": 0,
   "metadata": {
    "colab": {},
    "colab_type": "code",
    "id": "KDs_xOX-Ah3Z"
   },
   "outputs": [],
   "source": [
    "#train_X_encoded , train_Y, test_X_encoded\n",
    "train_X_encoded.to_csv('train_X_encoded.csv', index = False)\n",
    "train_Y.to_csv('train_Y.csv', index = False)\n",
    "test_X_encoded.to_csv('test_X_encoded.csv', index = False)"
   ]
  },
  {
   "cell_type": "code",
   "execution_count": 0,
   "metadata": {
    "colab": {},
    "colab_type": "code",
    "id": "ieHnYmZLAh3a"
   },
   "outputs": [],
   "source": [
    "#train_X_scaled , train_Y, test_X_scaled\n",
    "\n",
    "train_X_scaled.to_csv('train_X_scaled.csv', index = False)\n",
    "# train_Y.to_csv('train_Y.csv', index = False)\n",
    "test_X_scaled.to_csv('test_X_scaled.csv', index = False)"
   ]
  },
  {
   "cell_type": "code",
   "execution_count": 0,
   "metadata": {
    "colab": {},
    "colab_type": "code",
    "id": "mvXqjcIzEZYO"
   },
   "outputs": [],
   "source": [
    "#train_X_encoded , train_Y, test_X_encoded\n",
    "train_X_encoded = pd.read_csv('train_X_encoded.csv')\n",
    "train_Y = pd.read_csv('train_Y.csv')\n",
    "test_X_encoded = pd.read_csv('test_X_encoded.csv')"
   ]
  },
  {
   "cell_type": "code",
   "execution_count": 0,
   "metadata": {
    "colab": {},
    "colab_type": "code",
    "id": "6cQKwGwOEncu"
   },
   "outputs": [],
   "source": [
    "train_X_scaled = pd.read_csv('train_X_scaled.csv')\n",
    "test_X_scaled = pd.read_csv('test_X_scaled.csv')"
   ]
  },
  {
   "cell_type": "markdown",
   "metadata": {
    "colab_type": "text",
    "id": "wgwvu1Qh5_Zv"
   },
   "source": [
    "## Dimension Reduction - Didn't work"
   ]
  },
  {
   "cell_type": "code",
   "execution_count": 0,
   "metadata": {
    "colab": {},
    "colab_type": "code",
    "id": "NEQv_-nX5-0j"
   },
   "outputs": [],
   "source": [
    "# from sklearn.decomposition import PCA\n",
    "# #Fitting the PCA algorithm with our Data\n",
    "# pca = PCA().fit(train_X_encoded)\n",
    "# #Plotting the Cumulative Summation of the Explained Variance\n",
    "# plt.figure()\n",
    "# plt.plot(np.cumsum(pca.explained_variance_ratio_))\n",
    "# plt.xlabel('Number of Components')\n",
    "# plt.ylabel('Variance (%)') #for each component\n",
    "# plt.title('Book Data')\n",
    "# plt.show()"
   ]
  },
  {
   "cell_type": "code",
   "execution_count": 0,
   "metadata": {
    "colab": {},
    "colab_type": "code",
    "id": "4ZAeAbPf6TTc"
   },
   "outputs": [],
   "source": [
    "# pca = PCA(n_components=100)\n",
    "# train_X_encoded = pca.fit_transform(train_X_encoded)\n",
    "# test_X_encoded = pca.fit_transform(test_X_encoded)\n",
    "# pd.DataFrame(test_X_encoded).head()"
   ]
  },
  {
   "cell_type": "markdown",
   "metadata": {
    "colab_type": "text",
    "id": "xTFM3w8kdcVa"
   },
   "source": [
    "# Model Building and Prediction"
   ]
  },
  {
   "cell_type": "markdown",
   "metadata": {
    "colab_type": "text",
    "id": "CqiXRWemAh3e"
   },
   "source": [
    "## Model Building"
   ]
  },
  {
   "cell_type": "code",
   "execution_count": 155,
   "metadata": {
    "colab": {
     "base_uri": "https://localhost:8080/",
     "height": 34
    },
    "colab_type": "code",
    "id": "6IAuh21_OR7O",
    "outputId": "db941679-50d6-4764-9eca-e73f39a45cf0"
   },
   "outputs": [
    {
     "data": {
      "text/plain": [
       "(6237, 100)"
      ]
     },
     "execution_count": 155,
     "metadata": {
      "tags": []
     },
     "output_type": "execute_result"
    }
   ],
   "source": [
    "train_X_encoded.shape"
   ]
  },
  {
   "cell_type": "code",
   "execution_count": 156,
   "metadata": {
    "colab": {
     "base_uri": "https://localhost:8080/",
     "height": 430
    },
    "colab_type": "code",
    "id": "UTU7xSdOAh3g",
    "outputId": "59733742-c578-4f6a-cb24-89a7e93bd83b"
   },
   "outputs": [
    {
     "name": "stdout",
     "output_type": "stream",
     "text": [
      "CV Results R2 Score for lsvm: 0.4334723875783424 +- 0.00931905260311148\n",
      "CV Results R2 Score for nsvm: 0.4999998620610666 +- 0.009269854046536052\n",
      "CV Results R2 Score for rr: 0.4457817583461716 +- 0.013695952394734444\n",
      "CV Results R2 Score for lar: -0.0011035102553490124 +- 0.0008141083204209646\n",
      "[15:13:27] WARNING: /workspace/src/objective/regression_obj.cu:152: reg:linear is now deprecated in favor of reg:squarederror.\n",
      "[15:13:30] WARNING: /workspace/src/objective/regression_obj.cu:152: reg:linear is now deprecated in favor of reg:squarederror.\n",
      "[15:13:32] WARNING: /workspace/src/objective/regression_obj.cu:152: reg:linear is now deprecated in favor of reg:squarederror.\n",
      "CV Results R2 Score for xgb: 0.4352129657917936 +- 0.01207649200570294\n",
      "CV Results R2 Score for svm: 0.5009549427746491 +- 0.00835946687901823\n",
      "CV Results R2 Score for lr: 0.4457530858615329 +- 0.013689782098802226\n",
      "CV Results R2 Score for rf: 0.38818981789374857 +- 0.00988030903572056\n",
      "CV Results R2 Score for abr: 0.26559338432068785 +- 0.024142718879104935\n",
      "CV Results R2 Score for bagr: 0.38640401818506476 +- 0.010112839532039225\n",
      "CV Results R2 Score for gbr: 0.43714741553462605 +- 0.011520251144327249\n"
     ]
    },
    {
     "data": {
      "text/html": [
       "<div>\n",
       "<style scoped>\n",
       "    .dataframe tbody tr th:only-of-type {\n",
       "        vertical-align: middle;\n",
       "    }\n",
       "\n",
       "    .dataframe tbody tr th {\n",
       "        vertical-align: top;\n",
       "    }\n",
       "\n",
       "    .dataframe thead th {\n",
       "        text-align: right;\n",
       "    }\n",
       "</style>\n",
       "<table border=\"1\" class=\"dataframe\">\n",
       "  <thead>\n",
       "    <tr style=\"text-align: right;\">\n",
       "      <th></th>\n",
       "      <th>Name</th>\n",
       "      <th>R2</th>\n",
       "      <th>MSE</th>\n",
       "      <th>MSLE</th>\n",
       "    </tr>\n",
       "  </thead>\n",
       "  <tbody>\n",
       "    <tr>\n",
       "      <th>5</th>\n",
       "      <td>svm</td>\n",
       "      <td>0.500955</td>\n",
       "      <td>0.290693</td>\n",
       "      <td>0.005907</td>\n",
       "    </tr>\n",
       "    <tr>\n",
       "      <th>1</th>\n",
       "      <td>nsvm</td>\n",
       "      <td>0.500000</td>\n",
       "      <td>0.291293</td>\n",
       "      <td>0.005914</td>\n",
       "    </tr>\n",
       "    <tr>\n",
       "      <th>2</th>\n",
       "      <td>rr</td>\n",
       "      <td>0.445782</td>\n",
       "      <td>0.323000</td>\n",
       "      <td>0.006615</td>\n",
       "    </tr>\n",
       "    <tr>\n",
       "      <th>6</th>\n",
       "      <td>lr</td>\n",
       "      <td>0.445753</td>\n",
       "      <td>0.323017</td>\n",
       "      <td>0.006615</td>\n",
       "    </tr>\n",
       "    <tr>\n",
       "      <th>10</th>\n",
       "      <td>gbr</td>\n",
       "      <td>0.437147</td>\n",
       "      <td>0.327880</td>\n",
       "      <td>0.006667</td>\n",
       "    </tr>\n",
       "  </tbody>\n",
       "</table>\n",
       "</div>"
      ],
      "text/plain": [
       "    Name        R2       MSE      MSLE\n",
       "5    svm  0.500955  0.290693  0.005907\n",
       "1   nsvm  0.500000  0.291293  0.005914\n",
       "2     rr  0.445782  0.323000  0.006615\n",
       "6     lr  0.445753  0.323017  0.006615\n",
       "10   gbr  0.437147  0.327880  0.006667"
      ]
     },
     "execution_count": 156,
     "metadata": {
      "tags": []
     },
     "output_type": "execute_result"
    }
   ],
   "source": [
    "from xgboost import XGBRegressor\n",
    "from sklearn.svm import SVR,LinearSVR,NuSVR\n",
    "from sklearn.tree import DecisionTreeRegressor,ExtraTreeRegressor\n",
    "from sklearn.gaussian_process import GaussianProcessRegressor \n",
    "from sklearn.linear_model import LinearRegression,Ridge,Lasso\n",
    "from sklearn.ensemble import RandomForestRegressor,AdaBoostRegressor,BaggingRegressor,GradientBoostingRegressor\n",
    "from sklearn.neural_network import MLPRegressor\n",
    "from sklearn.model_selection import cross_validate\n",
    "\n",
    "models = {\n",
    "    # 'mlpr': MLPRegressor(hidden_layer_sizes=(100,120,150,130,100,80,50,30,),solver='sgd', learning_rate='adaptive',max_iter=1000,\\\n",
    "    #                      random_state=0, verbose=2, tol=0.000001,n_iter_no_change=50, power_t=0.05,early_stopping=True,validation_fraction=0.2,\\\n",
    "    #                warm_start=False)#0.374493086301902 \n",
    "    'rr':Ridge(),#0.3293336660287577 \n",
    "    'lar':Lasso(),#0.5830478862414608 \n",
    "    'xgb':XGBRegressor(),#0.3099474523225229\n",
    "          'svm': SVR(),#0.2908028723982849\n",
    "          # 'dt': DecisionTreeRegressor(),#0.6410570380730012 \n",
    "          'lr': LinearRegression(),#0.32934398180795094 \n",
    "          'rf':RandomForestRegressor(),#0.3266918789880107 \n",
    "         }\n",
    "\n",
    "cv_results_df = pd.DataFrame(columns = ['Name','R2','MSE','MSLE'])\n",
    "for name,model in models.items():\n",
    "    cv_results = cross_validate(model, train_X_encoded, train_Y, cv=3, scoring=('r2','neg_mean_squared_log_error', 'neg_mean_squared_error'),)\n",
    "    print('CV Results R2 Score for {2}: {0} +- {1}'.format(cv_results['test_r2'].mean(),cv_results['test_r2'].std(), name))\n",
    "    # print('CV Results MSE for {2}: {0} +- {1}'.format(-cv_results['test_neg_mean_squared_error'].mean(),cv_results['test_neg_mean_squared_error'].std(), name))\n",
    "    # print('CV Results MSLE for {2}: {0} +- {1}'.format(-cv_results['test_neg_mean_squared_log_error'].mean(),cv_results['test_neg_mean_squared_log_error'].std(), name))\n",
    "    cv_results_df = cv_results_df.append( {'Name':name,'R2':cv_results['test_r2'].mean(),\n",
    "                           'MSE':-cv_results['test_neg_mean_squared_error'].mean(),\n",
    "                           'MSLE':-cv_results['test_neg_mean_squared_log_error'].mean()},ignore_index= True )\n",
    "\n",
    "cv_results_df.sort_values('MSE').head()\n",
    "\n",
    "# CV Results R2 Score for rr: 0.4468160827090018 +- 0.014280907199275723\n",
    "# CV Results R2 Score for lar: -0.0011035102553490124 +- 0.0008141083204209646\n",
    "# CV Results R2 Score for xgb: 0.4739180052213543 +- 0.011400554669106708\n",
    "# CV Results R2 Score for svm: 0.5005404835593726 +- 0.008529576524118752\n",
    "# CV Results R2 Score for lr: 0.44671240474768137 +- 0.014332731978036875\n",
    "# CV Results R2 Score for rf: 0.4433383149523383 +- 0.01767192365929838"
   ]
  },
  {
   "cell_type": "code",
   "execution_count": 157,
   "metadata": {
    "colab": {
     "base_uri": "https://localhost:8080/",
     "height": 893
    },
    "colab_type": "code",
    "id": "LxZiHU8BAh3n",
    "outputId": "1fedacaf-425b-434b-b2dd-09a2f27bc141",
    "scrolled": true
   },
   "outputs": [
    {
     "name": "stdout",
     "output_type": "stream",
     "text": [
      "[15:15:55] WARNING: /workspace/src/objective/regression_obj.cu:152: reg:linear is now deprecated in favor of reg:squarederror.\n"
     ]
    },
    {
     "data": {
      "text/plain": [
       "XGBRegressor(base_score=0.5, booster='gbtree', colsample_bylevel=1,\n",
       "             colsample_bynode=1, colsample_bytree=1, gamma=0,\n",
       "             importance_type='gain', learning_rate=0.1, max_delta_step=0,\n",
       "             max_depth=3, min_child_weight=1, missing=None, n_estimators=100,\n",
       "             n_jobs=1, nthread=None, objective='reg:linear', random_state=0,\n",
       "             reg_alpha=0, reg_lambda=1, scale_pos_weight=1, seed=None,\n",
       "             silent=None, subsample=1, verbosity=1)"
      ]
     },
     "execution_count": 157,
     "metadata": {
      "tags": []
     },
     "output_type": "execute_result"
    },
    {
     "data": {
      "text/plain": [
       "<BarContainer object of 100 artists>"
      ]
     },
     "execution_count": 157,
     "metadata": {
      "tags": []
     },
     "output_type": "execute_result"
    },
    {
     "data": {
      "image/png": "[encoded data removed]",
      "text/plain": [
       "<Figure size 432x288 with 1 Axes>"
      ]
     },
     "metadata": {
      "tags": []
     },
     "output_type": "display_data"
    },
    {
     "name": "stdout",
     "output_type": "stream",
     "text": [
      "Fitting 3 folds for each of 10 candidates, totalling 30 fits\n"
     ]
    },
    {
     "name": "stderr",
     "output_type": "stream",
     "text": [
      "[Parallel(n_jobs=4)]: Using backend LokyBackend with 4 concurrent workers.\n",
      "[Parallel(n_jobs=4)]: Done  30 out of  30 | elapsed:  1.8min finished\n"
     ]
    },
    {
     "name": "stdout",
     "output_type": "stream",
     "text": [
      "[15:17:50] WARNING: /workspace/src/objective/regression_obj.cu:152: reg:linear is now deprecated in favor of reg:squarederror.\n"
     ]
    },
    {
     "data": {
      "text/plain": [
       "RandomizedSearchCV(cv=3, error_score='raise-deprecating',\n",
       "                   estimator=XGBRegressor(base_score=0.5, booster='gbtree',\n",
       "                                          colsample_bylevel=1,\n",
       "                                          colsample_bynode=1,\n",
       "                                          colsample_bytree=1, gamma=0,\n",
       "                                          importance_type='gain',\n",
       "                                          learning_rate=0.1, max_delta_step=0,\n",
       "                                          max_depth=3, min_child_weight=1,\n",
       "                                          missing=None, n_estimators=100,\n",
       "                                          n_jobs=1, nthread=None,\n",
       "                                          objective='reg:linear',\n",
       "                                          random_st...\n",
       "                   iid=False, n_iter=10, n_jobs=4,\n",
       "                   param_distributions={'colsample_bytree': [0.6, 0.7, 0.8,\n",
       "                                                             0.9],\n",
       "                                        'gamma': [0.0, 0.1, 0.2, 0.3, 0.4],\n",
       "                                        'max_depth': range(3, 10, 2),\n",
       "                                        'min_child_weight': range(1, 6, 2),\n",
       "                                        'reg_alpha': [1e-05, 0.01, 0.1, 1, 100],\n",
       "                                        'subsample': [0.6, 0.7, 0.8, 0.9]},\n",
       "                   pre_dispatch='2*n_jobs', random_state=0, refit=True,\n",
       "                   return_train_score=False, scoring='neg_mean_squared_error',\n",
       "                   verbose=3)"
      ]
     },
     "execution_count": 157,
     "metadata": {
      "tags": []
     },
     "output_type": "execute_result"
    },
    {
     "name": "stdout",
     "output_type": "stream",
     "text": [
      "The best params are: {'subsample': 0.9, 'reg_alpha': 0.01, 'min_child_weight': 3, 'max_depth': 9, 'gamma': 0.0, 'colsample_bytree': 0.8}\n",
      " The best score(MSE) is:0.3016703109205973\n"
     ]
    }
   ],
   "source": [
    "model = models['xgb']\n",
    "model.fit(train_X_encoded, train_Y)\n",
    "plt.bar(range(len(model.feature_importances_)), model.feature_importances_)\n",
    "plt.show()\n",
    "\n",
    "params = {\n",
    " 'max_depth':range(3,10,2),\n",
    " 'min_child_weight':range(1,6,2),\n",
    "'gamma':[i/10.0 for i in range(0,5)],\n",
    "    'subsample':[i/10.0 for i in range(6,10)],\n",
    " 'colsample_bytree':[i/10.0 for i in range(6,10)],\n",
    "    'reg_alpha':[1e-5, 1e-2, 0.1, 1, 100]\n",
    "}\n",
    "\n",
    "automl = False\n",
    "normal = True\n",
    "meta = False\n",
    "from sklearn.model_selection import RandomizedSearchCV\n",
    "random_search = RandomizedSearchCV(model,random_state=0,n_jobs =4, param_distributions=params,verbose= 3, cv=3, scoring = 'neg_mean_squared_error',iid=False)\n",
    "random_search.fit(train_X_encoded, train_Y)\n",
    "\n",
    "print('The best params are: {0}\\n The best score(MSE) is:{1}'.format(random_search.best_params_,-random_search.best_score_))\n",
    "\n",
    "#  The best score(MSE) is:0.2752193451169078"
   ]
  },
  {
   "cell_type": "code",
   "execution_count": 161,
   "metadata": {
    "colab": {
     "base_uri": "https://localhost:8080/",
     "height": 67
    },
    "colab_type": "code",
    "id": "dSRVS8bxkA12",
    "outputId": "bea25107-9a38-4158-f2a9-efd98abce686"
   },
   "outputs": [
    {
     "data": {
      "text/plain": [
       "SVR(C=1.0, cache_size=200, coef0=0.0, degree=3, epsilon=0.1,\n",
       "    gamma='auto_deprecated', kernel='rbf', max_iter=-1, shrinking=True,\n",
       "    tol=0.001, verbose=False)"
      ]
     },
     "execution_count": 161,
     "metadata": {
      "tags": []
     },
     "output_type": "execute_result"
    }
   ],
   "source": [
    "automl = False\n",
    "normal = True\n",
    "meta = False\n",
    "# random_search = False\n",
    "\n",
    "random_search = models['svm']\n",
    "random_search.fit(train_X_encoded, train_Y)"
   ]
  },
  {
   "cell_type": "code",
   "execution_count": 0,
   "metadata": {
    "colab": {},
    "colab_type": "code",
    "id": "PoU0NhBoV0m-"
   },
   "outputs": [],
   "source": [
    "C_range = np.logspace(-2, 10, 13)\n",
    "gamma_range = np.logspace(-9, 3, 13)\n",
    "param_grid = dict(gamma=gamma_range, C=C_range)\n",
    "# param_grid = {'C': [0.001, 0.01, 0.1, 1, 10, 100],\n",
    "# 'gamma': [0.001, 0.01, 0.1, 1, 10, 100]}\n",
    "\n",
    "# param_grid ={'C': [0.1, 1, 10, 100, 1000],  \n",
    "#               'gamma': [1, 0.1, 0.01, 0.001, 0.0001]}\n",
    "# cv = StratifiedShuffleSplit(n_splits=5, test_size=0.2, random_state=42)\n",
    "random_search2 = RandomizedSearchCV(SVR(), param_distributions=param_grid, n_iter=5, cv=3,n_jobs= 5, scoring = 'neg_mean_squared_error',verbose =10)\n",
    "random_search2.fit(train_X_encoded, train_Y)\n",
    "\n",
    "print('The best params are: {0}\\n The best score(MSE) is:{1}'.format(random_search2.best_params_,-random_search2.best_score_))"
   ]
  },
  {
   "cell_type": "code",
   "execution_count": 0,
   "metadata": {
    "colab": {
     "base_uri": "https://localhost:8080/",
     "height": 70
    },
    "colab_type": "code",
    "id": "Hl0K_hzJYCa7",
    "outputId": "fe3e6fcb-390e-4bb0-e316-d0765b209635"
   },
   "outputs": [
    {
     "name": "stdout",
     "output_type": "stream",
     "text": [
      "The best params are: {'n_estimators': 1200, 'min_samples_split': 5, 'min_samples_leaf': 2, 'max_features': 'sqrt', 'max_depth': 40, 'bootstrap': False}\n",
      " The best score(MSE) is:0.2857141662335108\n"
     ]
    }
   ],
   "source": [
    "automl = False\n",
    "normal = True\n",
    "meta = False\n",
    "\n",
    "# Number of trees in random forest\n",
    "n_estimators = [int(x) for x in np.linspace(start = 200, stop = 2000, num = 10)]\n",
    "# Number of features to consider at every split\n",
    "max_features = ['auto', 'sqrt']\n",
    "# Maximum number of levels in tree\n",
    "max_depth = [int(x) for x in np.linspace(10, 110, num = 11)]\n",
    "max_depth.append(None)\n",
    "# Minimum number of samples required to split a node\n",
    "min_samples_split = [2, 5, 10]\n",
    "# Minimum number of samples required at each leaf node\n",
    "min_samples_leaf = [1, 2, 4]\n",
    "# Method of selecting samples for training each tree\n",
    "bootstrap = [True, False]\n",
    "# Create the random grid\n",
    "random_grid = {'n_estimators': n_estimators,\n",
    "               'max_features': max_features,\n",
    "               'max_depth': max_depth,\n",
    "               'min_samples_split': min_samples_split,\n",
    "               'min_samples_leaf': min_samples_leaf,\n",
    "               'bootstrap': bootstrap}\n",
    "\n",
    "random_search = RandomizedSearchCV(RandomForestRegressor(), param_distributions=random_grid, cv=3,n_jobs=-1,verbose= 3,scoring = 'neg_mean_squared_error')\n",
    "random_search.fit(train_X_encoded, train_Y)\n",
    "\n",
    "print('The best params are: {0}\\n The best score(MSE) is:{1}'.format(random_search.best_params_,-random_search.best_score_))\n"
   ]
  },
  {
   "cell_type": "markdown",
   "metadata": {
    "colab_type": "text",
    "id": "0LXeYLiLH1-W"
   },
   "source": [
    "## Model Building Using AutoML"
   ]
  },
  {
   "cell_type": "code",
   "execution_count": 129,
   "metadata": {
    "colab": {
     "base_uri": "https://localhost:8080/",
     "height": 356
    },
    "colab_type": "code",
    "id": "1FHKJf0tIAro",
    "outputId": "5d9dfcec-5dfd-4fee-d120-950f51da1d02"
   },
   "outputs": [
    {
     "name": "stdout",
     "output_type": "stream",
     "text": [
      "Collecting h2o\n",
      "\u001b[?25l  Downloading https://files.pythonhosted.org/packages/64/38/78742b2b34718869e0918b678030e87e081d0aadf859a8356a5fa3840f56/h2o-3.26.0.8.tar.gz (123.6MB)\n",
      "\u001b[K     |████████████████████████████████| 123.6MB 94kB/s \n",
      "\u001b[?25hRequirement already satisfied: requests in /usr/local/lib/python3.6/dist-packages (from h2o) (2.21.0)\n",
      "Requirement already satisfied: tabulate in /usr/local/lib/python3.6/dist-packages (from h2o) (0.8.5)\n",
      "Requirement already satisfied: future in /usr/local/lib/python3.6/dist-packages (from h2o) (0.16.0)\n",
      "Collecting colorama>=0.3.8\n",
      "  Downloading https://files.pythonhosted.org/packages/4f/a6/728666f39bfff1719fc94c481890b2106837da9318031f71a8424b662e12/colorama-0.4.1-py2.py3-none-any.whl\n",
      "Requirement already satisfied: chardet<3.1.0,>=3.0.2 in /usr/local/lib/python3.6/dist-packages (from requests->h2o) (3.0.4)\n",
      "Requirement already satisfied: idna<2.9,>=2.5 in /usr/local/lib/python3.6/dist-packages (from requests->h2o) (2.8)\n",
      "Requirement already satisfied: certifi>=2017.4.17 in /usr/local/lib/python3.6/dist-packages (from requests->h2o) (2019.9.11)\n",
      "Requirement already satisfied: urllib3<1.25,>=1.21.1 in /usr/local/lib/python3.6/dist-packages (from requests->h2o) (1.24.3)\n",
      "Building wheels for collected packages: h2o\n",
      "  Building wheel for h2o (setup.py) ... \u001b[?25l\u001b[?25hdone\n",
      "  Created wheel for h2o: filename=h2o-3.26.0.8-py2.py3-none-any.whl size=123708939 sha256=3cdbd3e96090f7f2695935da94fb8994ef9e44ef3c319059e197909084e1f945\n",
      "  Stored in directory: /root/.cache/pip/wheels/f7/4c/2f/367de2996c0c2621a9e2e19624be0ea0e4b766df3cd597d916\n",
      "Successfully built h2o\n",
      "Installing collected packages: colorama, h2o\n",
      "Successfully installed colorama-0.4.1 h2o-3.26.0.8\n"
     ]
    }
   ],
   "source": [
    "!pip install h2o"
   ]
  },
  {
   "cell_type": "code",
   "execution_count": 165,
   "metadata": {
    "colab": {
     "base_uri": "https://localhost:8080/",
     "height": 456
    },
    "colab_type": "code",
    "id": "oRgRWJbHH50V",
    "outputId": "d66db572-ddb4-450d-b57c-a75e4106fea1"
   },
   "outputs": [
    {
     "name": "stdout",
     "output_type": "stream",
     "text": [
      "Checking whether there is an H2O instance running at http://localhost:54321 . connected.\n"
     ]
    },
    {
     "data": {
      "text/html": [
       "<div style=\"overflow:auto\"><table style=\"width:50%\"><tr><td>H2O cluster uptime:</td>\n",
       "<td>32 mins 23 secs</td></tr>\n",
       "<tr><td>H2O cluster timezone:</td>\n",
       "<td>Etc/UTC</td></tr>\n",
       "<tr><td>H2O data parsing timezone:</td>\n",
       "<td>UTC</td></tr>\n",
       "<tr><td>H2O cluster version:</td>\n",
       "<td>3.26.0.8</td></tr>\n",
       "<tr><td>H2O cluster version age:</td>\n",
       "<td>10 days </td></tr>\n",
       "<tr><td>H2O cluster name:</td>\n",
       "<td>H2O_from_python_unknownUser_ip7lmi</td></tr>\n",
       "<tr><td>H2O cluster total nodes:</td>\n",
       "<td>1</td></tr>\n",
       "<tr><td>H2O cluster free memory:</td>\n",
       "<td>15.94 Gb</td></tr>\n",
       "<tr><td>H2O cluster total cores:</td>\n",
       "<td>2</td></tr>\n",
       "<tr><td>H2O cluster allowed cores:</td>\n",
       "<td>2</td></tr>\n",
       "<tr><td>H2O cluster status:</td>\n",
       "<td>locked, healthy</td></tr>\n",
       "<tr><td>H2O connection url:</td>\n",
       "<td>http://localhost:54321</td></tr>\n",
       "<tr><td>H2O connection proxy:</td>\n",
       "<td>{'http': None, 'https': None}</td></tr>\n",
       "<tr><td>H2O internal security:</td>\n",
       "<td>False</td></tr>\n",
       "<tr><td>H2O API Extensions:</td>\n",
       "<td>Amazon S3, XGBoost, Algos, AutoML, Core V3, TargetEncoder, Core V4</td></tr>\n",
       "<tr><td>Python version:</td>\n",
       "<td>3.6.8 final</td></tr></table></div>"
      ],
      "text/plain": [
       "--------------------------  ------------------------------------------------------------------\n",
       "H2O cluster uptime:         32 mins 23 secs\n",
       "H2O cluster timezone:       Etc/UTC\n",
       "H2O data parsing timezone:  UTC\n",
       "H2O cluster version:        3.26.0.8\n",
       "H2O cluster version age:    10 days\n",
       "H2O cluster name:           H2O_from_python_unknownUser_ip7lmi\n",
       "H2O cluster total nodes:    1\n",
       "H2O cluster free memory:    15.94 Gb\n",
       "H2O cluster total cores:    2\n",
       "H2O cluster allowed cores:  2\n",
       "H2O cluster status:         locked, healthy\n",
       "H2O connection url:         http://localhost:54321\n",
       "H2O connection proxy:       {'http': None, 'https': None}\n",
       "H2O internal security:      False\n",
       "H2O API Extensions:         Amazon S3, XGBoost, Algos, AutoML, Core V3, TargetEncoder, Core V4\n",
       "Python version:             3.6.8 final\n",
       "--------------------------  ------------------------------------------------------------------"
      ]
     },
     "metadata": {
      "tags": []
     },
     "output_type": "display_data"
    }
   ],
   "source": [
    "import h2o\n",
    "from h2o.automl import H2OAutoML\n",
    "\n",
    "h2o.init(max_mem_size='16G')"
   ]
  },
  {
   "cell_type": "code",
   "execution_count": 166,
   "metadata": {
    "colab": {
     "base_uri": "https://localhost:8080/",
     "height": 50
    },
    "colab_type": "code",
    "id": "b2KkicwHH_MH",
    "outputId": "e12219ef-aa54-42b3-c631-202a3eeebfdd"
   },
   "outputs": [
    {
     "name": "stdout",
     "output_type": "stream",
     "text": [
      "Parse progress: |█████████████████████████████████████████████████████████| 100%\n",
      "Parse progress: |█████████████████████████████████████████████████████████| 100%\n"
     ]
    }
   ],
   "source": [
    "train_D = h2o.H2OFrame(train_X_scaled.join(train_Y))\n",
    "test_D = h2o.H2OFrame(test_X_scaled)"
   ]
  },
  {
   "cell_type": "code",
   "execution_count": 167,
   "metadata": {
    "colab": {
     "base_uri": "https://localhost:8080/",
     "height": 34
    },
    "colab_type": "code",
    "id": "liZDj8ooIMom",
    "outputId": "2c8d0aa8-3125-43de-a8e6-fe8c6543acdc"
   },
   "outputs": [
    {
     "data": {
      "text/plain": [
       "['Edition_Type_Blind_Group', 'BookCategory', 'Month', 'Wk_day', 'Yr_wk']"
      ]
     },
     "execution_count": 167,
     "metadata": {
      "tags": []
     },
     "output_type": "execute_result"
    }
   ],
   "source": [
    "cat = list(train_X_scaled.select_dtypes(['object']).columns)\n",
    "cat"
   ]
  },
  {
   "cell_type": "code",
   "execution_count": 0,
   "metadata": {
    "colab": {},
    "colab_type": "code",
    "id": "q08wbNwQIcje"
   },
   "outputs": [],
   "source": [
    "x = list(train_X_scaled.columns)\n",
    "y = 'Logged_Price'\n",
    "# For binary classification, response should be a factor\n",
    "# train_D[y] = train_D[y].asfactor()"
   ]
  },
  {
   "cell_type": "code",
   "execution_count": 169,
   "metadata": {
    "colab": {
     "base_uri": "https://localhost:8080/",
     "height": 34
    },
    "colab_type": "code",
    "id": "4KZ2gYC9IX9E",
    "outputId": "ea3c1c9d-358a-4636-bb59-589c7cc7687b"
   },
   "outputs": [
    {
     "name": "stdout",
     "output_type": "stream",
     "text": [
      "AutoML progress: |████████████████████████████████████████████████████████| 100%\n"
     ]
    }
   ],
   "source": [
    "aml = H2OAutoML(max_models=100, seed=25, max_runtime_secs=60*5)\n",
    "aml.train(x=x, y=y, training_frame=train_D)"
   ]
  },
  {
   "cell_type": "code",
   "execution_count": 170,
   "metadata": {
    "colab": {
     "base_uri": "https://localhost:8080/",
     "height": 158
    },
    "colab_type": "code",
    "id": "3Aw70pzbJ5wc",
    "outputId": "afa1f469-33ae-423b-be86-ee8ea2d0d573"
   },
   "outputs": [
    {
     "data": {
      "text/html": [
       "<table>\n",
       "<thead>\n",
       "<tr><th>model_id                                           </th><th style=\"text-align: right;\">  mean_residual_deviance</th><th style=\"text-align: right;\">    rmse</th><th style=\"text-align: right;\">     mse</th><th style=\"text-align: right;\">     mae</th><th style=\"text-align: right;\">    rmsle</th></tr>\n",
       "</thead>\n",
       "<tbody>\n",
       "<tr><td>StackedEnsemble_AllModels_AutoML_20191028_152154   </td><td style=\"text-align: right;\">                0.258016</td><td style=\"text-align: right;\">0.507953</td><td style=\"text-align: right;\">0.258016</td><td style=\"text-align: right;\">0.364059</td><td style=\"text-align: right;\">0.0723268</td></tr>\n",
       "<tr><td>StackedEnsemble_BestOfFamily_AutoML_20191028_152154</td><td style=\"text-align: right;\">                0.259123</td><td style=\"text-align: right;\">0.509041</td><td style=\"text-align: right;\">0.259123</td><td style=\"text-align: right;\">0.365434</td><td style=\"text-align: right;\">0.0724928</td></tr>\n",
       "<tr><td>XGBoost_2_AutoML_20191028_152154                   </td><td style=\"text-align: right;\">                0.2604  </td><td style=\"text-align: right;\">0.510294</td><td style=\"text-align: right;\">0.2604  </td><td style=\"text-align: right;\">0.365746</td><td style=\"text-align: right;\">0.0726283</td></tr>\n",
       "<tr><td>XGBoost_1_AutoML_20191028_152154                   </td><td style=\"text-align: right;\">                0.262861</td><td style=\"text-align: right;\">0.5127  </td><td style=\"text-align: right;\">0.262861</td><td style=\"text-align: right;\">0.36863 </td><td style=\"text-align: right;\">0.0730143</td></tr>\n",
       "<tr><td>XGBoost_3_AutoML_20191028_152154                   </td><td style=\"text-align: right;\">                0.27176 </td><td style=\"text-align: right;\">0.521306</td><td style=\"text-align: right;\">0.27176 </td><td style=\"text-align: right;\">0.386254</td><td style=\"text-align: right;\">0.0742562</td></tr>\n",
       "<tr><td>GLM_grid_1_AutoML_20191028_152154_model_1          </td><td style=\"text-align: right;\">                0.327838</td><td style=\"text-align: right;\">0.572572</td><td style=\"text-align: right;\">0.327838</td><td style=\"text-align: right;\">0.431871</td><td style=\"text-align: right;\">0.081921 </td></tr>\n",
       "</tbody>\n",
       "</table>"
      ]
     },
     "metadata": {
      "tags": []
     },
     "output_type": "display_data"
    },
    {
     "data": {
      "text/plain": []
     },
     "execution_count": 170,
     "metadata": {
      "tags": []
     },
     "output_type": "execute_result"
    }
   ],
   "source": [
    "lb = aml.leaderboard\n",
    "lb.head(rows=lb.nrows)\n",
    "\n",
    "# StackedEnsemble_AllModels_AutoML_20191028_152154\t0.258016\t0.507953\t0.258016\t0.364059\t0.0723268\n",
    "# StackedEnsemble_BestOfFamily_AutoML_20191028_152154\t0.259123\t0.509041\t0.259123\t0.365434\t0.0724928"
   ]
  },
  {
   "cell_type": "code",
   "execution_count": 171,
   "metadata": {
    "colab": {
     "base_uri": "https://localhost:8080/",
     "height": 34
    },
    "colab_type": "code",
    "id": "kn-O_NbiKVds",
    "outputId": "45780d49-3236-489f-ff4b-f8bcfbbfc0d0"
   },
   "outputs": [
    {
     "name": "stdout",
     "output_type": "stream",
     "text": [
      "stackedensemble prediction progress: |████████████████████████████████████| 100%\n"
     ]
    }
   ],
   "source": [
    "preds = aml.predict(test_D)"
   ]
  },
  {
   "cell_type": "code",
   "execution_count": 0,
   "metadata": {
    "colab": {},
    "colab_type": "code",
    "id": "WnvwVtj-KVCX"
   },
   "outputs": [],
   "source": [
    "y_pred = preds['predict'].as_data_frame().values\n",
    "automl = True\n",
    "normal = False\n",
    "meta = False"
   ]
  },
  {
   "cell_type": "markdown",
   "metadata": {
    "colab_type": "text",
    "id": "-_mG-7aSiDgP"
   },
   "source": [
    "## Meta Model"
   ]
  },
  {
   "cell_type": "code",
   "execution_count": 0,
   "metadata": {
    "colab": {},
    "colab_type": "code",
    "id": "X2UZOTVPiPql"
   },
   "outputs": [],
   "source": [
    "meta_data = pd.DataFrame()\n",
    "meta_data['XGB'] = np.expm1(random_search.predict(train_X_encoded))\n",
    "meta_data['RF'] = np.expm1(random_search3.predict(train_X_encoded))\n",
    "meta_data['SVM'] = np.expm1(random_search2.predict(train_X_encoded))\n",
    "meta_data['target'] = train_Y\n",
    "meta_data.head()"
   ]
  },
  {
   "cell_type": "code",
   "execution_count": 0,
   "metadata": {
    "colab": {},
    "colab_type": "code",
    "id": "7kpqqPxYjP23"
   },
   "outputs": [],
   "source": [
    "meta_data.isna().sum()"
   ]
  },
  {
   "cell_type": "code",
   "execution_count": 0,
   "metadata": {
    "colab": {},
    "colab_type": "code",
    "id": "Fl7dz9Sqiv3e"
   },
   "outputs": [],
   "source": [
    "cols = ['XGB','RF','SVM']\n",
    "meta_scaler = StandardScaler()\n",
    "meta_data_scaled = pd.DataFrame(meta_scaler.fit_transform(meta_data[cols]), columns =cols)\n",
    "meta_data_scaled.head()"
   ]
  },
  {
   "cell_type": "code",
   "execution_count": 0,
   "metadata": {
    "colab": {},
    "colab_type": "code",
    "id": "uHSrUwI-iIkG"
   },
   "outputs": [],
   "source": [
    "meta= True\n",
    "automl = False\n",
    "normal = False\n",
    "\n",
    "# from sklearn.model_selection import RandomizedSearchCV\n",
    "# meta_random_search = RandomizedSearchCV(XGBRegressor(),random_state=0, param_distributions=params, cv=5, scoring = 'neg_mean_squared_error',iid=False)\n",
    "# meta_random_search.fit(meta_data_scaled, train_Y)\n",
    "# print('The best params are: {0}\\n The best score(MSE) is:{1}'.format(meta_random_search.best_params_,-meta_random_search.best_score_))\n",
    "\n",
    "meta_model = LinearRegression()\n",
    "meta_model.fit(meta_data_scaled[['XGB','RF']], train_Y)"
   ]
  },
  {
   "cell_type": "code",
   "execution_count": 0,
   "metadata": {
    "colab": {},
    "colab_type": "code",
    "id": "vQW9EAbfiIXm"
   },
   "outputs": [],
   "source": [
    "meta_test = pd.DataFrame()\n",
    "meta_test['XGB'] = np.expm1(random_search.predict(test_X_encoded))\n",
    "meta_test['SVM'] = np.expm1(random_search2.predict(test_X_encoded))\n",
    "meta_test['RF'] = np.expm1(random_search3.predict(test_X_encoded))\n",
    "meta_test.shape\n",
    "meta_test.head()\n"
   ]
  },
  {
   "cell_type": "code",
   "execution_count": 0,
   "metadata": {
    "colab": {},
    "colab_type": "code",
    "id": "sec4oAd-iII3"
   },
   "outputs": [],
   "source": [
    "meta_test_scaled = pd.DataFrame(meta_scaler.transform(meta_test), columns =cols)\n",
    "meta_test_scaled.head()\n",
    "meta_test_scaled.shape"
   ]
  },
  {
   "cell_type": "code",
   "execution_count": 0,
   "metadata": {
    "colab": {},
    "colab_type": "code",
    "id": "6DKwmBX6iH6x"
   },
   "outputs": [],
   "source": []
  },
  {
   "cell_type": "markdown",
   "metadata": {
    "colab_type": "text",
    "id": "01qWyue1Ah3q"
   },
   "source": [
    "## Evaluation"
   ]
  },
  {
   "cell_type": "code",
   "execution_count": 119,
   "metadata": {
    "colab": {
     "base_uri": "https://localhost:8080/",
     "height": 804
    },
    "colab_type": "code",
    "id": "EGQTxj89Ah31",
    "outputId": "1fec5a0f-4753-425a-e9bf-02ef308e93a2"
   },
   "outputs": [
    {
     "name": "stdout",
     "output_type": "stream",
     "text": [
      "RMSE : 188.17417488878837, RMSLE : 0.1200954404403692, R2 : 0.8896505596376\n"
     ]
    },
    {
     "data": {
      "text/plain": [
       "<Figure size 864x432 with 0 Axes>"
      ]
     },
     "execution_count": 119,
     "metadata": {
      "tags": []
     },
     "output_type": "execute_result"
    },
    {
     "data": {
      "text/plain": [
       "[<matplotlib.lines.Line2D at 0x7faff8505668>]"
      ]
     },
     "execution_count": 119,
     "metadata": {
      "tags": []
     },
     "output_type": "execute_result"
    },
    {
     "data": {
      "text/plain": [
       "[<matplotlib.lines.Line2D at 0x7faff85059e8>]"
      ]
     },
     "execution_count": 119,
     "metadata": {
      "tags": []
     },
     "output_type": "execute_result"
    },
    {
     "data": {
      "text/plain": [
       "<matplotlib.legend.Legend at 0x7faff8505cf8>"
      ]
     },
     "execution_count": 119,
     "metadata": {
      "tags": []
     },
     "output_type": "execute_result"
    },
    {
     "data": {
      "text/plain": [
       "<Figure size 1296x432 with 0 Axes>"
      ]
     },
     "execution_count": 119,
     "metadata": {
      "tags": []
     },
     "output_type": "execute_result"
    },
    {
     "data": {
      "text/plain": [
       "[<matplotlib.lines.Line2D at 0x7faffb763518>]"
      ]
     },
     "execution_count": 119,
     "metadata": {
      "tags": []
     },
     "output_type": "execute_result"
    },
    {
     "data": {
      "text/plain": [
       "<matplotlib.legend.Legend at 0x7faffa64aef0>"
      ]
     },
     "execution_count": 119,
     "metadata": {
      "tags": []
     },
     "output_type": "execute_result"
    },
    {
     "data": {
      "image/png": "[encoded data removed]",
      "text/plain": [
       "<Figure size 864x432 with 1 Axes>"
      ]
     },
     "metadata": {
      "tags": []
     },
     "output_type": "display_data"
    },
    {
     "data": {
      "image/png": "[encoded data removed]",
      "text/plain": [
       "<Figure size 1296x432 with 1 Axes>"
      ]
     },
     "metadata": {
      "tags": []
     },
     "output_type": "display_data"
    }
   ],
   "source": [
    " train_Y_hat = np.expm1(random_search.predict(train_X_encoded))\n",
    "  #  (np.expm1(random_search.predict(test_X_encoded)) + \\\n",
    "  # np.expm1(random_search2.predict(test_X_encoded))+\\\n",
    "  # np.expm1(random_search3.predict(test_X_encoded)))/3\n",
    "\n",
    "# if outlier:\n",
    "#     train_Y_actual = train['Price'][normal_index]\n",
    "# else:\n",
    "#     train_Y_actual = train['Price']\n",
    "print('RMSE : {0}, RMSLE : {1}, R2 : {2}'.format(sqrt(mean_squared_error(train_Y_hat,train['Price'])),\\\n",
    "                                       sqrt(mean_squared_log_error(train_Y_hat,train['Price'])),\\\n",
    "                                                r2_score(train_Y_hat, train['Price'])))\n",
    "\n",
    "# RMSE : 321.77229485404524, RMSLE : 0.1967917810608369, R2 : 0.5137072720695255\n",
    "\n",
    "plt.figure(figsize=(12,6))\n",
    "plt.plot(train_Y_hat[:250],label='Pred')\n",
    "plt.plot(train['Price'][:250], label = 'Original')\n",
    "plt.legend(loc = 'best')\n",
    "\n",
    "diff = [a-b for (a,b) in zip(train_Y_hat,train['Price'])]\n",
    "\n",
    "plt.figure(figsize=(18,6))\n",
    "plt.plot(diff[:250],label='Difference (Predicted - Actual)')\n",
    "plt.legend(loc='best',fontsize= 'x-large')"
   ]
  },
  {
   "cell_type": "markdown",
   "metadata": {
    "colab_type": "text",
    "id": "MnO-pYFuAh32"
   },
   "source": [
    "## Prediction and Submission"
   ]
  },
  {
   "cell_type": "code",
   "execution_count": 173,
   "metadata": {
    "colab": {
     "base_uri": "https://localhost:8080/",
     "height": 34
    },
    "colab_type": "code",
    "id": "HUEDC8jZhYcE",
    "outputId": "c47c5076-2007-411e-81c9-b23b27a74da0"
   },
   "outputs": [
    {
     "data": {
      "text/plain": [
       "(False, True, False)"
      ]
     },
     "execution_count": 173,
     "metadata": {
      "tags": []
     },
     "output_type": "execute_result"
    }
   ],
   "source": [
    "normal, automl, meta"
   ]
  },
  {
   "cell_type": "code",
   "execution_count": 174,
   "metadata": {
    "colab": {
     "base_uri": "https://localhost:8080/",
     "height": 390
    },
    "colab_type": "code",
    "id": "Ia4Dg3irAh36",
    "outputId": "0e208da9-0a4c-4884-a15a-35c624b692a8"
   },
   "outputs": [
    {
     "name": "stdout",
     "output_type": "stream",
     "text": [
      "Predicted using AutoML\n"
     ]
    },
    {
     "data": {
      "text/html": [
       "<div>\n",
       "<style scoped>\n",
       "    .dataframe tbody tr th:only-of-type {\n",
       "        vertical-align: middle;\n",
       "    }\n",
       "\n",
       "    .dataframe tbody tr th {\n",
       "        vertical-align: top;\n",
       "    }\n",
       "\n",
       "    .dataframe thead th {\n",
       "        text-align: right;\n",
       "    }\n",
       "</style>\n",
       "<table border=\"1\" class=\"dataframe\">\n",
       "  <thead>\n",
       "    <tr style=\"text-align: right;\">\n",
       "      <th></th>\n",
       "      <th>Price</th>\n",
       "    </tr>\n",
       "  </thead>\n",
       "  <tbody>\n",
       "    <tr>\n",
       "      <th>0</th>\n",
       "      <td>324.457468</td>\n",
       "    </tr>\n",
       "    <tr>\n",
       "      <th>1</th>\n",
       "      <td>603.295537</td>\n",
       "    </tr>\n",
       "    <tr>\n",
       "      <th>2</th>\n",
       "      <td>961.808643</td>\n",
       "    </tr>\n",
       "    <tr>\n",
       "      <th>3</th>\n",
       "      <td>385.609289</td>\n",
       "    </tr>\n",
       "    <tr>\n",
       "      <th>4</th>\n",
       "      <td>517.046590</td>\n",
       "    </tr>\n",
       "  </tbody>\n",
       "</table>\n",
       "</div>"
      ],
      "text/plain": [
       "        Price\n",
       "0  324.457468\n",
       "1  603.295537\n",
       "2  961.808643\n",
       "3  385.609289\n",
       "4  517.046590"
      ]
     },
     "execution_count": 174,
     "metadata": {
      "tags": []
     },
     "output_type": "execute_result"
    },
    {
     "data": {
      "text/html": [
       "<div>\n",
       "<style scoped>\n",
       "    .dataframe tbody tr th:only-of-type {\n",
       "        vertical-align: middle;\n",
       "    }\n",
       "\n",
       "    .dataframe tbody tr th {\n",
       "        vertical-align: top;\n",
       "    }\n",
       "\n",
       "    .dataframe thead th {\n",
       "        text-align: right;\n",
       "    }\n",
       "</style>\n",
       "<table border=\"1\" class=\"dataframe\">\n",
       "  <thead>\n",
       "    <tr style=\"text-align: right;\">\n",
       "      <th></th>\n",
       "      <th>Price</th>\n",
       "    </tr>\n",
       "  </thead>\n",
       "  <tbody>\n",
       "    <tr>\n",
       "      <th>0</th>\n",
       "      <td>416.807014</td>\n",
       "    </tr>\n",
       "    <tr>\n",
       "      <th>1</th>\n",
       "      <td>1560.667202</td>\n",
       "    </tr>\n",
       "    <tr>\n",
       "      <th>2</th>\n",
       "      <td>311.860967</td>\n",
       "    </tr>\n",
       "    <tr>\n",
       "      <th>3</th>\n",
       "      <td>852.291403</td>\n",
       "    </tr>\n",
       "    <tr>\n",
       "      <th>4</th>\n",
       "      <td>226.574731</td>\n",
       "    </tr>\n",
       "  </tbody>\n",
       "</table>\n",
       "</div>"
      ],
      "text/plain": [
       "         Price\n",
       "0   416.807014\n",
       "1  1560.667202\n",
       "2   311.860967\n",
       "3   852.291403\n",
       "4   226.574731"
      ]
     },
     "execution_count": 174,
     "metadata": {
      "tags": []
     },
     "output_type": "execute_result"
    }
   ],
   "source": [
    "# set(test_X_encoded.columns) ^ set(train_X_encoded.columns)\n",
    "\n",
    "if normal:\n",
    "#     test_Y_hat = 0.7*np.expm1(random_search.predict(test_X_encoded))+0.3*np.expm1(random_search.predict(test_X_encoded)\n",
    "    test_Y_hat = np.expm1(random_search.predict(test_X_encoded))\n",
    "    print('Predicted Using XGB')\n",
    "elif automl:\n",
    "    test_Y_hat = np.expm1(y_pred)\n",
    "    print(\"Predicted using AutoML\")\n",
    "elif meta:\n",
    "    test_Y_hat =np.expm1(meta_model.predict(meta_test_scaled[['XGB','RF']]))\n",
    "    print('Predicted using Meta')\n",
    "submit.head()\n",
    "\n",
    "submit['Price'] = test_Y_hat\n",
    "submit.head()\n",
    "\n",
    "submit.to_excel('submission62.xlsx',index= False)"
   ]
  },
  {
   "cell_type": "markdown",
   "metadata": {
    "colab_type": "text",
    "id": "MFytJxW3Ah3-"
   },
   "source": [
    "## Hacks"
   ]
  },
  {
   "cell_type": "code",
   "execution_count": 175,
   "metadata": {
    "colab": {
     "base_uri": "https://localhost:8080/",
     "height": 407
    },
    "colab_type": "code",
    "id": "8I2W4HMSAh4W",
    "outputId": "2bfab4ab-3728-4e71-9eca-75ff517bda57"
   },
   "outputs": [
    {
     "name": "stdout",
     "output_type": "stream",
     "text": [
      "Total 316 values replaced\n"
     ]
    },
    {
     "data": {
      "text/html": [
       "<div>\n",
       "<style scoped>\n",
       "    .dataframe tbody tr th:only-of-type {\n",
       "        vertical-align: middle;\n",
       "    }\n",
       "\n",
       "    .dataframe tbody tr th {\n",
       "        vertical-align: top;\n",
       "    }\n",
       "\n",
       "    .dataframe thead th {\n",
       "        text-align: right;\n",
       "    }\n",
       "</style>\n",
       "<table border=\"1\" class=\"dataframe\">\n",
       "  <thead>\n",
       "    <tr style=\"text-align: right;\">\n",
       "      <th></th>\n",
       "      <th>Price</th>\n",
       "    </tr>\n",
       "  </thead>\n",
       "  <tbody>\n",
       "    <tr>\n",
       "      <th>0</th>\n",
       "      <td>488.0</td>\n",
       "    </tr>\n",
       "    <tr>\n",
       "      <th>1</th>\n",
       "      <td>-1.0</td>\n",
       "    </tr>\n",
       "    <tr>\n",
       "      <th>2</th>\n",
       "      <td>-1.0</td>\n",
       "    </tr>\n",
       "    <tr>\n",
       "      <th>3</th>\n",
       "      <td>-1.0</td>\n",
       "    </tr>\n",
       "    <tr>\n",
       "      <th>4</th>\n",
       "      <td>-1.0</td>\n",
       "    </tr>\n",
       "  </tbody>\n",
       "</table>\n",
       "</div>"
      ],
      "text/plain": [
       "   Price\n",
       "0  488.0\n",
       "1   -1.0\n",
       "2   -1.0\n",
       "3   -1.0\n",
       "4   -1.0"
      ]
     },
     "execution_count": 175,
     "metadata": {
      "tags": []
     },
     "output_type": "execute_result"
    },
    {
     "data": {
      "text/html": [
       "<div>\n",
       "<style scoped>\n",
       "    .dataframe tbody tr th:only-of-type {\n",
       "        vertical-align: middle;\n",
       "    }\n",
       "\n",
       "    .dataframe tbody tr th {\n",
       "        vertical-align: top;\n",
       "    }\n",
       "\n",
       "    .dataframe thead th {\n",
       "        text-align: right;\n",
       "    }\n",
       "</style>\n",
       "<table border=\"1\" class=\"dataframe\">\n",
       "  <thead>\n",
       "    <tr style=\"text-align: right;\">\n",
       "      <th></th>\n",
       "      <th>Price</th>\n",
       "    </tr>\n",
       "  </thead>\n",
       "  <tbody>\n",
       "    <tr>\n",
       "      <th>0</th>\n",
       "      <td>488.000000</td>\n",
       "    </tr>\n",
       "    <tr>\n",
       "      <th>1</th>\n",
       "      <td>1560.667202</td>\n",
       "    </tr>\n",
       "    <tr>\n",
       "      <th>2</th>\n",
       "      <td>311.860967</td>\n",
       "    </tr>\n",
       "    <tr>\n",
       "      <th>3</th>\n",
       "      <td>852.291403</td>\n",
       "    </tr>\n",
       "    <tr>\n",
       "      <th>4</th>\n",
       "      <td>226.574731</td>\n",
       "    </tr>\n",
       "  </tbody>\n",
       "</table>\n",
       "</div>"
      ],
      "text/plain": [
       "         Price\n",
       "0   488.000000\n",
       "1  1560.667202\n",
       "2   311.860967\n",
       "3   852.291403\n",
       "4   226.574731"
      ]
     },
     "execution_count": 175,
     "metadata": {
      "tags": []
     },
     "output_type": "execute_result"
    },
    {
     "data": {
      "text/plain": [
       "0.07666419890190326"
      ]
     },
     "execution_count": 175,
     "metadata": {
      "tags": []
     },
     "output_type": "execute_result"
    }
   ],
   "source": [
    "if train.index.name!='Title':\n",
    "  train.set_index('Title', inplace =True)\n",
    "\n",
    "# train.head()\n",
    "\n",
    "fake_submission = [-1]*test.shape[0]\n",
    "\n",
    "count = 0\n",
    "for i,title in enumerate(test['Title']):\n",
    "    try:\n",
    "        fake_submission[i] = np.mean(train['Price'][title])\n",
    "        count+=1\n",
    "    except:\n",
    "        fake_submission[i] = -1\n",
    "        \n",
    "print('Total {0} values replaced'.format(count))\n",
    "\n",
    "if train.index.name=='Title':\n",
    "  train.reset_index(inplace =True)\n",
    "# train.head()\n",
    "\n",
    "fake_submission_pd = pd.DataFrame(fake_submission, columns = ['Price'])\n",
    "fake_submission_pd.to_csv('fake_submission.csv', index =False)\n",
    "fake_submission_pd.head()\n",
    "\n",
    "submit2 = pd.read_csv('submission.csv')\n",
    "submit2['Price'] = [hacked if hacked != -1 else float(pred) for (pred, hacked) in zip(test_Y_hat, fake_submission)]\n",
    "submit2.head()\n",
    "\n",
    "submit2.to_excel('submission62_hacked.xlsx', index = False)\n",
    "\n",
    "sqrt(mean_squared_log_error(submit2['Price'],submit['Price']))\n",
    "\n",
    "# 0.08115916199649"
   ]
  },
  {
   "cell_type": "markdown",
   "metadata": {
    "colab_type": "text",
    "id": "oJXuYMFMpeib"
   },
   "source": [
    "## Saving Model"
   ]
  },
  {
   "cell_type": "code",
   "execution_count": 0,
   "metadata": {
    "colab": {},
    "colab_type": "code",
    "id": "chFxMdlkAh4Y"
   },
   "outputs": [],
   "source": [
    "import pickle\n",
    "# now you can save it to a file\n",
    "with open('XGB_RandomSearch.pkl', 'wb') as f:\n",
    "    pickle.dump(random_search, f)\n",
    "\n",
    "with open('SVM_RandomSearch.pkl', 'wb') as f:\n",
    "    pickle.dump(random_search2, f)\n",
    "\n",
    "with open('RF_RandomSearch.pkl', 'wb') as f:\n",
    "    pickle.dump(random_search3, f)\n",
    "\n",
    "# # and later you can load it\n",
    "# with open('filename.pkl', 'rb') as f:\n",
    "#     clf = pickle.load(f)"
   ]
  },
  {
   "cell_type": "code",
   "execution_count": 0,
   "metadata": {
    "colab": {},
    "colab_type": "code",
    "id": "m7MTRwrQp6hp"
   },
   "outputs": [],
   "source": [
    "from google.colab import drive\n",
    "drive.mount('/content/drive')"
   ]
  },
  {
   "cell_type": "code",
   "execution_count": 0,
   "metadata": {
    "colab": {},
    "colab_type": "code",
    "id": "wFxLk-ydp7s2"
   },
   "outputs": [],
   "source": [
    "!mv *.pkl '/content/drive/My Drive/SavedModels/BooksPricePrediction/'\n",
    "!ls '/content/drive/My Drive/SavedModels/BooksPricePrediction/'"
   ]
  },
  {
   "cell_type": "markdown",
   "metadata": {
    "colab_type": "text",
    "id": "qy4d9VchqfaW"
   },
   "source": [
    "## Finished 7th on the leaderboard \n",
    "### Score - 0.7895 (1- RMSLE)\n",
    "### [Leaderboard](https://www.machinehack.com/course/predict-the-price-of-books/leaderboard)"
   ]
  },
  {
   "cell_type": "code",
   "execution_count": null,
   "metadata": {},
   "outputs": [],
   "source": []
  }
 ],
 "metadata": {
  "accelerator": "GPU",
  "colab": {
   "collapsed_sections": [
    "-_mG-7aSiDgP"
   ],
   "name": "Predicting_the_Price_of_a_Book_V3.ipynb",
   "provenance": [],
   "toc_visible": true
  },
  "kernelspec": {
   "display_name": "Python 3",
   "language": "python",
   "name": "python3"
  },
  "language_info": {
   "codemirror_mode": {
    "name": "ipython",
    "version": 3
   },
   "file_extension": ".py",
   "mimetype": "text/x-python",
   "name": "python",
   "nbconvert_exporter": "python",
   "pygments_lexer": "ipython3",
   "version": "3.6.5"
  }
 },
 "nbformat": 4,
 "nbformat_minor": 1
}
